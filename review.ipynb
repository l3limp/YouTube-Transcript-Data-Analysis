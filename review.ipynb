{
 "cells": [
  {
   "cell_type": "code",
   "execution_count": 1,
   "metadata": {},
   "outputs": [],
   "source": [
    "import pandas as pd\n",
    "import datetime"
   ]
  },
  {
   "cell_type": "code",
   "execution_count": 2,
   "metadata": {},
   "outputs": [],
   "source": [
    "df = pd.read_csv('mkbhd.csv')"
   ]
  },
  {
   "cell_type": "code",
   "execution_count": 3,
   "metadata": {},
   "outputs": [],
   "source": [
    "data = pd.DataFrame(columns=['Year', 'Video Count', 'Longest Video Duration', 'Shortest Video Duration', 'Avg Video Duration', 'Avg Words Per Minute', 'Avg Words Per Video', 'Scripts'])\n",
    "scripts = {}"
   ]
  },
  {
   "cell_type": "code",
   "execution_count": 4,
   "metadata": {},
   "outputs": [
    {
     "name": "stderr",
     "output_type": "stream",
     "text": [
      "/var/folders/7p/tb_4l_9923sgw2kfmnx1t0s00000gn/T/ipykernel_4323/1961458481.py:12: FutureWarning: Setting an item of incompatible dtype is deprecated and will raise an error in a future version of pandas. Value '[224187.9]' has dtype incompatible with int64, please explicitly cast to a compatible dtype first.\n",
      "  data.loc[data['Year'] == year, 'Avg Video Duration'] += row[5]/60\n",
      "/var/folders/7p/tb_4l_9923sgw2kfmnx1t0s00000gn/T/ipykernel_4323/1961458481.py:19: FutureWarning: Setting an item of incompatible dtype is deprecated and will raise an error in a future version of pandas. Value '224187.9' has dtype incompatible with int64, please explicitly cast to a compatible dtype first.\n",
      "  data.loc[idx, 'Longest Video Duration'] = row[5]/60\n",
      "/var/folders/7p/tb_4l_9923sgw2kfmnx1t0s00000gn/T/ipykernel_4323/1961458481.py:21: FutureWarning: Setting an item of incompatible dtype is deprecated and will raise an error in a future version of pandas. Value '224187.9' has dtype incompatible with int64, please explicitly cast to a compatible dtype first.\n",
      "  data.loc[idx, 'Shortest Video Duration'] = row[5]/60\n",
      "/var/folders/7p/tb_4l_9923sgw2kfmnx1t0s00000gn/T/ipykernel_4323/1961458481.py:24: FutureWarning: Setting an item of incompatible dtype is deprecated and will raise an error in a future version of pandas. Value '0.007170137609876582' has dtype incompatible with int64, please explicitly cast to a compatible dtype first.\n",
      "  data.loc[idx, 'Avg Words Per Minute'] += ((numOfWords*60)/row[6])\n",
      "/var/folders/7p/tb_4l_9923sgw2kfmnx1t0s00000gn/T/ipykernel_4323/1961458481.py:26: FutureWarning: Setting an item of incompatible dtype is deprecated and will raise an error in a future version of pandas. Value '61.64' has dtype incompatible with int64, please explicitly cast to a compatible dtype first.\n",
      "  data.loc[idx, 'Avg Words Per Video'] += numOfWords\n"
     ]
    }
   ],
   "source": [
    "for row in df.values:\n",
    "\n",
    "    #getting the video count for each year\n",
    "    year = row[3] # published at\n",
    "    year = datetime.datetime.strptime(year, '%Y-%m-%dT%H:%M:%SZ').year\n",
    "    if year not in data['Year'].values:\n",
    "        data.loc[len(data)] = [year, 0, 0, 999999, 0, 0, 0, \"\"]\n",
    "        scripts[year] = []\n",
    "    data.loc[data['Year'] == year, 'Video Count'] += 1\n",
    "\n",
    "    #getting the longest and shortest video duration, also the avg duration\n",
    "    data.loc[data['Year'] == year, 'Avg Video Duration'] += row[5]/60\n",
    "    numOfWords = row[7]\n",
    "\n",
    "    idx = data[data['Year'] == year].index\n",
    "    if(len(idx)>0):\n",
    "        idx = idx[0]\n",
    "        if row[5]/60 > data.loc[idx, 'Longest Video Duration']:\n",
    "            data.loc[idx, 'Longest Video Duration'] = row[5]/60\n",
    "        if row[5]/60 < data.loc[idx, 'Shortest Video Duration']:\n",
    "            data.loc[idx, 'Shortest Video Duration'] = row[5]/60\n",
    "\n",
    "        #getting the avg words per minute\n",
    "        data.loc[idx, 'Avg Words Per Minute'] += ((numOfWords*60)/row[6])\n",
    "        #getting the avg words per video\n",
    "        data.loc[idx, 'Avg Words Per Video'] += numOfWords\n",
    "\n",
    "        #adding the captions\n",
    "        scripts[year].append(str(row[4]))\n",
    "\n",
    "for key, value in scripts.items():\n",
    "    scripts[key] = ' '.join(value)\n",
    "    idx = data[data['Year'] == key].index\n",
    "    if(len(idx)>0):\n",
    "        idx = idx[0]\n",
    "        data.loc[idx, 'Scripts'] = scripts[key]\n",
    "        \n",
    "data['Avg Words Per Video'] /= data['Video Count']\n",
    "data['Avg Words Per Minute'] /= data['Video Count']\n",
    "data['Avg Video Duration'] /= data['Video Count']"
   ]
  },
  {
   "cell_type": "code",
   "execution_count": 5,
   "metadata": {},
   "outputs": [
    {
     "data": {
      "text/html": [
       "<div>\n",
       "<style scoped>\n",
       "    .dataframe tbody tr th:only-of-type {\n",
       "        vertical-align: middle;\n",
       "    }\n",
       "\n",
       "    .dataframe tbody tr th {\n",
       "        vertical-align: top;\n",
       "    }\n",
       "\n",
       "    .dataframe thead th {\n",
       "        text-align: right;\n",
       "    }\n",
       "</style>\n",
       "<table border=\"1\" class=\"dataframe\">\n",
       "  <thead>\n",
       "    <tr style=\"text-align: right;\">\n",
       "      <th></th>\n",
       "      <th>Year</th>\n",
       "      <th>Video Count</th>\n",
       "      <th>Longest Video Duration</th>\n",
       "      <th>Shortest Video Duration</th>\n",
       "      <th>Avg Video Duration</th>\n",
       "      <th>Avg Words Per Minute</th>\n",
       "      <th>Avg Words Per Video</th>\n",
       "      <th>Scripts</th>\n",
       "    </tr>\n",
       "  </thead>\n",
       "  <tbody>\n",
       "    <tr>\n",
       "      <th>0</th>\n",
       "      <td>2024</td>\n",
       "      <td>14</td>\n",
       "      <td>224187.900000</td>\n",
       "      <td>29944.816667</td>\n",
       "      <td>73535.635714</td>\n",
       "      <td>0.262551</td>\n",
       "      <td>539.016857</td>\n",
       "      <td>I'm curious how accurate the step counters are...</td>\n",
       "    </tr>\n",
       "    <tr>\n",
       "      <th>1</th>\n",
       "      <td>2023</td>\n",
       "      <td>44</td>\n",
       "      <td>640761.466667</td>\n",
       "      <td>11921.683333</td>\n",
       "      <td>103612.321970</td>\n",
       "      <td>0.148138</td>\n",
       "      <td>332.212455</td>\n",
       "      <td>so I'm seated on the left side which is not th...</td>\n",
       "    </tr>\n",
       "  </tbody>\n",
       "</table>\n",
       "</div>"
      ],
      "text/plain": [
       "   Year  Video Count  Longest Video Duration  Shortest Video Duration  \\\n",
       "0  2024           14           224187.900000             29944.816667   \n",
       "1  2023           44           640761.466667             11921.683333   \n",
       "\n",
       "   Avg Video Duration  Avg Words Per Minute  Avg Words Per Video  \\\n",
       "0        73535.635714              0.262551           539.016857   \n",
       "1       103612.321970              0.148138           332.212455   \n",
       "\n",
       "                                             Scripts  \n",
       "0  I'm curious how accurate the step counters are...  \n",
       "1  so I'm seated on the left side which is not th...  "
      ]
     },
     "execution_count": 5,
     "metadata": {},
     "output_type": "execute_result"
    }
   ],
   "source": [
    "data.head(2)"
   ]
  },
  {
   "cell_type": "code",
   "execution_count": 6,
   "metadata": {},
   "outputs": [],
   "source": [
    "\n",
    "data.to_csv('Data.csv')"
   ]
  }
 ],
 "metadata": {
  "kernelspec": {
   "display_name": ".venv",
   "language": "python",
   "name": "python3"
  },
  "language_info": {
   "codemirror_mode": {
    "name": "ipython",
    "version": 3
   },
   "file_extension": ".py",
   "mimetype": "text/x-python",
   "name": "python",
   "nbconvert_exporter": "python",
   "pygments_lexer": "ipython3",
   "version": "3.12.3"
  }
 },
 "nbformat": 4,
 "nbformat_minor": 2
}
