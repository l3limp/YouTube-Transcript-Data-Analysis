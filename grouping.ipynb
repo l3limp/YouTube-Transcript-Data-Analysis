{
 "cells": [
  {
   "cell_type": "code",
   "execution_count": 50,
   "metadata": {},
   "outputs": [],
   "source": [
    "import pandas as pd\n",
    "import numpy as np\n",
    "\n",
    "import matplotlib.pyplot as plt"
   ]
  },
  {
   "cell_type": "code",
   "execution_count": 51,
   "metadata": {},
   "outputs": [],
   "source": [
    "# # No need to run this if you have already downloaded it previously\n",
    "# !python -m spacy download en_core_web_lg "
   ]
  },
  {
   "cell_type": "code",
   "execution_count": 52,
   "metadata": {},
   "outputs": [],
   "source": [
    "import spacy\n",
    "nlp = spacy.load('en_core_web_lg')"
   ]
  },
  {
   "cell_type": "code",
   "execution_count": 53,
   "metadata": {},
   "outputs": [],
   "source": [
    "df = pd.read_csv('mkbhd.csv')\n",
    "\n",
    "all_captions = df['Captions'].values"
   ]
  },
  {
   "cell_type": "code",
   "execution_count": 54,
   "metadata": {},
   "outputs": [
    {
     "name": "stderr",
     "output_type": "stream",
     "text": [
      "/Users/vk/Desktop/ML/data/.venv/lib/python3.12/site-packages/huggingface_hub/file_download.py:1132: FutureWarning:\n",
      "\n",
      "`resume_download` is deprecated and will be removed in version 1.0.0. Downloads always resume when possible. If you want to force a new download, use `force_download=True`.\n",
      "\n"
     ]
    }
   ],
   "source": [
    "from sentence_transformers import SentenceTransformer\n",
    "\n",
    "sentence_encoder_model = SentenceTransformer(\"all-MiniLM-L6-v2\")"
   ]
  },
  {
   "cell_type": "code",
   "execution_count": 55,
   "metadata": {},
   "outputs": [
    {
     "data": {
      "application/vnd.jupyter.widget-view+json": {
       "model_id": "9bbec42eb5dd4b8b926680e2cdb6bbc2",
       "version_major": 2,
       "version_minor": 0
      },
      "text/plain": [
       "Batches:   0%|          | 0/36 [00:00<?, ?it/s]"
      ]
     },
     "metadata": {},
     "output_type": "display_data"
    }
   ],
   "source": [
    "embeddings = sentence_encoder_model.encode(all_captions, show_progress_bar=True)"
   ]
  },
  {
   "cell_type": "code",
   "execution_count": 56,
   "metadata": {},
   "outputs": [],
   "source": [
    "df['Full Embeddings']= embeddings.tolist()"
   ]
  },
  {
   "cell_type": "code",
   "execution_count": 57,
   "metadata": {},
   "outputs": [
    {
     "data": {
      "text/html": [
       "<div>\n",
       "<style scoped>\n",
       "    .dataframe tbody tr th:only-of-type {\n",
       "        vertical-align: middle;\n",
       "    }\n",
       "\n",
       "    .dataframe tbody tr th {\n",
       "        vertical-align: top;\n",
       "    }\n",
       "\n",
       "    .dataframe thead th {\n",
       "        text-align: right;\n",
       "    }\n",
       "</style>\n",
       "<table border=\"1\" class=\"dataframe\">\n",
       "  <thead>\n",
       "    <tr style=\"text-align: right;\">\n",
       "      <th></th>\n",
       "      <th>Unnamed: 0</th>\n",
       "      <th>Id</th>\n",
       "      <th>Title</th>\n",
       "      <th>Published At</th>\n",
       "      <th>Captions</th>\n",
       "      <th>View Count</th>\n",
       "      <th>Like Count</th>\n",
       "      <th>Video Duration</th>\n",
       "      <th>CaptionsDuration</th>\n",
       "      <th>WordCount</th>\n",
       "      <th>Words Per Minute</th>\n",
       "      <th>Year</th>\n",
       "      <th>Full Embeddings</th>\n",
       "      <th>umap_embeddings_2dim</th>\n",
       "    </tr>\n",
       "  </thead>\n",
       "  <tbody>\n",
       "    <tr>\n",
       "      <th>0</th>\n",
       "      <td>0</td>\n",
       "      <td>GQkkHtBD1BM</td>\n",
       "      <td>Taking 1000 Steps  In Every Smartwatch!</td>\n",
       "      <td>2024-01-19T23:44:36Z</td>\n",
       "      <td>I'm curious how accurate the step counters are...</td>\n",
       "      <td>13451274</td>\n",
       "      <td>515806</td>\n",
       "      <td>61.640</td>\n",
       "      <td>116.961</td>\n",
       "      <td>152</td>\n",
       "      <td>77.974710</td>\n",
       "      <td>2024</td>\n",
       "      <td>[-0.09249689429998398, -0.05101953074336052, -...</td>\n",
       "      <td>[8.06787395477295, 12.06462287902832]</td>\n",
       "    </tr>\n",
       "    <tr>\n",
       "      <th>1</th>\n",
       "      <td>1</td>\n",
       "      <td>B3szaVzQx0o</td>\n",
       "      <td>Google Pixel 8A Impressions: Just Get The 8!</td>\n",
       "      <td>2024-05-07T16:18:33Z</td>\n",
       "      <td>(bright music)   All right, so there is just o...</td>\n",
       "      <td>2445129</td>\n",
       "      <td>83538</td>\n",
       "      <td>441.624</td>\n",
       "      <td>440.281</td>\n",
       "      <td>1453</td>\n",
       "      <td>198.009907</td>\n",
       "      <td>2024</td>\n",
       "      <td>[-0.0974966511130333, -0.01660434529185295, 0....</td>\n",
       "      <td>[10.185091972351074, 11.051623344421387]</td>\n",
       "    </tr>\n",
       "    <tr>\n",
       "      <th>2</th>\n",
       "      <td>2</td>\n",
       "      <td>8reaJG7z-is</td>\n",
       "      <td>I Visited Apple&amp;#39;s Secret iPhone Testing Labs!</td>\n",
       "      <td>2024-06-07T21:31:09Z</td>\n",
       "      <td>♪ Ah, ah, ah, yeah, yeah ♪ ♪ Ah, ah, ah, yeah,...</td>\n",
       "      <td>2904968</td>\n",
       "      <td>124954</td>\n",
       "      <td>650.129</td>\n",
       "      <td>642.563</td>\n",
       "      <td>2172</td>\n",
       "      <td>202.812798</td>\n",
       "      <td>2024</td>\n",
       "      <td>[-0.06019112467765808, 0.005124949384480715, 0...</td>\n",
       "      <td>[9.357427597045898, 12.37620735168457]</td>\n",
       "    </tr>\n",
       "  </tbody>\n",
       "</table>\n",
       "</div>"
      ],
      "text/plain": [
       "   Unnamed: 0           Id                                              Title  \\\n",
       "0           0  GQkkHtBD1BM            Taking 1000 Steps  In Every Smartwatch!   \n",
       "1           1  B3szaVzQx0o       Google Pixel 8A Impressions: Just Get The 8!   \n",
       "2           2  8reaJG7z-is  I Visited Apple&#39;s Secret iPhone Testing Labs!   \n",
       "\n",
       "           Published At                                           Captions  \\\n",
       "0  2024-01-19T23:44:36Z  I'm curious how accurate the step counters are...   \n",
       "1  2024-05-07T16:18:33Z  (bright music)   All right, so there is just o...   \n",
       "2  2024-06-07T21:31:09Z  ♪ Ah, ah, ah, yeah, yeah ♪ ♪ Ah, ah, ah, yeah,...   \n",
       "\n",
       "   View Count  Like Count  Video Duration  CaptionsDuration  WordCount  \\\n",
       "0    13451274      515806          61.640           116.961        152   \n",
       "1     2445129       83538         441.624           440.281       1453   \n",
       "2     2904968      124954         650.129           642.563       2172   \n",
       "\n",
       "   Words Per Minute  Year                                    Full Embeddings  \\\n",
       "0         77.974710  2024  [-0.09249689429998398, -0.05101953074336052, -...   \n",
       "1        198.009907  2024  [-0.0974966511130333, -0.01660434529185295, 0....   \n",
       "2        202.812798  2024  [-0.06019112467765808, 0.005124949384480715, 0...   \n",
       "\n",
       "                       umap_embeddings_2dim  \n",
       "0     [8.06787395477295, 12.06462287902832]  \n",
       "1  [10.185091972351074, 11.051623344421387]  \n",
       "2    [9.357427597045898, 12.37620735168457]  "
      ]
     },
     "execution_count": 57,
     "metadata": {},
     "output_type": "execute_result"
    }
   ],
   "source": [
    "#do pip 'install umap-learn', and not 'pip install umap'\n",
    "import umap.umap_ as umap\n",
    "import hdbscan\n",
    "\n",
    "# Create embeddings\n",
    "# 5 dimensional for clustering\n",
    "# 2 dimensional for visualisation and plotting\n",
    "\n",
    "umap_embeddings_5dim = umap.UMAP(n_neighbors = 30, min_dist = 0.0, n_components = 30, metric = 'cosine').fit_transform(embeddings)\n",
    "umap_embeddings_2dim = umap.UMAP(n_neighbors = 30, n_components = 2, metric = 'cosine', min_dist = 0.0).fit_transform(embeddings)\n",
    "\n",
    "df[\"umap_embeddings_2dim\"]  = umap_embeddings_2dim.tolist()\n",
    "df.head(3)\n"
   ]
  },
  {
   "cell_type": "code",
   "execution_count": 58,
   "metadata": {},
   "outputs": [
    {
     "name": "stdout",
     "output_type": "stream",
     "text": [
      "{0, 1, 2, 3, 4, 5, 6, 7, 8, 9, 10, 11, 12, -1}\n",
      "14\n"
     ]
    }
   ],
   "source": [
    "cluster_scripts = hdbscan.HDBSCAN(min_cluster_size = 15, metric = 'euclidean', cluster_selection_method = 'eom').fit(umap_embeddings_5dim)\n",
    "\n",
    "print(set(cluster_scripts.labels_))\n",
    "print(len(set(cluster_scripts.labels_)))"
   ]
  },
  {
   "cell_type": "code",
   "execution_count": 59,
   "metadata": {},
   "outputs": [
    {
     "name": "stdout",
     "output_type": "stream",
     "text": [
      "Counter({2: 208, -1: 202, 12: 200, 1: 100, 10: 84, 7: 73, 9: 52, 0: 46, 11: 36, 4: 28, 8: 26, 5: 25, 6: 24, 3: 22})\n"
     ]
    }
   ],
   "source": [
    "from collections import Counter\n",
    "counter = Counter(cluster_scripts.labels_)\n",
    "print(counter)"
   ]
  },
  {
   "cell_type": "code",
   "execution_count": 60,
   "metadata": {},
   "outputs": [],
   "source": [
    "df[\"umap_embeddings_5dim\"]  = umap_embeddings_5dim.tolist()\n",
    "df[\"umap_embeddings_2dim\"]  = umap_embeddings_2dim.tolist()\n",
    "df[\"Cluster Labels\"]  = cluster_scripts.labels_"
   ]
  },
  {
   "cell_type": "code",
   "execution_count": 61,
   "metadata": {},
   "outputs": [
    {
     "name": "stdout",
     "output_type": "stream",
     "text": [
      "(1126, 16)\n",
      "1126\n",
      "1126\n"
     ]
    }
   ],
   "source": [
    "print(df.shape)\n",
    "print(len(embeddings))\n",
    "print(len(umap_embeddings_2dim))"
   ]
  },
  {
   "cell_type": "code",
   "execution_count": 62,
   "metadata": {},
   "outputs": [
    {
     "data": {
      "application/vnd.plotly.v1+json": {
       "config": {
        "plotlyServerURL": "https://plot.ly"
       },
       "data": [
        {
         "customdata": [
          [
           "GQkkHtBD1BM",
           3,
           2024,
           13451274,
           515806
          ],
          [
           "B3szaVzQx0o",
           8,
           2024,
           2445129,
           83538
          ],
          [
           "8reaJG7z-is",
           10,
           2024,
           2904968,
           124954
          ],
          [
           "B-d97ZrAJZ0",
           11,
           2024,
           3073994,
           88402
          ],
          [
           "CjWfgSrwrz0",
           -1,
           2024,
           5094568,
           226995
          ],
          [
           "qkYoBNdcXBU",
           -1,
           2024,
           5452495,
           208907
          ],
          [
           "1EvNX2_4zfE",
           0,
           2023,
           3785917,
           189963
          ],
          [
           "pHhpXrIOwsY",
           6,
           2023,
           9417067,
           421225
          ],
          [
           "VdOlqcg9uMQ",
           12,
           2024,
           2653760,
           90840
          ],
          [
           "4MbshUkkA38",
           -1,
           2024,
           5826051,
           249677
          ],
          [
           "nifUnSk21-w",
           -1,
           2024,
           1891343,
           78829
          ],
          [
           "03OZsmDV56k",
           6,
           2023,
           3594017,
           96166
          ],
          [
           "L_9CmbTTckc",
           12,
           2023,
           6414591,
           310328
          ],
          [
           "ddTV12hErTc",
           2,
           2024,
           7786692,
           233052
          ],
          [
           "bDtuVp1ywTo",
           -1,
           2023,
           2714033,
           122295
          ],
          [
           "FNnK1J-BdiM",
           10,
           2023,
           38445688,
           1812854
          ],
          [
           "wpBu5ej7m8g",
           10,
           2023,
           2140285,
           97476
          ],
          [
           "OFvXuyITwBI",
           -1,
           2023,
           18098361,
           536764
          ],
          [
           "HN-WH7C4K0Q",
           1,
           2024,
           3936187,
           103513
          ],
          [
           "yqOuowxeOOw",
           -1,
           2023,
           1311677,
           54994
          ],
          [
           "zsxviDibcUg",
           -1,
           2023,
           1670243,
           98295
          ],
          [
           "kkX8_nbBqBQ",
           7,
           2024,
           2896239,
           114748
          ],
          [
           "x7M-FAV9-2Q",
           -1,
           2024,
           1796689,
           67652
          ],
          [
           "1TCuf_Qcfv8",
           1,
           2023,
           3740715,
           96820
          ],
          [
           "VaV0Uk8eRbk",
           -1,
           2023,
           9651474,
           449436
          ],
          [
           "pMX2cQdPubk",
           -1,
           2024,
           2560545,
           115094
          ],
          [
           "UXB9bnuyZb4",
           0,
           2023,
           12603449,
           602386
          ],
          [
           "DO1PJYAQj0c",
           -1,
           2023,
           5046416,
           276445
          ],
          [
           "cTxJ5oLuxkM",
           12,
           2023,
           4338617,
           130045
          ],
          [
           "LRJPk9BmJY4",
           8,
           2023,
           3214258,
           93168
          ],
          [
           "REVveXIMk7c",
           6,
           2023,
           4957866,
           251297
          ],
          [
           "1eI8HpJtq-s",
           -1,
           2023,
           1576400,
           89610
          ],
          [
           "-BwUyTrU9fo",
           10,
           2023,
           8447824,
           330944
          ],
          [
           "wR-0knMVSGw",
           0,
           2023,
           2807930,
           78398
          ],
          [
           "HKvo6acp5aI",
           -1,
           2023,
           2835078,
           110175
          ],
          [
           "AFthdsIcOxw",
           -1,
           2023,
           1868667,
           80966
          ],
          [
           "KG6Nu72Avqg",
           -1,
           2023,
           20302860,
           669896
          ],
          [
           "4PZSB9bV1Zg",
           -1,
           2023,
           4749506,
           204181
          ],
          [
           "b7zBJNmdImo",
           12,
           2023,
           2856167,
           92206
          ],
          [
           "1afpDuTb-P0",
           4,
           2023,
           3084566,
           154063
          ],
          [
           "a01edYZIfjc",
           10,
           2023,
           4047878,
           219293
          ],
          [
           "bi1XS6s1rBY",
           12,
           2023,
           7321491,
           373352
          ],
          [
           "W9_NAXd6VyE",
           10,
           2023,
           9684127,
           422210
          ],
          [
           "2m_y5d68xMM",
           5,
           2023,
           9428246,
           364658
          ],
          [
           "nmwJzPPgjpw",
           10,
           2023,
           6506103,
           451854
          ],
          [
           "zhoTX0RRXPQ",
           12,
           2023,
           6390123,
           189152
          ],
          [
           "3yEP4ooj1WI",
           11,
           2023,
           4070751,
           124375
          ],
          [
           "6P1VRs68Cqo",
           4,
           2023,
           4775983,
           302705
          ],
          [
           "gyXjazZnJAU",
           -1,
           2023,
           2502117,
           126004
          ],
          [
           "bMLbnsKGRfo",
           -1,
           2023,
           5746540,
           175220
          ],
          [
           "cneoANZKBGk",
           1,
           2023,
           4130099,
           123022
          ],
          [
           "4yjRIcRc9qY",
           0,
           2022,
           5798782,
           157072
          ],
          [
           "1xiqOg1NRPA",
           12,
           2023,
           3780744,
           121129
          ],
          [
           "_Nbwys56lPs",
           10,
           2022,
           12227751,
           664815
          ],
          [
           "Q2MGqmuEdtU",
           -1,
           2022,
           2955951,
           129299
          ],
          [
           "C6Ni9rH6VmA",
           6,
           2022,
           8015143,
           208057
          ],
          [
           "7V_XEgSjrM0",
           1,
           2023,
           7598617,
           359510
          ],
          [
           "va6QudutbAY",
           0,
           2023,
           715301,
           31134
          ],
          [
           "DUp3P12lZQM",
           -1,
           2023,
           1936932,
           114278
          ],
          [
           "35BkHichD2M",
           10,
           2022,
           3192790,
           105689
          ],
          [
           "xnPl9RPFLkE",
           9,
           2022,
           1892087,
           79958
          ],
          [
           "0gNauGdOkro",
           -1,
           2022,
           2998046,
           126502
          ],
          [
           "5NjFuS_24v8",
           -1,
           2022,
           5391069,
           215257
          ],
          [
           "CMtF7nxMv5A",
           8,
           2022,
           4719428,
           166094
          ],
          [
           "bFBIrkzy_gM",
           1,
           2022,
           2033443,
           71950
          ],
          [
           "9nF0K2nJ7N8",
           0,
           2022,
           6050611,
           166422
          ],
          [
           "tmGDx9hVWwo",
           1,
           2023,
           5013721,
           161226
          ],
          [
           "LQdjmGimh04",
           4,
           2022,
           3830274,
           197776
          ],
          [
           "NE5H5intsck",
           8,
           2022,
           4828279,
           151715
          ],
          [
           "88kd9tVwkH8",
           4,
           2023,
           5851010,
           204223
          ],
          [
           "NPLqa8z-53g",
           4,
           2022,
           6418928,
           329453
          ],
          [
           "9kxTOxDGLqs",
           12,
           2023,
           4363075,
           130941
          ],
          [
           "CgJCxnRap00",
           3,
           2022,
           10284220,
           637837
          ],
          [
           "j2MBqdIZIZA",
           2,
           2022,
           2803143,
           190319
          ],
          [
           "ltD4TVN9wAY",
           1,
           2022,
           3171268,
           139717
          ],
          [
           "SdLShOCvVeM",
           10,
           2022,
           12716357,
           350025
          ],
          [
           "N8M8OOe3SV4",
           9,
           2022,
           5142176,
           158147
          ],
          [
           "d7y9z7pjCRM",
           0,
           2022,
           3559813,
           109465
          ],
          [
           "yQThMUn_UmM",
           10,
           2022,
           4010047,
           158367
          ],
          [
           "ErMwWXQxHp0",
           2,
           2022,
           2832929,
           119878
          ],
          [
           "MEiq0oCUb_8",
           -1,
           2022,
           4696095,
           160878
          ],
          [
           "4SHlY9AoXzc",
           11,
           2022,
           2291891,
           83077
          ],
          [
           "DFgYGBtJLnI",
           6,
           2022,
           2803361,
           98387
          ],
          [
           "AxV0_1Y4zl0",
           12,
           2022,
           3860636,
           141790
          ],
          [
           "UsD87v8F914",
           8,
           2022,
           4143568,
           121698
          ],
          [
           "WfVF-Ec4naQ",
           10,
           2022,
           10325335,
           321429
          ],
          [
           "HeMIZC2rkMo",
           1,
           2022,
           6994449,
           175791
          ],
          [
           "Jb88eui8SqQ",
           11,
           2022,
           6449733,
           199959
          ],
          [
           "lYPe4MsALk4",
           4,
           2022,
           3364872,
           122246
          ],
          [
           "dKq_xfCz3Jk",
           12,
           2022,
           2713724,
           109036
          ],
          [
           "pSdKnNj7ozk",
           1,
           2022,
           3072991,
           107515
          ],
          [
           "cCCBDhdcSGw",
           2,
           2022,
           2596858,
           119703
          ],
          [
           "CkoquiSnqbk",
           0,
           2022,
           3567075,
           121377
          ],
          [
           "mrkAmmMakMg",
           12,
           2022,
           8297350,
           308563
          ],
          [
           "xcjZvAFBH_Y",
           0,
           2022,
           5493213,
           179947
          ],
          [
           "MjGMeMrH73I",
           1,
           2022,
           5674241,
           154981
          ],
          [
           "MUU0BjJjAvk",
           4,
           2022,
           2801213,
           104985
          ],
          [
           "4U2ZxO7b8iM",
           10,
           2022,
           4869700,
           288578
          ],
          [
           "yCBEumeXY4A",
           -1,
           2022,
           2706531,
           142400
          ],
          [
           "6CsJZxfZsL0",
           9,
           2022,
           5635569,
           178656
          ],
          [
           "-EZ_3Tq9a8c",
           1,
           2022,
           2928253,
           126482
          ],
          [
           "U3DNz5asasA",
           8,
           2022,
           2703175,
           104064
          ],
          [
           "q72dA533sCg",
           0,
           2022,
           1647215,
           96660
          ],
          [
           "ZQ4E0JJcxz0",
           10,
           2022,
           4271871,
           157607
          ],
          [
           "1Cw-vODp-8Y",
           2,
           2022,
           3051168,
           193598
          ],
          [
           "QpbGctuHoMY",
           -1,
           2022,
           4256212,
           144324
          ],
          [
           "bTYV7aFC6KE",
           -1,
           2022,
           6318722,
           170424
          ],
          [
           "ldadR6XqiWE",
           12,
           2022,
           3413086,
           137263
          ],
          [
           "qWIkBMNKj1s",
           12,
           2022,
           7840425,
           221647
          ],
          [
           "vax8FCuQUsE",
           12,
           2022,
           2688579,
           99525
          ],
          [
           "Y5iif7YskU4",
           10,
           2022,
           4948509,
           252671
          ],
          [
           "a6zvvlrd-jw",
           0,
           2022,
           2463458,
           114678
          ],
          [
           "vXIAB_1FEC0",
           12,
           2022,
           5967356,
           159080
          ],
          [
           "UpqaQR4ikig",
           -1,
           2022,
           7904532,
           324370
          ],
          [
           "k_OOiuaZSKc",
           10,
           2022,
           2201609,
           93320
          ],
          [
           "pwHNannxolo",
           12,
           2022,
           6496654,
           175332
          ],
          [
           "CMm7UZKtGNk",
           -1,
           2022,
           3126140,
           134052
          ],
          [
           "yoigsHYc77s",
           1,
           2022,
           5327710,
           156308
          ],
          [
           "7jaMJGtAV9M",
           2,
           2022,
           1277112,
           63285
          ],
          [
           "dQrBgda0sEY",
           1,
           2022,
           2649986,
           98572
          ],
          [
           "L-BN9Db5QhY",
           2,
           2022,
           2734343,
           133912
          ],
          [
           "wvhP1al3Ur4",
           1,
           2022,
           4045179,
           136599
          ],
          [
           "MiTG1ride7s",
           8,
           2022,
           3064761,
           114912
          ],
          [
           "BuaKzm7Kq9Q",
           -1,
           2022,
           5955554,
           240815
          ],
          [
           "-njHjebtIg4",
           0,
           2022,
           4298562,
           182205
          ],
          [
           "-pTGc7cIBIA",
           2,
           2022,
           5437286,
           150814
          ],
          [
           "zV7y4Oex1DQ",
           2,
           2022,
           2955205,
           111769
          ],
          [
           "0Jc5Ryk2mCw",
           12,
           2022,
           3612254,
           118729
          ],
          [
           "n4xw2fmSCrs",
           2,
           2021,
           2959262,
           92810
          ],
          [
           "7IaYSxDp88s",
           11,
           2022,
           4239555,
           118474
          ],
          [
           "fBHq7U8hLp8",
           2,
           2021,
           1910071,
           87003
          ],
          [
           "IDcyXtweHCw",
           -1,
           2021,
           5440758,
           212632
          ],
          [
           "SOq05_6w0ig",
           2,
           2021,
           4697002,
           253863
          ],
          [
           "_VAlGmtfDN0",
           5,
           2021,
           3383996,
           100304
          ],
          [
           "dp4nWm59esI",
           4,
           2021,
           2267588,
           113917
          ],
          [
           "MZ8giCWDcyE",
           4,
           2021,
           2720883,
           131282
          ],
          [
           "gkmzDwgvqQM",
           12,
           2021,
           3158899,
           149144
          ],
          [
           "JnGXTk57rOU",
           1,
           2021,
           2177300,
           106849
          ],
          [
           "9l3f1KrMQeo",
           1,
           2021,
           1775852,
           89293
          ],
          [
           "7nM6EaR50Tc",
           -1,
           2021,
           4255089,
           121842
          ],
          [
           "CaaJyRvvaq8",
           2,
           2021,
           3741528,
           508446
          ],
          [
           "9rvqDxBsJX4",
           -1,
           2021,
           2967586,
           109503
          ],
          [
           "rr2XfL_df3o",
           1,
           2021,
           7974512,
           223852
          ],
          [
           "LcI6F_GPwfE",
           9,
           2021,
           4807351,
           150055
          ],
          [
           "9hvjBi4PKWA",
           8,
           2021,
           7946247,
           242519
          ],
          [
           "A1uYhkMRLWg",
           0,
           2021,
           5822013,
           132564
          ],
          [
           "y72bAm4SvkE",
           5,
           2021,
           2499744,
           81526
          ],
          [
           "roWxo6jWoYw",
           8,
           2021,
           4564946,
           187107
          ],
          [
           "uhIdijSrnVc",
           1,
           2021,
           5454026,
           199422
          ],
          [
           "BsosQkfa2L8",
           3,
           2021,
           5048504,
           132931
          ],
          [
           "DDpXdljhstg",
           6,
           2021,
           2932344,
           101651
          ],
          [
           "1uu9VWBgcBU",
           5,
           2021,
           5072910,
           135608
          ],
          [
           "6E9cdgMvQT0",
           9,
           2021,
           3928103,
           156231
          ],
          [
           "dbAkuiS8PHU",
           0,
           2021,
           2666117,
           111493
          ],
          [
           "vBnpGIZK9R0",
           1,
           2021,
           3720640,
           106200
          ],
          [
           "TnkdoEZhTbc",
           10,
           2021,
           9651233,
           236260
          ],
          [
           "CghqH21A2Ew",
           12,
           2021,
           3284581,
           124735
          ],
          [
           "C4sAUc_ZGMY",
           -1,
           2021,
           8114383,
           251763
          ],
          [
           "O1sZcX-BBSA",
           10,
           2021,
           8395093,
           243673
          ],
          [
           "TranVlEwQqw",
           -1,
           2021,
           4333915,
           142440
          ],
          [
           "SvMhWghZ_EE",
           5,
           2021,
           6606344,
           174334
          ],
          [
           "Fop2oskTug8",
           10,
           2021,
           8946373,
           276418
          ],
          [
           "ZvPzY6MsmCs",
           10,
           2021,
           3319343,
           123132
          ],
          [
           "vXzuFprlyrw",
           0,
           2021,
           3917214,
           147605
          ],
          [
           "ek9bmIlDens",
           5,
           2021,
           3225276,
           110290
          ],
          [
           "8FpPSMIB4uA",
           10,
           2021,
           16684607,
           419611
          ],
          [
           "g5ymJNLURRI",
           10,
           2021,
           8794461,
           230277
          ],
          [
           "T-UhbAcZd3I",
           6,
           2021,
           6067144,
           169193
          ],
          [
           "Wk1oClYJE58",
           0,
           2021,
           5304178,
           206019
          ],
          [
           "iLLi02P1FN4",
           5,
           2021,
           4951437,
           125791
          ],
          [
           "TLQkoZX9Mog",
           10,
           2021,
           2298331,
           98799
          ],
          [
           "n3XrvrBVg2k",
           2,
           2021,
           2727890,
           139569
          ],
          [
           "gny4B5YOV0s",
           2,
           2021,
           2442269,
           95152
          ],
          [
           "SG3Zz_pfbOE",
           8,
           2021,
           3302754,
           109508
          ],
          [
           "7hEPj13PUGc",
           8,
           2021,
           3906411,
           168412
          ],
          [
           "VaSstf9VJGQ",
           1,
           2021,
           5433617,
           233169
          ],
          [
           "FITTkh-kf6g",
           7,
           2021,
           3883525,
           165698
          ],
          [
           "wGKb3oUo8go",
           10,
           2021,
           4242139,
           180320
          ],
          [
           "ZS-LwWzlKdc",
           12,
           2021,
           1564565,
           72818
          ],
          [
           "J2npVg9ONFo",
           0,
           2021,
           8185968,
           288519
          ],
          [
           "n2RNcPRtAiY",
           2,
           2021,
           4295450,
           202340
          ],
          [
           "eY9dXcjkVx8",
           6,
           2021,
           7124212,
           223038
          ],
          [
           "vSAa_ls9grQ",
           1,
           2021,
           5960443,
           199334
          ],
          [
           "RTbrXiIzUt4",
           -1,
           2021,
           4576308,
           252246
          ],
          [
           "qNAo0UdYF6g",
           3,
           2021,
           4535389,
           181902
          ],
          [
           "t7jbT1YhyQU",
           10,
           2021,
           3431503,
           144024
          ],
          [
           "vInUoPtg8m0",
           -1,
           2021,
           4910967,
           183576
          ],
          [
           "ccnlAVDXd7k",
           -1,
           2021,
           1180612,
           45047
          ],
          [
           "MhKiMPiZOdE",
           -1,
           2021,
           766776,
           32154
          ],
          [
           "tEmLMCPK8OE",
           2,
           2021,
           1602462,
           55696
          ],
          [
           "nLeScEdf550",
           2,
           2021,
           818392,
           35263
          ],
          [
           "ifI_fwg55k8",
           0,
           2021,
           2521324,
           96490
          ],
          [
           "TP4VQTUbypM",
           1,
           2021,
           2321736,
           243954
          ],
          [
           "cW1KJf7JKgI",
           12,
           2021,
           6564347,
           225131
          ],
          [
           "CAmZXCZ-e94",
           -1,
           2021,
           3523107,
           141178
          ],
          [
           "di1afyrEKoc",
           10,
           2021,
           2586191,
           115563
          ],
          [
           "vLm68qbNjkU",
           12,
           2021,
           7569875,
           256241
          ],
          [
           "6pf2KJD5qf0",
           12,
           2021,
           2841065,
           119444
          ],
          [
           "dhAmMXCBIcg",
           12,
           2021,
           5060666,
           161731
          ],
          [
           "tn2AgrwXpNQ",
           12,
           2021,
           6668671,
           197074
          ],
          [
           "9zkFfBVgVtI",
           5,
           2021,
           2467239,
           104487
          ],
          [
           "Sye31IVjiss",
           -1,
           2021,
           2362179,
           90282
          ],
          [
           "qVMdq9pDiuQ",
           2,
           2021,
           3634457,
           149010
          ],
          [
           "pJlA2J92Fw4",
           0,
           2020,
           3165188,
           175726
          ],
          [
           "V7J9aMy_CFk",
           10,
           2021,
           10439822,
           300821
          ],
          [
           "MXtbeSbf_xM",
           4,
           2021,
           3449255,
           137694
          ],
          [
           "1jmcloqc4yg",
           12,
           2021,
           3673624,
           127561
          ],
          [
           "Lt-fah4spJY",
           2,
           2020,
           2201727,
           202012
          ],
          [
           "RY63Nw0w33w",
           11,
           2021,
           2442017,
           85313
          ],
          [
           "wUBy2W1iKpo",
           12,
           2021,
           2363193,
           96411
          ],
          [
           "fYAUINqHAY4",
           5,
           2021,
           3068977,
           124079
          ],
          [
           "1l0aosZHSDA",
           -1,
           2021,
           2933023,
           100140
          ],
          [
           "lvV3jSLYK8A",
           12,
           2021,
           6150562,
           209656
          ],
          [
           "9EOAEWC9hJ4",
           11,
           2021,
           5155483,
           255195
          ],
          [
           "syiQmaGZFXM",
           2,
           2021,
           3447249,
           128515
          ],
          [
           "e6_t26Q9aVM",
           2,
           2020,
           6928668,
           295592
          ],
          [
           "I49VNQ6lmKk",
           2,
           2020,
           3655517,
           260365
          ],
          [
           "Gvvo6vUpJRc",
           9,
           2020,
           9574851,
           314711
          ],
          [
           "4oco9pLw13E",
           -1,
           2020,
           1862146,
           90218
          ],
          [
           "zrbACeJ63II",
           10,
           2020,
           2990626,
           147403
          ],
          [
           "Qfmeb2e_kb4",
           10,
           2020,
           6627104,
           234844
          ],
          [
           "UdfSrJvqY_E",
           9,
           2020,
           12698111,
           414992
          ],
          [
           "kbeEkwlTeqQ",
           4,
           2020,
           2982382,
           156078
          ],
          [
           "6uS5F1MSzaQ",
           12,
           2020,
           2626972,
           115908
          ],
          [
           "il9SZU_nsVc",
           2,
           2020,
           3686321,
           170038
          ],
          [
           "noKpc8fo-R0",
           5,
           2020,
           2810274,
           139332
          ],
          [
           "b7RhbRujjUA",
           9,
           2020,
           5849137,
           162847
          ],
          [
           "MepGo2xmVJw",
           -1,
           2020,
           7946440,
           250855
          ],
          [
           "b6g6rDDt9x8",
           1,
           2020,
           4242236,
           170015
          ],
          [
           "qrzCLgDplTw",
           10,
           2020,
           6114622,
           178665
          ],
          [
           "imx_-6tHjhw",
           -1,
           2020,
           3722519,
           165626
          ],
          [
           "QtMzV73NAgk",
           1,
           2020,
           14395102,
           588158
          ],
          [
           "NBLO6RpofIU",
           8,
           2020,
           4722944,
           148992
          ],
          [
           "j5zvFXmSGKY",
           -1,
           2020,
           2838526,
           111448
          ],
          [
           "X1b3C2081-Q",
           10,
           2020,
           13436420,
           329319
          ],
          [
           "nDy32xoXM4o",
           6,
           2020,
           7101741,
           208095
          ],
          [
           "Sx6dAx7dnXg",
           10,
           2020,
           12849753,
           434058
          ],
          [
           "wjXIw6OjBo8",
           12,
           2020,
           2275346,
           101807
          ],
          [
           "stsJe7pJaKU",
           8,
           2020,
           3888245,
           134310
          ],
          [
           "R94ntpWVelw",
           12,
           2020,
           5215838,
           160389
          ],
          [
           "UFDoLyAE1Bc",
           -1,
           2020,
           2454524,
           112855
          ],
          [
           "BAZX9p2oGOg",
           0,
           2020,
           4768101,
           161771
          ],
          [
           "0fB2cQFp008",
           5,
           2020,
           2921066,
           102275
          ],
          [
           "j7QwJ-M_GAI",
           12,
           2020,
           7829569,
           311844
          ],
          [
           "azrdcp4yYas",
           12,
           2020,
           5363812,
           162719
          ],
          [
           "G4E2bbAgjXg",
           5,
           2020,
           2846449,
           99694
          ],
          [
           "kFz9afj8lu0",
           1,
           2020,
           11356835,
           332449
          ],
          [
           "Mm0NvlXdz4A",
           3,
           2020,
           5355659,
           159487
          ],
          [
           "9Hk_rvjtxKc",
           2,
           2020,
           1918612,
           77924
          ],
          [
           "sy8K2VmWkDo",
           5,
           2020,
           3486171,
           137236
          ],
          [
           "5NNO5Kb-PZo",
           -1,
           2020,
           7979028,
           260079
          ],
          [
           "DJyxwIGdl8Y",
           5,
           2020,
           3043726,
           120399
          ],
          [
           "qDSaOwBHwbs",
           -1,
           2020,
           2638334,
           98756
          ],
          [
           "k1v7_zScivQ",
           -1,
           2020,
           6756042,
           229604
          ],
          [
           "XDamqi_3Aro",
           3,
           2020,
           4602196,
           129647
          ],
          [
           "eAagtcAup0o",
           2,
           2020,
           3782574,
           201000
          ],
          [
           "cH66LWWluVE",
           10,
           2020,
           12408926,
           314776
          ],
          [
           "Exk34o-MMIE",
           12,
           2020,
           3658685,
           132045
          ],
          [
           "bInJjmH31Hk",
           9,
           2020,
           5991768,
           194981
          ],
          [
           "6kAvCSMkYEI",
           1,
           2020,
           1723341,
           67556
          ],
          [
           "mRvBCXMSrBE",
           12,
           2020,
           3606652,
           134859
          ],
          [
           "Xzh8BdaaAvs",
           11,
           2020,
           4449418,
           153904
          ],
          [
           "dlHnleQU9tQ",
           8,
           2020,
           5942702,
           196221
          ],
          [
           "j52nXdQKFD0",
           0,
           2020,
           3817863,
           130941
          ],
          [
           "IEwEDTmqCEs",
           12,
           2020,
           3538201,
           119427
          ],
          [
           "Svf1lEUUCzU",
           11,
           2020,
           2789498,
           122815
          ],
          [
           "nF4hg6g7SwE",
           9,
           2020,
           4375645,
           155971
          ],
          [
           "W-VInHvlrZo",
           11,
           2020,
           3909949,
           170989
          ],
          [
           "5nLWTVTwOhY",
           2,
           2020,
           4246396,
           253799
          ],
          [
           "Q2aaCDNjWEg",
           -1,
           2020,
           6641905,
           258234
          ],
          [
           "bATUW8G2ONE",
           10,
           2020,
           5054975,
           161689
          ],
          [
           "8IB7JcKJEeI",
           -1,
           2020,
           4497329,
           193001
          ],
          [
           "ZLyDvABxGF0",
           10,
           2020,
           10484675,
           318854
          ],
          [
           "0we7kcmgDOw",
           -1,
           2020,
           4777335,
           209596
          ],
          [
           "QZgIArBFmmE",
           9,
           2020,
           3223957,
           121539
          ],
          [
           "JztgJT547Vg",
           -1,
           2020,
           5726497,
           215702
          ],
          [
           "pLjtItOE88s",
           7,
           2020,
           3926791,
           141977
          ],
          [
           "g9McJA3XEF4",
           10,
           2020,
           3726759,
           139572
          ],
          [
           "0FC94Tgz2ho",
           2,
           2020,
           5987102,
           173249
          ],
          [
           "o-_WXXVye3Y",
           2,
           2020,
           7597175,
           692667
          ],
          [
           "Ns8ydpZ5-4o",
           5,
           2020,
           7273613,
           282351
          ],
          [
           "bfbyCTyHFo4",
           12,
           2020,
           4202851,
           120429
          ],
          [
           "_SoviSNZjso",
           0,
           2020,
           3723933,
           156242
          ],
          [
           "u41Zt6z5s7A",
           12,
           2020,
           2425623,
           91156
          ],
          [
           "wUhf0sWhtKw",
           12,
           2020,
           4264121,
           126229
          ],
          [
           "mBHY_Qaw5AI",
           1,
           2020,
           7761232,
           246549
          ],
          [
           "3qtIp8joCE0",
           2,
           2020,
           1589703,
           97040
          ],
          [
           "2xiCVNwhrDU",
           2,
           2020,
           3987948,
           121809
          ],
          [
           "-wOdL7HFNOs",
           12,
           2020,
           7377898,
           148793
          ],
          [
           "nxf41fMX_Y4",
           -1,
           2020,
           4357118,
           132339
          ],
          [
           "LTDuGU38-70",
           11,
           2020,
           6604971,
           182659
          ],
          [
           "OHP1rLwR6r8",
           11,
           2020,
           3528293,
           100937
          ],
          [
           "7wZbsAzNt1o",
           1,
           2020,
           4378624,
           128209
          ],
          [
           "eNWG9KRAbCc",
           6,
           2020,
           7737031,
           196652
          ],
          [
           "WIVUbBIrbM4",
           12,
           2020,
           4147748,
           122075
          ],
          [
           "9arevpoH-4g",
           12,
           2020,
           3088690,
           88505
          ],
          [
           "48bK3mmjgRE",
           9,
           2020,
           4288236,
           142914
          ],
          [
           "koPg_DZUfOc",
           1,
           2020,
           5898883,
           175753
          ],
          [
           "58xXl597B_4",
           12,
           2020,
           4496617,
           105956
          ],
          [
           "O8FJSjy3bXA",
           5,
           2020,
           8898532,
           352845
          ],
          [
           "Kl0E8p2IBmw",
           1,
           2020,
           4710916,
           114976
          ],
          [
           "CF0Q4iozRIA",
           -1,
           2020,
           3766812,
           96966
          ],
          [
           "PTpoj4f25dk",
           12,
           2020,
           17504662,
           421526
          ],
          [
           "ASwVyfebu3E",
           2,
           2020,
           2835695,
           96362
          ],
          [
           "UK8HH3_q4yI",
           -1,
           2020,
           4324117,
           161419
          ],
          [
           "FV2tMP37ygs",
           2,
           2020,
           3690549,
           153184
          ],
          [
           "hiiVniW6l7E",
           5,
           2020,
           5933397,
           169361
          ],
          [
           "ZdC9soHxVC8",
           12,
           2020,
           6348487,
           157569
          ],
          [
           "lCKcFFDgtNk",
           5,
           2020,
           2464639,
           76153
          ],
          [
           "-DtSrdh5dHU",
           -1,
           2020,
           2547523,
           96053
          ],
          [
           "7xtX1KNSlrY",
           2,
           2020,
           5559144,
           220410
          ],
          [
           "pgmHkfvGYnY",
           2,
           2020,
           4341889,
           130434
          ],
          [
           "zHAB4qDsgKY",
           9,
           2020,
           7207949,
           219583
          ],
          [
           "x1T-VTFiUwc",
           0,
           2020,
           2176767,
           74659
          ],
          [
           "Jp8bBZHDULA",
           11,
           2020,
           2570732,
           84017
          ],
          [
           "NbzpwG4n6Vs",
           2,
           2020,
           2182543,
           96498
          ],
          [
           "sr2fBCzXo4g",
           -1,
           2020,
           4028043,
           99546
          ],
          [
           "-2pffpPl1lQ",
           2,
           2019,
           2835327,
           102274
          ],
          [
           "gl62BSjp7Vo",
           10,
           2019,
           3916101,
           148945
          ],
          [
           "TfYeJZeCCjk",
           -1,
           2019,
           273153,
           8306
          ],
          [
           "4OnwUz-I2GI",
           -1,
           2019,
           7147121,
           224513
          ],
          [
           "07_IZIoN60Q",
           12,
           2019,
           3733250,
           104077
          ],
          [
           "NvQmi_ciL1k",
           2,
           2019,
           2988750,
           310776
          ],
          [
           "KxsFat1ImiY",
           4,
           2019,
           2577170,
           115724
          ],
          [
           "2SkaD7Q53mA",
           -1,
           2019,
           482948,
           12352
          ],
          [
           "DOPswcaSsu8",
           1,
           2019,
           5029977,
           167326
          ],
          [
           "jdlGvS1y_Ls",
           1,
           2019,
           461450,
           12746
          ],
          [
           "-YFKqKdD3_A",
           2,
           2019,
           1730444,
           89490
          ],
          [
           "nmnTAOU44SI",
           -1,
           2019,
           2974127,
           91606
          ],
          [
           "omyZvH7aMtg",
           -1,
           2019,
           3255544,
           91784
          ],
          [
           "oTZ84U-K_5k",
           0,
           2019,
           10479733,
           224729
          ],
          [
           "ctWDAdQ81B8",
           1,
           2019,
           3446034,
           90424
          ],
          [
           "5TuyvWoaAZk",
           3,
           2019,
           4407268,
           94011
          ],
          [
           "aeaBaTqmu8Q",
           -1,
           2019,
           3634492,
           92044
          ],
          [
           "sKJ4i7p-o-4",
           8,
           2019,
           4351936,
           117992
          ],
          [
           "O6NiridP0Oo",
           2,
           2019,
           2969116,
           155203
          ],
          [
           "zIjngBAxTr4",
           10,
           2019,
           4484279,
           122851
          ],
          [
           "DHiKz_lCYMU",
           9,
           2019,
           2567702,
           75228
          ],
          [
           "MrUhzYdcX6w",
           9,
           2019,
           10833980,
           271758
          ],
          [
           "zsEcLVHnxUM",
           11,
           2019,
           2623561,
           71635
          ],
          [
           "ux4R5GeKMUU",
           2,
           2019,
           2535190,
           97759
          ],
          [
           "wegxoNTw0_I",
           4,
           2019,
           3296984,
           94456
          ],
          [
           "BsAmXFcQMQ4",
           2,
           2019,
           394449,
           11178
          ],
          [
           "mfbSqTB74xM",
           12,
           2019,
           5772892,
           119249
          ],
          [
           "cG8PXdTlDag",
           9,
           2019,
           7439961,
           205332
          ],
          [
           "kMtN9KJHn5Y",
           2,
           2019,
           9280347,
           144524
          ],
          [
           "q2CdBFA98SI",
           5,
           2019,
           2727405,
           73811
          ],
          [
           "mXgG8k5tTFM",
           2,
           2019,
           2588527,
           117378
          ],
          [
           "uDAv4qOU_04",
           1,
           2019,
           3254272,
           98646
          ],
          [
           "OoY7zp8GkLI",
           10,
           2019,
           9400963,
           210875
          ],
          [
           "QK8Se8CvyHc",
           10,
           2019,
           4629628,
           125210
          ],
          [
           "XRiUNPf-_-4",
           11,
           2019,
           3655043,
           93340
          ],
          [
           "DyX-QZZBgpw",
           10,
           2019,
           9202785,
           195770
          ],
          [
           "-5BsYYtyENw",
           5,
           2019,
           7887387,
           168648
          ],
          [
           "-Wwe5OW_jPE",
           12,
           2019,
           4256199,
           132381
          ],
          [
           "5krV47BLyoQ",
           10,
           2019,
           7759083,
           172005
          ],
          [
           "XoH8no1MQWA",
           2,
           2019,
           3379057,
           87248
          ],
          [
           "UVpJouUyLBM",
           10,
           2019,
           4813865,
           122892
          ],
          [
           "gNK_C78sBWY",
           0,
           2019,
           2809565,
           93682
          ],
          [
           "pyldH6sefTQ",
           12,
           2019,
           5029622,
           105666
          ],
          [
           "_CTUs_2hq6Y",
           -1,
           2019,
           9515327,
           260425
          ],
          [
           "lj7kFBz-jw4",
           10,
           2019,
           8354405,
           227342
          ],
          [
           "qrwBeXBxaWU",
           12,
           2019,
           7704867,
           204636
          ],
          [
           "WpPw7lUXyI0",
           12,
           2019,
           4063458,
           105160
          ],
          [
           "ROkXM3csNWY",
           5,
           2019,
           9363628,
           158257
          ],
          [
           "rie69P0W668",
           10,
           2019,
           3734549,
           72874
          ],
          [
           "FOp3L2OTG6g",
           2,
           2019,
           4258829,
           113595
          ],
          [
           "dZ_Ab1XxxKg",
           6,
           2019,
           5267182,
           131679
          ],
          [
           "JdTBIHX-r0M",
           9,
           2019,
           4209574,
           99455
          ],
          [
           "MOJ1_FtDGNs",
           11,
           2019,
           2455281,
           63734
          ],
          [
           "M5NVwuyk2uM",
           12,
           2019,
           2724757,
           101818
          ],
          [
           "3Yes-qyeJ_M",
           9,
           2019,
           2036346,
           64953
          ],
          [
           "O2iorLuSjOg",
           6,
           2019,
           5305566,
           154421
          ],
          [
           "QJxbqIo5pC0",
           1,
           2019,
           4260215,
           115083
          ],
          [
           "jFZ0MFYup-o",
           2,
           2019,
           6177918,
           165249
          ],
          [
           "XnSqlX1kCQo",
           8,
           2019,
           3666540,
           87717
          ],
          [
           "QKyul7puruQ",
           2,
           2019,
           2897294,
           94269
          ],
          [
           "Oy8zSYKkczI",
           2,
           2019,
           40065718,
           221661
          ],
          [
           "JEWzl4V2YBI",
           11,
           2019,
           4690243,
           109100
          ],
          [
           "vtqtyyGZvXM",
           5,
           2019,
           16890553,
           338075
          ],
          [
           "VL9rd4NLXCo",
           8,
           2019,
           3980571,
           157216
          ],
          [
           "vcaXm9dgcpI",
           8,
           2019,
           2333999,
           71581
          ],
          [
           "0O4_EAGNg7k",
           -1,
           2019,
           2068760,
           64043
          ],
          [
           "6C_4Bz62b0E",
           5,
           2019,
           3868090,
           97901
          ],
          [
           "OQri1NdscR4",
           0,
           2019,
           4471976,
           117091
          ],
          [
           "qSlDIpD8lD4",
           12,
           2019,
           2048355,
           58826
          ],
          [
           "iDKIw3OgNcg",
           2,
           2019,
           1563684,
           48838
          ],
          [
           "qZGpmWrVSaU",
           -1,
           2019,
           7665791,
           205461
          ],
          [
           "0Z8J3axc0oY",
           5,
           2019,
           5239718,
           120235
          ],
          [
           "KzdLNlCXQSo",
           7,
           2019,
           2732445,
           80268
          ],
          [
           "yiyjcXWZ3Qo",
           -1,
           2019,
           3872281,
           80153
          ],
          [
           "ySMGudnpdXQ",
           12,
           2019,
           2846266,
           74847
          ],
          [
           "x4yF3a3Zn4Y",
           5,
           2019,
           23391513,
           355685
          ],
          [
           "faUEM-szlnY",
           12,
           2019,
           4656283,
           127884
          ],
          [
           "ay8Ya0DYDYE",
           -1,
           2019,
           2209661,
           63500
          ],
          [
           "f5_Gvt3mOx8",
           -1,
           2019,
           3432610,
           77963
          ],
          [
           "iy1z3ZVASCg",
           12,
           2019,
           3458698,
           83560
          ],
          [
           "t9R7xx0joOU",
           12,
           2019,
           11074110,
           235905
          ],
          [
           "cZIso9uqNls",
           2,
           2019,
           3967255,
           199127
          ],
          [
           "4mxXdCUXSSs",
           2,
           2019,
           5870997,
           299459
          ],
          [
           "BSQe-yQ5B84",
           -1,
           2019,
           3622213,
           78658
          ],
          [
           "AnH7cm9Y7CE",
           10,
           2019,
           5574024,
           102860
          ],
          [
           "I65jo06QinI",
           9,
           2019,
           3574485,
           95521
          ],
          [
           "9ZjlFZ3_b9E",
           2,
           2019,
           5575519,
           217747
          ],
          [
           "D1pa3UX89GA",
           -1,
           2019,
           2660816,
           78042
          ],
          [
           "gfWjsKsEry0",
           0,
           2019,
           4597986,
           140805
          ],
          [
           "Q-0V9v-ybKU",
           12,
           2019,
           2335443,
           75126
          ],
          [
           "zZ8NuPIymlk",
           2,
           2018,
           1472051,
           98738
          ],
          [
           "HOh6d_r63Bw",
           8,
           2018,
           4111729,
           107250
          ],
          [
           "cpIEWsQpRMk",
           -1,
           2018,
           6156804,
           198853
          ],
          [
           "MdqKJxyIecE",
           -1,
           2018,
           2599620,
           68380
          ],
          [
           "P5dxd-ocaE8",
           2,
           2018,
           7746531,
           372514
          ],
          [
           "LPY4u9Gx-xM",
           0,
           2018,
           1890571,
           70410
          ],
          [
           "_5-bo8a4zU0",
           4,
           2018,
           3043779,
           127713
          ],
          [
           "e7sw5xA066Y",
           1,
           2018,
           2888413,
           66282
          ],
          [
           "nuNYtj8keaE",
           9,
           2018,
           3968035,
           99528
          ],
          [
           "N1e_voQvHYk",
           6,
           2018,
           5490623,
           118831
          ],
          [
           "xsiV_-o5488",
           10,
           2018,
           8324223,
           173118
          ],
          [
           "bNLgikGu4Yw",
           -1,
           2018,
           3844193,
           86748
          ],
          [
           "Fd7BrGUSxqQ",
           1,
           2018,
           4928641,
           113087
          ],
          [
           "_6-XjSvbJsE",
           11,
           2018,
           7421638,
           143839
          ],
          [
           "mr9kK0_7x08",
           2,
           2018,
           14889897,
           422770
          ],
          [
           "Lg9N8XAZ6u4",
           8,
           2018,
           2030402,
           60784
          ],
          [
           "QPcagFrOnLE",
           -1,
           2018,
           2689657,
           64523
          ],
          [
           "sb77YWaEsi8",
           2,
           2018,
           1654642,
           55095
          ],
          [
           "LRh_iVXulXk",
           8,
           2018,
           5230996,
           120262
          ],
          [
           "T8stUe9Vo74",
           2,
           2018,
           3881149,
           100270
          ],
          [
           "vc1NdYXlaxA",
           10,
           2018,
           2453144,
           137072
          ],
          [
           "naIaW4pk_-o",
           3,
           2018,
           5442320,
           101159
          ],
          [
           "uwxxQ9FZXow",
           11,
           2018,
           1577282,
           51065
          ],
          [
           "E67Klqw2H-E",
           8,
           2018,
           4012160,
           100948
          ],
          [
           "MevKTPN4ozw",
           0,
           2018,
           15578884,
           562562
          ],
          [
           "ihEhAbVRC78",
           12,
           2018,
           5410577,
           111568
          ],
          [
           "iCvlOrK_mag",
           0,
           2018,
           2741042,
           77317
          ],
          [
           "pIuSElb3Ous",
           12,
           2018,
           2403414,
           67717
          ],
          [
           "YAF9BWpzwvI",
           10,
           2018,
           7545436,
           148249
          ],
          [
           "oOaQVvNK4EU",
           9,
           2018,
           2433693,
           57417
          ],
          [
           "mgOQgciWLlg",
           10,
           2018,
           4451092,
           83256
          ],
          [
           "aYoGMsImJhw",
           -1,
           2018,
           1880842,
           52719
          ],
          [
           "GSWOs4_etoE",
           10,
           2018,
           3212848,
           76823
          ],
          [
           "cVCRAKDt21E",
           1,
           2018,
           3133026,
           74100
          ],
          [
           "nIs8xAr_nIo",
           2,
           2018,
           1315410,
           45069
          ],
          [
           "fwijCB6cH-0",
           12,
           2018,
           1994222,
           59539
          ],
          [
           "fJ_PNOXycwg",
           11,
           2018,
           2111649,
           69059
          ],
          [
           "r6axJnv3jpQ",
           9,
           2018,
           3069163,
           90207
          ],
          [
           "i7FtVfokRYU",
           1,
           2018,
           845437,
           32695
          ],
          [
           "0NX9RjQClvg",
           12,
           2018,
           2686148,
           62355
          ],
          [
           "GRSfvePdhPA",
           12,
           2018,
           6221386,
           90484
          ],
          [
           "9gkxwIZPOZk",
           12,
           2018,
           1751007,
           46770
          ],
          [
           "HxVLdhm2B6Y",
           0,
           2018,
           2535699,
           82685
          ],
          [
           "RROs-zCrSko",
           10,
           2018,
           3802810,
           76347
          ],
          [
           "0PrUr3bQdwM",
           11,
           2018,
           21986018,
           113199
          ],
          [
           "F0rYqvRk9r8",
           11,
           2018,
           3169048,
           82344
          ],
          [
           "bSl9PfRX7WY",
           12,
           2018,
           2030098,
           62898
          ],
          [
           "XU69_u7eXa0",
           8,
           2018,
           1983704,
           65103
          ],
          [
           "hvFbmImsCc4",
           -1,
           2018,
           2722263,
           58252
          ],
          [
           "USXoINPEhoA",
           -1,
           2018,
           2779133,
           108015
          ],
          [
           "OJfOsoUYPts",
           10,
           2018,
           5584645,
           103745
          ],
          [
           "TQG7m1BFeRc",
           -1,
           2018,
           4582401,
           77334
          ],
          [
           "Er-hGFBcosc",
           0,
           2018,
           1539460,
           50153
          ],
          [
           "UIwdCN4dV6w",
           2,
           2018,
           5980135,
           234636
          ],
          [
           "rsJlT53jU_4",
           -1,
           2018,
           1795812,
           132509
          ],
          [
           "Xyt9rmsxwDU",
           2,
           2018,
           847557,
           47889
          ],
          [
           "6AlzUeJ9zn0",
           7,
           2018,
           2057049,
           57077
          ],
          [
           "Gzy_nCkn88U",
           12,
           2018,
           9253759,
           151769
          ],
          [
           "xIvaQ1Hv2Ug",
           12,
           2018,
           1946125,
           68807
          ],
          [
           "dRtqFjYYUY0",
           12,
           2018,
           2359252,
           85059
          ],
          [
           "jn9mHzXJIV0",
           1,
           2018,
           2358801,
           60043
          ],
          [
           "ZzefeQ0v5wg",
           12,
           2018,
           1622472,
           49671
          ],
          [
           "ZWuPwcwl214",
           9,
           2017,
           3569782,
           80039
          ],
          [
           "fL30bWrGrfE",
           0,
           2017,
           1943544,
           98125
          ],
          [
           "jmvacbha8e8",
           2,
           2018,
           748125,
           46684
          ],
          [
           "9O5PhuW927w",
           0,
           2018,
           3224363,
           124897
          ],
          [
           "h-h5Mhlt6O0",
           1,
           2017,
           2376837,
           90460
          ],
          [
           "aMQbRpxgFvs",
           -1,
           2017,
           4206911,
           142401
          ],
          [
           "mpjREfvZiDs",
           9,
           2018,
           4480983,
           99545
          ],
          [
           "6joCzIxiUaE",
           0,
           2018,
           1044969,
           47459
          ],
          [
           "A4EKZRlpcIM",
           9,
           2018,
           4098764,
           119022
          ],
          [
           "Js3WIRF595U",
           2,
           2018,
           1175370,
           85124
          ],
          [
           "pqQrL1K0Z5g",
           2,
           2018,
           2137915,
           120894
          ],
          [
           "KB4_WIPE7vo",
           10,
           2018,
           7376566,
           251319
          ],
          [
           "FjsQkOt553Q",
           -1,
           2018,
           2726047,
           65677
          ],
          [
           "6UR_H5XJkeM",
           1,
           2018,
           1634274,
           64214
          ],
          [
           "9GqohosViw4",
           -1,
           2018,
           1655829,
           54438
          ],
          [
           "-IqpbDJFbZA",
           -1,
           2018,
           1657385,
           58776
          ],
          [
           "J83sZrz9XTc",
           12,
           2018,
           4153364,
           117826
          ],
          [
           "xhybjeRciYg",
           4,
           2017,
           3179901,
           93489
          ],
          [
           "Wzvr_rtI82w",
           12,
           2017,
           1643393,
           151488
          ],
          [
           "4L-BPQVZYXM",
           12,
           2017,
           2276028,
           65481
          ],
          [
           "Lxet1zLBTM8",
           11,
           2017,
           4110639,
           87961
          ],
          [
           "9Ca8zWJOlFQ",
           10,
           2017,
           8249573,
           177649
          ],
          [
           "Ja_GMU7-sjs",
           -1,
           2017,
           3529195,
           78262
          ],
          [
           "NwN_uIWpNOQ",
           4,
           2017,
           1612409,
           60323
          ],
          [
           "AL_GHdjQ7-Y",
           10,
           2017,
           3639279,
           77987
          ],
          [
           "LzC_kkbFTHQ",
           12,
           2017,
           3557393,
           110797
          ],
          [
           "ilyTQSn2zRo",
           2,
           2017,
           1174846,
           44317
          ],
          [
           "l0DoQYGZt8M",
           10,
           2017,
           18887307,
           322918
          ],
          [
           "a-9IZz8Ry5I",
           8,
           2017,
           2607211,
           74301
          ],
          [
           "PgeJ0XYuI2E",
           4,
           2017,
           1569945,
           80826
          ],
          [
           "wd9-VP2LzM8",
           -1,
           2017,
           4039064,
           80996
          ],
          [
           "ld5H2L4j6LE",
           10,
           2017,
           5307102,
           107633
          ],
          [
           "wQD1JvJZXdI",
           12,
           2017,
           3495780,
           82225
          ],
          [
           "m__4JVtUTCk",
           10,
           2017,
           2231679,
           71059
          ],
          [
           "iOnNXJs6FUU",
           12,
           2017,
           2618028,
           56800
          ],
          [
           "_HTXMhKWqnA",
           10,
           2017,
           7532163,
           143213
          ],
          [
           "Ca8F3_olFvA",
           -1,
           2017,
           3119674,
           68988
          ],
          [
           "ftqaMBDj2oY",
           12,
           2017,
           3430761,
           77330
          ],
          [
           "UeoeaDvhGvQ",
           4,
           2017,
           1175985,
           38245
          ],
          [
           "XOoCGWk3y0s",
           12,
           2017,
           2452416,
           63976
          ],
          [
           "hQZp6lp-3as",
           1,
           2017,
           1511655,
           47499
          ],
          [
           "sdw_jquVZe0",
           -1,
           2017,
           1004419,
           44379
          ],
          [
           "BkpAro4zIwU",
           -1,
           2017,
           6355097,
           132670
          ],
          [
           "r7ygnDKpFRE",
           10,
           2017,
           6009186,
           75848
          ],
          [
           "z3X49SYvbo0",
           2,
           2017,
           4463084,
           126548
          ],
          [
           "oSnoYEzZnUg",
           -1,
           2017,
           1341053,
           66861
          ],
          [
           "2w5B1Ne-fy4",
           11,
           2017,
           6364903,
           106735
          ],
          [
           "QnmpkMz69ZE",
           -1,
           2017,
           4322340,
           118738
          ],
          [
           "OkPter7MC1I",
           4,
           2017,
           4945226,
           114684
          ],
          [
           "3Dl8wLo1W6E",
           6,
           2017,
           3982963,
           74101
          ],
          [
           "tQzqFbwWPSk",
           -1,
           2017,
           5231564,
           107438
          ],
          [
           "uxxEjI27dwg",
           -1,
           2017,
           2103424,
           52345
          ],
          [
           "l5nv86zjPro",
           8,
           2017,
           1249197,
           34295
          ],
          [
           "6lCQqpvdgLQ",
           12,
           2017,
           1431531,
           45101
          ],
          [
           "CnTuumKNvrI",
           12,
           2017,
           2040550,
           60479
          ],
          [
           "JBjCH8nRBYE",
           -1,
           2017,
           1262138,
           46674
          ],
          [
           "Wp-SqWal3VQ",
           10,
           2017,
           1697427,
           45348
          ],
          [
           "ygMHYJEtk2c",
           4,
           2017,
           849110,
           26361
          ],
          [
           "BfOLimMAhrs",
           -1,
           2017,
           2773316,
           68701
          ],
          [
           "VEVWRGC0OJA",
           -1,
           2017,
           1223770,
           42406
          ],
          [
           "RvXmktAurSQ",
           1,
           2017,
           1803202,
           46474
          ],
          [
           "ywk2-xx0LP0",
           -1,
           2017,
           871064,
           29848
          ],
          [
           "ZNAxkJL5OKU",
           12,
           2017,
           1715680,
           47352
          ],
          [
           "DtmGMcMeEJE",
           4,
           2017,
           2002829,
           60113
          ],
          [
           "nNlTNE1y9DM",
           12,
           2017,
           5524310,
           114431
          ],
          [
           "qfy6Bbro8GI",
           7,
           2017,
           1732494,
           47908
          ],
          [
           "DFKFnkP_sLQ",
           -1,
           2017,
           3574844,
           83869
          ],
          [
           "4DlNrCZFNGo",
           12,
           2017,
           2134876,
           46308
          ],
          [
           "xfG15i_uQvc",
           1,
           2017,
           3648069,
           135478
          ],
          [
           "Lm0QkWqMqHQ",
           12,
           2017,
           3098476,
           153916
          ],
          [
           "Fz-6MdlPY1M",
           12,
           2017,
           6721386,
           125505
          ],
          [
           "zOMGY22XQs8",
           10,
           2017,
           1228260,
           38409
          ],
          [
           "mJY-HhPcFhQ",
           2,
           2017,
           6488402,
           216574
          ],
          [
           "Nq2Kum-eG8g",
           12,
           2017,
           2363643,
           69916
          ],
          [
           "9VbD649W8EY",
           -1,
           2017,
           986310,
           37623
          ],
          [
           "jbXEWi-OK4o",
           0,
           2017,
           4449589,
           105721
          ],
          [
           "g-WWzf3wUik",
           9,
           2017,
           1157720,
           42041
          ],
          [
           "X0ggW9mA22k",
           12,
           2017,
           2302506,
           49921
          ],
          [
           "60OkiR1ujdg",
           9,
           2017,
           1733384,
           38658
          ],
          [
           "f0NdOE5GTgo",
           -1,
           2017,
           1179564,
           34975
          ],
          [
           "xcSOGYqQ_kY",
           0,
           2017,
           909373,
           28680
          ],
          [
           "Vr3ya_uPmxg",
           1,
           2017,
           731411,
           33566
          ],
          [
           "5JdHSmaRiP4",
           1,
           2017,
           1079200,
           28693
          ],
          [
           "J49hiExRUmQ",
           10,
           2017,
           1933507,
           61414
          ],
          [
           "srj-NLj4Kt0",
           10,
           2017,
           4289344,
           77479
          ],
          [
           "xXjQ6UoHs5U",
           2,
           2017,
           979254,
           36708
          ],
          [
           "9g2oMlstdwY",
           8,
           2017,
           2152950,
           45996
          ],
          [
           "qtXZlpJP-Ik",
           2,
           2017,
           1020703,
           34591
          ],
          [
           "M2VvFXCR3II",
           0,
           2017,
           2116032,
           55610
          ],
          [
           "XIzimkcuEuk",
           0,
           2017,
           1262453,
           44123
          ],
          [
           "67plwXQk6Ek",
           2,
           2017,
           1063636,
           47535
          ],
          [
           "b-Bux7YrzxY",
           12,
           2016,
           1602174,
           44016
          ],
          [
           "eFLTXiT5Rso",
           1,
           2016,
           2343179,
           64523
          ],
          [
           "Y6tzhAg0fQQ",
           2,
           2016,
           1717859,
           111231
          ],
          [
           "NKY93vCiPIo",
           -1,
           2016,
           3115063,
           87175
          ],
          [
           "LR708uA4zQ8",
           -1,
           2016,
           3794201,
           88695
          ],
          [
           "tXp-_3jvKsI",
           2,
           2016,
           1257960,
           39960
          ],
          [
           "KftNp6hdO5g",
           9,
           2016,
           3527471,
           86092
          ],
          [
           "iHwC92t2yQ4",
           0,
           2016,
           1821908,
           51423
          ],
          [
           "JFiu5rfnhzo",
           -1,
           2016,
           4361502,
           103480
          ],
          [
           "DhCJuJoE6wM",
           1,
           2016,
           3690584,
           70233
          ],
          [
           "WmHtebBGzjg",
           1,
           2016,
           2576072,
           48477
          ],
          [
           "Snzshdl3hHI",
           1,
           2016,
           1487711,
           36949
          ],
          [
           "77aeW3bsCzc",
           9,
           2016,
           1961887,
           40829
          ],
          [
           "gWoqwCGQIM0",
           1,
           2016,
           2532867,
           80625
          ],
          [
           "iuOslAj9-5A",
           2,
           2016,
           845060,
           33414
          ],
          [
           "mOwYlhUbsko",
           7,
           2016,
           2975717,
           76865
          ],
          [
           "0f_BTRPUr6k",
           11,
           2016,
           2455563,
           59254
          ],
          [
           "C9Plog9I1JY",
           -1,
           2016,
           1631736,
           87019
          ],
          [
           "m7plA1ALkQw",
           12,
           2016,
           6866243,
           124092
          ],
          [
           "H3ZDtArXS6I",
           -1,
           2016,
           1062970,
           46437
          ],
          [
           "7q48xYdb8is",
           1,
           2016,
           1341024,
           63687
          ],
          [
           "J8esUVOF-G4",
           2,
           2016,
           2300073,
           49541
          ],
          [
           "XGFQOZ_owtc",
           7,
           2016,
           5479183,
           83465
          ],
          [
           "-7q4lqhvlVQ",
           12,
           2016,
           3272578,
           62790
          ],
          [
           "lV70CxFlx7w",
           12,
           2016,
           2547269,
           64670
          ],
          [
           "-ICgMYIzhxg",
           0,
           2016,
           2098357,
           83989
          ],
          [
           "XMAwwpYQd7E",
           -1,
           2016,
           1909060,
           42657
          ],
          [
           "J5HtSy5bATk",
           10,
           2016,
           10953455,
           121917
          ],
          [
           "7TAPdmSuYBQ",
           -1,
           2016,
           1081618,
           24820
          ],
          [
           "BUsL-IxPquA",
           -1,
           2016,
           1747593,
           43873
          ],
          [
           "W82ErGmjUik",
           7,
           2016,
           2090329,
           43316
          ],
          [
           "4l8eeqgCJnQ",
           2,
           2016,
           859491,
           34129
          ],
          [
           "ptni6tRrU54",
           11,
           2016,
           1302194,
           29661
          ],
          [
           "0Ae0YwmgYTY",
           10,
           2016,
           1432569,
           29513
          ],
          [
           "yXYZQFTs8h0",
           12,
           2016,
           1542354,
           32214
          ],
          [
           "ObDkWUm10OQ",
           12,
           2016,
           2232905,
           50337
          ],
          [
           "OvyzimtwCdU",
           -1,
           2016,
           747968,
           25606
          ],
          [
           "2b1VPqCrk2c",
           -1,
           2016,
           878421,
           23452
          ],
          [
           "iaUW8Cn8fc0",
           12,
           2016,
           1720786,
           37793
          ],
          [
           "AeuIE0gTYgg",
           3,
           2016,
           1028052,
           31249
          ],
          [
           "DAxj9CjczXw",
           9,
           2016,
           3250036,
           51544
          ],
          [
           "yD2iHEW09wk",
           12,
           2016,
           1258918,
           35325
          ],
          [
           "juzeLmUMjv0",
           12,
           2016,
           1570955,
           31730
          ],
          [
           "Hew1t8XZbPs",
           3,
           2016,
           1016624,
           30633
          ],
          [
           "96PJdbJysxQ",
           -1,
           2016,
           2082646,
           52813
          ],
          [
           "mGojonPKBkY",
           7,
           2016,
           1219162,
           44308
          ],
          [
           "GiNSOLpC1-Y",
           9,
           2016,
           1307527,
           28306
          ],
          [
           "xCRjWur8-7c",
           2,
           2016,
           648191,
           22928
          ],
          [
           "Tx_lyy4-SeY",
           10,
           2016,
           5705833,
           79377
          ],
          [
           "WmhKCq0vfjE",
           9,
           2016,
           768788,
           21210
          ],
          [
           "9kiECQodMqE",
           12,
           2016,
           2176744,
           41808
          ],
          [
           "xdmuzyg50Vg",
           -1,
           2016,
           1561796,
           32725
          ],
          [
           "wsN6AHN2FbM",
           -1,
           2016,
           1003133,
           30192
          ],
          [
           "amP7GVlUv2I",
           1,
           2016,
           1176759,
           27884
          ],
          [
           "X3DmlFkC2cI",
           -1,
           2015,
           931945,
           39322
          ],
          [
           "dU1YfSZDClE",
           9,
           2016,
           1469537,
           35420
          ],
          [
           "LeLi_Whav3I",
           -1,
           2016,
           778692,
           26723
          ],
          [
           "1sgeM6DsV40",
           12,
           2016,
           5590684,
           100421
          ],
          [
           "gGrPigM0NeE",
           -1,
           2016,
           5782872,
           98567
          ],
          [
           "ShcnNkr_PEY",
           2,
           2015,
           720187,
           97687
          ],
          [
           "7SKRn_VNwNA",
           12,
           2016,
           5705321,
           66283
          ],
          [
           "O6aSIa1sk6g",
           12,
           2016,
           1462371,
           36266
          ],
          [
           "ZvPxjhTOEgM",
           12,
           2016,
           2457320,
           48388
          ],
          [
           "C5UiAaeHdgg",
           2,
           2016,
           695555,
           27272
          ],
          [
           "2JlDVUcedbo",
           -1,
           2016,
           1683257,
           50345
          ],
          [
           "vZLZtH5hnKo",
           2,
           2016,
           844793,
           36995
          ],
          [
           "C-8Ux5ZQLLI",
           2,
           2016,
           952029,
           33112
          ],
          [
           "itInMEcvjYc",
           12,
           2016,
           1188609,
           37461
          ],
          [
           "RCgPD2sfbAQ",
           12,
           2016,
           1933592,
           53757
          ],
          [
           "8bMbcNUM68U",
           7,
           2016,
           1745073,
           45006
          ],
          [
           "XVL0ybe18yI",
           4,
           2016,
           1174082,
           28996
          ],
          [
           "FBWvXZP_frg",
           -1,
           2016,
           1809613,
           57038
          ],
          [
           "5IJWckL5L84",
           12,
           2016,
           1446814,
           38321
          ],
          [
           "ya7VlofjdwY",
           2,
           2016,
           833770,
           36805
          ],
          [
           "0hUxIO09hPA",
           12,
           2016,
           1415179,
           41663
          ],
          [
           "dP5Au3tH448",
           -1,
           2015,
           3149795,
           158703
          ],
          [
           "UBuVR8_Mybw",
           -1,
           2015,
           2119931,
           65095
          ],
          [
           "AqkBD2FK7KE",
           9,
           2015,
           836929,
           21090
          ],
          [
           "-tuHrt42WnI",
           10,
           2015,
           1842099,
           42839
          ],
          [
           "h0BSqrfXBjM",
           6,
           2015,
           1981376,
           45447
          ],
          [
           "fgK-bxZIG-o",
           12,
           2015,
           1910718,
           39227
          ],
          [
           "9TWB32376QA",
           -1,
           2015,
           1294957,
           33248
          ],
          [
           "9E006QLHt0Y",
           2,
           2015,
           1765643,
           54448
          ],
          [
           "kEMmKu4tYWI",
           12,
           2015,
           1875818,
           37757
          ],
          [
           "K-jYDRd_53w",
           12,
           2015,
           2610288,
           38350
          ],
          [
           "XAoQPp9XLt8",
           6,
           2015,
           1847907,
           37289
          ],
          [
           "0NTOZbjg6SE",
           7,
           2015,
           2217577,
           45406
          ],
          [
           "YuHD9h5gTS4",
           2,
           2015,
           1083445,
           29637
          ],
          [
           "zulLRv0GFhM",
           -1,
           2015,
           1336305,
           34175
          ],
          [
           "Xc5fFvp8le4",
           7,
           2015,
           4023162,
           94083
          ],
          [
           "qv-RVkpQTWs",
           2,
           2015,
           597508,
           25713
          ],
          [
           "1K3iMWgAQzI",
           7,
           2015,
           1391856,
           35759
          ],
          [
           "m1fUil7QLNI",
           10,
           2015,
           1165323,
           37695
          ],
          [
           "2IIUHleexIk",
           3,
           2015,
           1190526,
           26545
          ],
          [
           "cqybfPNbWBA",
           -1,
           2015,
           1067828,
           32484
          ],
          [
           "gN-MeB-S8Kw",
           10,
           2015,
           7045006,
           75999
          ],
          [
           "Aq6RRmDExeI",
           11,
           2015,
           1149913,
           31481
          ],
          [
           "orPHNS-0CZI",
           6,
           2015,
           2112099,
           69231
          ],
          [
           "q6kIwfEGLO4",
           12,
           2015,
           1459318,
           32489
          ],
          [
           "5Nnu5Vdhwfs",
           12,
           2015,
           1024979,
           33437
          ],
          [
           "E357cGzOGLM",
           10,
           2015,
           7852715,
           126959
          ],
          [
           "MQ9GDfE3BZg",
           7,
           2015,
           2091684,
           55994
          ],
          [
           "nL9Guwuv8HY",
           2,
           2015,
           946895,
           28214
          ],
          [
           "HALtebWHpNA",
           6,
           2015,
           2117888,
           39728
          ],
          [
           "91av8wCH7CI",
           11,
           2015,
           2161491,
           50335
          ],
          [
           "gM_gTtll7FE",
           12,
           2015,
           1626760,
           33518
          ],
          [
           "cx20nTPZjes",
           2,
           2015,
           1271820,
           29312
          ],
          [
           "cqLMQCG5pCs",
           12,
           2015,
           1670449,
           42001
          ],
          [
           "LObJOc5u7sY",
           9,
           2015,
           1545731,
           40460
          ],
          [
           "xpc07Lbgrow",
           2,
           2015,
           2169366,
           41306
          ],
          [
           "JWv3oRaZO9Y",
           3,
           2015,
           1328991,
           28404
          ],
          [
           "XtLpZLM4jg0",
           -1,
           2015,
           706601,
           26470
          ],
          [
           "V-nBAcr_huw",
           12,
           2015,
           4320459,
           56407
          ],
          [
           "VDiOv9148gc",
           11,
           2015,
           1200820,
           33183
          ],
          [
           "Nmkab1LUqlg",
           12,
           2015,
           1589619,
           62183
          ],
          [
           "9sTVbeq21dI",
           1,
           2015,
           1070591,
           36911
          ],
          [
           "s8Un0XB_8xk",
           11,
           2015,
           3372020,
           52253
          ],
          [
           "9HDKRP4nzc0",
           12,
           2015,
           1301248,
           29477
          ],
          [
           "7jrmnPFlqG0",
           10,
           2015,
           2683767,
           51570
          ],
          [
           "GkqI_2Fp9ok",
           12,
           2015,
           822052,
           31091
          ],
          [
           "g0n2zT9xBdM",
           12,
           2015,
           2821720,
           45084
          ],
          [
           "TA8JprZlDYA",
           1,
           2015,
           2418800,
           44218
          ],
          [
           "UrzhzCA1NUw",
           12,
           2015,
           1116895,
           20361
          ],
          [
           "VgmyVHYV1mE",
           12,
           2015,
           2055563,
           94307
          ],
          [
           "XZvqQ4xK1R8",
           7,
           2015,
           2233864,
           50099
          ],
          [
           "N3NPXB3eiPY",
           3,
           2015,
           1649642,
           37435
          ],
          [
           "Qfd8nck5cP4",
           2,
           2015,
           1313911,
           77670
          ],
          [
           "VTUDzrIgZlI",
           -1,
           2015,
           3057510,
           65741
          ],
          [
           "dPL1-8ypnEs",
           3,
           2015,
           2634714,
           48208
          ],
          [
           "Ws9KAQS02Yo",
           12,
           2015,
           5774951,
           62669
          ],
          [
           "4CJvasYJP6o",
           2,
           2015,
           1112740,
           43861
          ],
          [
           "WjUebpBA2AE",
           -1,
           2015,
           1329984,
           39088
          ],
          [
           "lpwa5iYOjU8",
           12,
           2015,
           1232916,
           28451
          ],
          [
           "4Q6kdHSWNZM",
           2,
           2015,
           638464,
           21450
          ],
          [
           "5x6DELO6Sz4",
           12,
           2015,
           2014331,
           43818
          ],
          [
           "sBO5RKq8PXc",
           11,
           2015,
           1185898,
           25609
          ],
          [
           "JDJDeuJbiKc",
           1,
           2015,
           1934244,
           34463
          ],
          [
           "8syPkiANwYk",
           2,
           2015,
           774013,
           104034
          ],
          [
           "i4Zt3JZejbg",
           -1,
           2015,
           1662517,
           31796
          ],
          [
           "ZrZISyPucMg",
           1,
           2015,
           4849462,
           85086
          ],
          [
           "GttoIyB_lEQ",
           1,
           2015,
           2774786,
           41753
          ],
          [
           "2ircZoqveuA",
           12,
           2015,
           1053891,
           21390
          ],
          [
           "QXF3tUfvuLU",
           12,
           2015,
           1138711,
           24558
          ],
          [
           "KrxrzzTUPD8",
           12,
           2015,
           1704060,
           28569
          ],
          [
           "aJinPXrOZYk",
           -1,
           2015,
           756171,
           24215
          ],
          [
           "lMGggUDolRI",
           12,
           2014,
           1647314,
           63667
          ],
          [
           "vE-P7zzCCsU",
           7,
           2014,
           1287395,
           27981
          ],
          [
           "_z9q096Lhj0",
           0,
           2015,
           1181923,
           23865
          ],
          [
           "KG9E5LaI8bk",
           6,
           2015,
           835886,
           25034
          ],
          [
           "UUBDiUy2824",
           11,
           2015,
           1095392,
           25220
          ],
          [
           "CjYPLWcgAOE",
           -1,
           2014,
           2833682,
           59034
          ],
          [
           "t8eKwFESN8s",
           -1,
           2015,
           493925,
           15840
          ],
          [
           "UJ9Lbao6j-c",
           0,
           2015,
           857120,
           31246
          ],
          [
           "Zh2wtbNrlyw",
           -1,
           2014,
           942169,
           21276
          ],
          [
           "aEDJkbSJKP0",
           2,
           2014,
           664647,
           24633
          ],
          [
           "RoAPTdvgAJg",
           -1,
           2014,
           2847258,
           48685
          ],
          [
           "nnODX_VEp2c",
           0,
           2015,
           2868624,
           47493
          ],
          [
           "f6pPIG3EvAs",
           -1,
           2014,
           2847721,
           69096
          ],
          [
           "26C_O6hDMjQ",
           12,
           2014,
           1169424,
           32875
          ],
          [
           "arlvHJnfFKI",
           2,
           2015,
           706676,
           29433
          ],
          [
           "dIfLmM0YkXM",
           -1,
           2015,
           1060898,
           28530
          ],
          [
           "9nTJlmsa_Bo",
           7,
           2015,
           1057987,
           25725
          ],
          [
           "7hXjxLrDf5I",
           12,
           2015,
           855314,
           22372
          ],
          [
           "3yoAj-PRsZ0",
           9,
           2015,
           2035146,
           34588
          ],
          [
           "DqVPbEcWtA0",
           6,
           2014,
           2570970,
           33080
          ],
          [
           "7h-R73VTXXQ",
           7,
           2014,
           1015951,
           48231
          ],
          [
           "W-QoakKxTjg",
           7,
           2014,
           589682,
           22224
          ],
          [
           "YyrUBJQmUGs",
           2,
           2014,
           805737,
           21578
          ],
          [
           "pEDQ1z1-PvU",
           7,
           2014,
           3027545,
           69289
          ],
          [
           "hoQKLOrAU4E",
           12,
           2014,
           3348078,
           66813
          ],
          [
           "opVgMDtBecA",
           12,
           2014,
           2174986,
           37952
          ],
          [
           "iTLp2F4dm4I",
           7,
           2014,
           1161029,
           48212
          ],
          [
           "61TAqY03xwk",
           12,
           2014,
           7786164,
           82976
          ],
          [
           "SlTvgY9PeCQ",
           12,
           2014,
           1723171,
           22827
          ],
          [
           "s3QcOSyD38M",
           10,
           2014,
           2442746,
           48822
          ],
          [
           "XSf33i8njNU",
           10,
           2014,
           3454051,
           39410
          ],
          [
           "BK3YvlOFRTg",
           12,
           2014,
           1809195,
           47189
          ],
          [
           "X8DOUSGGw10",
           3,
           2014,
           2299046,
           51615
          ],
          [
           "nxM-rac7vb4",
           3,
           2014,
           3038376,
           68622
          ],
          [
           "uALVIcQXH4Q",
           12,
           2014,
           5626902,
           44839
          ],
          [
           "8tU-0Uxz6jw",
           12,
           2014,
           2267577,
           36089
          ],
          [
           "ZsxQxS0AdBY",
           9,
           2014,
           9727155,
           212275
          ],
          [
           "EC00YntB7LQ",
           2,
           2014,
           951544,
           24801
          ],
          [
           "PNp2IjVv3HI",
           7,
           2014,
           1213699,
           23457
          ],
          [
           "9HtGhNUtW-E",
           2,
           2014,
           1124910,
           28832
          ],
          [
           "2z9uOm-Ydrk",
           3,
           2014,
           1011901,
           23036
          ],
          [
           "sFGEBTdK2Z0",
           12,
           2014,
           675378,
           24212
          ],
          [
           "RUC_F0OQdDg",
           7,
           2014,
           606731,
           24316
          ],
          [
           "5BRVHKG_hpU",
           11,
           2014,
           1133375,
           21474
          ],
          [
           "hgj1x0ecJMo",
           2,
           2014,
           398746,
           28252
          ],
          [
           "b7ANcWQEUI8",
           -1,
           2014,
           3202344,
           37922
          ],
          [
           "5R0_FJ4r73s",
           10,
           2014,
           9219667,
           60732
          ],
          [
           "W8BfirN9z94",
           1,
           2014,
           1255090,
           35420
          ],
          [
           "EcMBuRX-EdU",
           11,
           2014,
           928619,
           25453
          ],
          [
           "NH_7FqSuxkU",
           7,
           2014,
           320011,
           15073
          ],
          [
           "d6605kiXmm8",
           -1,
           2014,
           1317276,
           24658
          ],
          [
           "7QH1qFd24bY",
           12,
           2014,
           2835335,
           33581
          ],
          [
           "yAyR_YHEZ_c",
           -1,
           2014,
           871856,
           20319
          ],
          [
           "yBWNZTYPbzA",
           3,
           2014,
           395305,
           10661
          ],
          [
           "R7siKvpvuCM",
           2,
           2014,
           483276,
           34164
          ],
          [
           "lXPvnhNcMs0",
           10,
           2014,
           1224601,
           30853
          ],
          [
           "c4zAPmQZmYA",
           0,
           2014,
           1517276,
           43769
          ],
          [
           "2XvDb37qIdg",
           -1,
           2014,
           3724204,
           35726
          ],
          [
           "6trOg2IK2Zg",
           -1,
           2014,
           1350479,
           27603
          ],
          [
           "FrgGHAab9D8",
           11,
           2014,
           3316187,
           64237
          ],
          [
           "AVpfhoi_uOM",
           10,
           2014,
           7627394,
           44320
          ],
          [
           "y9ue7TNpxS0",
           7,
           2014,
           1467257,
           40341
          ],
          [
           "Ij9njxJUyUQ",
           2,
           2014,
           1537519,
           33679
          ],
          [
           "TmikWdsrz_U",
           2,
           2014,
           506189,
           43511
          ],
          [
           "BOOa1wZhkzY",
           12,
           2014,
           726705,
           16349
          ],
          [
           "U13DF7R-iuw",
           3,
           2014,
           1013150,
           20067
          ],
          [
           "Btr8uOU0BkI",
           12,
           2014,
           2098419,
           44891
          ],
          [
           "Ew5ZzloH4Mg",
           12,
           2014,
           800645,
           19999
          ],
          [
           "jzezFz6CMqg",
           11,
           2014,
           581215,
           19885
          ],
          [
           "QahWCPNALDA",
           12,
           2014,
           705882,
           21396
          ],
          [
           "pwsPZi_JRrA",
           12,
           2014,
           3683991,
           50563
          ],
          [
           "z8gOX35dAfc",
           12,
           2014,
           2118510,
           33053
          ],
          [
           "d7n34bkF-Ew",
           12,
           2014,
           2159821,
           33822
          ],
          [
           "pmnLca3FneU",
           1,
           2014,
           1764963,
           25899
          ],
          [
           "zSlt_2X8sPw",
           12,
           2014,
           1150444,
           28550
          ],
          [
           "pZiKLNnanWs",
           3,
           2014,
           419549,
           17683
          ],
          [
           "VQW48jzIcjk",
           2,
           2014,
           459230,
           16573
          ],
          [
           "D0mCG1BeZCo",
           12,
           2014,
           848848,
           27260
          ],
          [
           "paENIboxKGI",
           -1,
           2014,
           685547,
           23429
          ],
          [
           "lvNrGxpS2jY",
           12,
           2014,
           3579991,
           54854
          ],
          [
           "RwnSX-3ncSA",
           1,
           2014,
           1866241,
           29072
          ],
          [
           "fbwEaql90Ac",
           1,
           2014,
           339255,
           16966
          ],
          [
           "y5DyEYuvF3o",
           9,
           2014,
           2440286,
           44623
          ],
          [
           "fKDuVDZqQ1c",
           2,
           2014,
           508134,
           44527
          ],
          [
           "8QF3qJ0U5K0",
           12,
           2014,
           353914,
           12164
          ],
          [
           "r5TvTH3GOdc",
           12,
           2014,
           443906,
           13666
          ],
          [
           "qauddPrHLqU",
           7,
           2014,
           343322,
           11463
          ],
          [
           "EtKa0ORwaU0",
           2,
           2014,
           340888,
           11989
          ],
          [
           "KBXTLLFgDeo",
           12,
           2014,
           750737,
           24270
          ],
          [
           "dYzlWWa8dCU",
           10,
           2014,
           752800,
           16741
          ],
          [
           "MVyA-T2lNNk",
           1,
           2014,
           609794,
           13346
          ],
          [
           "szd7M-Qi1MI",
           1,
           2014,
           700678,
           18568
          ],
          [
           "_ibTYAxssQw",
           12,
           2014,
           666370,
           13695
          ],
          [
           "BldsuTqsI1g",
           12,
           2014,
           293297,
           9105
          ],
          [
           "YGziBcgP93Y",
           0,
           2014,
           205547,
           8548
          ],
          [
           "M8rSmmLNYUc",
           12,
           2014,
           234358,
           6841
          ],
          [
           "1dg2UIzIt4s",
           7,
           2013,
           2671425,
           48205
          ],
          [
           "tTxhneVcmEo",
           12,
           2013,
           1324933,
           33994
          ],
          [
           "f7TD3Z03l2I",
           7,
           2013,
           1937693,
           37769
          ],
          [
           "L6RW1KaNuL0",
           12,
           2014,
           351095,
           9718
          ],
          [
           "E0_JrUNevdc",
           12,
           2013,
           360210,
           15044
          ],
          [
           "Hr8E-_yU2YA",
           6,
           2013,
           2014210,
           36560
          ],
          [
           "dYmHFsH6E7g",
           2,
           2014,
           385909,
           13488
          ],
          [
           "8L7d6_ZzyoU",
           2,
           2014,
           269297,
           13096
          ],
          [
           "Rrm4isCQDkQ",
           7,
           2014,
           767800,
           17996
          ],
          [
           "lVPAfntOfmc",
           12,
           2013,
           1994384,
           27646
          ],
          [
           "1JEXDBWehvI",
           7,
           2013,
           564667,
           17107
          ],
          [
           "RBCaAq_pKjY",
           7,
           2013,
           543042,
           15514
          ],
          [
           "KFD0Nm2dOHw",
           12,
           2013,
           2643013,
           25836
          ],
          [
           "tTfaaqXYXxQ",
           7,
           2013,
           503615,
           19500
          ],
          [
           "BZjIsZwgKfo",
           12,
           2013,
           752089,
           20129
          ],
          [
           "Z-W66HINFLg",
           12,
           2013,
           8131792,
           105880
          ],
          [
           "8f7mFHYjBG0",
           7,
           2013,
           856606,
           17066
          ],
          [
           "pMFLeoDx6J4",
           12,
           2013,
           663056,
           13249
          ],
          [
           "3AbWtn1ixVk",
           -1,
           2013,
           2220232,
           45114
          ],
          [
           "skXwTxo0Bo0",
           -1,
           2013,
           1097100,
           23809
          ],
          [
           "P4Hbn6xcD9M",
           3,
           2013,
           1238581,
           23725
          ],
          [
           "OMb-jXlkNwY",
           4,
           2013,
           2083386,
           28293
          ],
          [
           "hUgOgMCKXqs",
           12,
           2013,
           1123590,
           14316
          ],
          [
           "z6dkNLn9br0",
           -1,
           2013,
           626198,
           21547
          ],
          [
           "F0zhwl8454Y",
           7,
           2013,
           319956,
           10378
          ],
          [
           "uBEaG6n0XDs",
           10,
           2013,
           10738315,
           152112
          ],
          [
           "9NSBB-kFDGQ",
           12,
           2013,
           4054891,
           84846
          ],
          [
           "WBeFfWUdseI",
           7,
           2013,
           2647314,
           31320
          ],
          [
           "PYJAiY6zuMo",
           12,
           2013,
           261076,
           13633
          ],
          [
           "IovZRv8toDM",
           -1,
           2013,
           1257878,
           25681
          ],
          [
           "uQyRDqnr0FM",
           -1,
           2013,
           1005327,
           23167
          ],
          [
           "6Smu8YbwZ9Q",
           12,
           2013,
           363341,
           9823
          ],
          [
           "fsOxwsFF50c",
           2,
           2013,
           445881,
           11911
          ],
          [
           "elXk87IKgCo",
           -1,
           2013,
           6299653,
           88848
          ],
          [
           "Fi1JUykQBKw",
           12,
           2013,
           3208168,
           58806
          ],
          [
           "8yKXTr7KB40",
           12,
           2013,
           475273,
           9574
          ],
          [
           "lEjwyYOFwZg",
           9,
           2013,
           4701988,
           60993
          ],
          [
           "CJTlB_S7ct0",
           12,
           2013,
           2022360,
           34502
          ],
          [
           "h3wKBfAIdzE",
           4,
           2013,
           860088,
           18040
          ],
          [
           "wEpMtf6nJco",
           7,
           2013,
           1083067,
           29943
          ],
          [
           "3ZX8graseUQ",
           12,
           2013,
           702116,
           29323
          ],
          [
           "TK4u6wm-HIk",
           2,
           2013,
           3882817,
           26849
          ],
          [
           "wwXA27TWD3k",
           7,
           2013,
           544057,
           20171
          ],
          [
           "nei16gkVxpg",
           -1,
           2013,
           372775,
           11324
          ],
          [
           "YmuOwOb35qs",
           12,
           2013,
           708739,
           13143
          ],
          [
           "TTWJq2MpCx4",
           2,
           2013,
           144383,
           14748
          ],
          [
           "CntfUc_Sd1c",
           12,
           2013,
           749144,
           14824
          ],
          [
           "tC1LxFS5uA4",
           10,
           2013,
           2630183,
           43769
          ],
          [
           "fNt-QXLp6YI",
           12,
           2013,
           316224,
           8528
          ],
          [
           "H9HH0vqb4q8",
           7,
           2013,
           209983,
           12964
          ],
          [
           "saoiKoNvnn8",
           2,
           2013,
           208048,
           8256
          ],
          [
           "epLszn-rnpA",
           1,
           2013,
           1001843,
           12980
          ],
          [
           "ZWKl-FeUApA",
           12,
           2013,
           115735,
           8913
          ],
          [
           "zb5Wp_i8oQo",
           12,
           2013,
           1195319,
           23813
          ],
          [
           "onldzSzdqlM",
           7,
           2013,
           185254,
           11233
          ],
          [
           "c74d5kqSEvo",
           -1,
           2013,
           265238,
           8512
          ],
          [
           "rIRpK7KAfM0",
           -1,
           2013,
           220519,
           9165
          ],
          [
           "4i3oKEg6o9g",
           -1,
           2013,
           504111,
           16487
          ],
          [
           "QrM25jqhXdA",
           10,
           2013,
           1225146,
           50360
          ],
          [
           "_bozaSWsDuE",
           12,
           2013,
           88651,
           6756
          ],
          [
           "WxWLVwBqAOc",
           1,
           2013,
           621192,
           15986
          ],
          [
           "swXI_sl5m3I",
           12,
           2013,
           650862,
           13280
          ],
          [
           "wXmzpFoHkfA",
           12,
           2013,
           1916055,
           22058
          ],
          [
           "yR0ZGltMUTM",
           -1,
           2013,
           630468,
           14034
          ],
          [
           "aYtAdCDOCfU",
           12,
           2013,
           587418,
           9320
          ],
          [
           "BygqMgC3W10",
           -1,
           2013,
           1442458,
           27495
          ],
          [
           "Cdbn_pmxFic",
           9,
           2013,
           1872940,
           42541
          ],
          [
           "KF75-HPdUfY",
           12,
           2013,
           2323345,
           36199
          ],
          [
           "jpiPzgBJU9M",
           12,
           2013,
           961344,
           22096
          ],
          [
           "1gUQhN5joSQ",
           -1,
           2013,
           1273386,
           29293
          ],
          [
           "jZoh_QKnGbc",
           12,
           2013,
           160728,
           5061
          ],
          [
           "LDBWrSENTps",
           9,
           2013,
           315313,
           9873
          ],
          [
           "Py6g_FheJWI",
           2,
           2013,
           446051,
           12111
          ],
          [
           "ul3lgaU_lbY",
           4,
           2013,
           439193,
           16702
          ],
          [
           "zUtedhbQDP4",
           2,
           2013,
           156220,
           7479
          ],
          [
           "PGXhG82HRX0",
           12,
           2013,
           607331,
           23451
          ],
          [
           "o9PT9HDXZWs",
           7,
           2013,
           465874,
           8898
          ],
          [
           "GlhXpHULwys",
           12,
           2013,
           693308,
           8780
          ],
          [
           "qp5il7yhM4Y",
           10,
           2013,
           1947832,
           27072
          ],
          [
           "6d0lEMp8Vtk",
           1,
           2013,
           528087,
           11134
          ],
          [
           "83Y31z3ZI2A",
           -1,
           2013,
           951735,
           15532
          ],
          [
           "CP5LB1eQff0",
           -1,
           2013,
           189375,
           5988
          ],
          [
           "xU2fB0pQJkA",
           1,
           2013,
           370575,
           9526
          ],
          [
           "LkOC0gbNF20",
           7,
           2013,
           3113170,
           43830
          ],
          [
           "uj0S2rgmu-M",
           -1,
           2013,
           3792464,
           74164
          ],
          [
           "XkqiFOvF8v0",
           12,
           2013,
           673929,
           15698
          ],
          [
           "MQ97Kymd6X0",
           7,
           2013,
           72160,
           4878
          ],
          [
           "6A-PpwfM1wo",
           12,
           2013,
           254681,
           5380
          ],
          [
           "Wm4jH01Sluc",
           1,
           2013,
           722156,
           16339
          ],
          [
           "K9CNsBCmrNg",
           1,
           2013,
           621152,
           17017
          ],
          [
           "Rd89JLYsoOI",
           1,
           2013,
           526379,
           11287
          ],
          [
           "N4fpYnzqHEM",
           1,
           2013,
           582878,
           12417
          ],
          [
           "mVLyd9_czWE",
           -1,
           2013,
           1051008,
           20765
          ],
          [
           "9qf3OmxwmhM",
           2,
           2013,
           77905,
           3586
          ],
          [
           "HVL6Kwk8IOA",
           12,
           2013,
           72267,
           3324
          ],
          [
           "SEXiPc3q1tg",
           -1,
           2013,
           86516,
           1680
          ],
          [
           "tRyEYlvb66I",
           -1,
           2013,
           101860,
           3978
          ],
          [
           "YginQUkrJ50",
           12,
           2013,
           383071,
           7760
          ],
          [
           "PAs6yQUCkno",
           -1,
           2012,
           559414,
           15384
          ],
          [
           "RvfjuYUe6-w",
           7,
           2012,
           152458,
           5931
          ],
          [
           "NyoM_i1jJZc",
           7,
           2012,
           131642,
           4304
          ],
          [
           "y2d2tlnNYOg",
           7,
           2012,
           102198,
           3497
          ],
          [
           "nCVygTgQKUs",
           7,
           2012,
           179576,
           4676
          ],
          [
           "bJOGQ_SJ8Dc",
           7,
           2012,
           218609,
           7933
          ],
          [
           "G43tYXIlUV4",
           7,
           2012,
           566663,
           16885
          ],
          [
           "GFdzwQw4CxQ",
           -1,
           2012,
           204085,
           6239
          ],
          [
           "iwaW6HR9dw4",
           1,
           2012,
           670464,
           12661
          ],
          [
           "RQy0NeVnxLo",
           7,
           2012,
           506427,
           12405
          ],
          [
           "WeHC3qjt1Ws",
           7,
           2012,
           144879,
           7568
          ],
          [
           "2No-AEasdz8",
           12,
           2012,
           1165211,
           17602
          ],
          [
           "zFOnOLXrMBQ",
           7,
           2012,
           891093,
           16778
          ],
          [
           "yRaIjn6q9Jo",
           7,
           2012,
           155720,
           2373
          ],
          [
           "IysmRC4aAFc",
           7,
           2012,
           293441,
           5385
          ],
          [
           "xVlzDdxaaaE",
           7,
           2012,
           417040,
           6989
          ],
          [
           "Tqm8Izfn_oU",
           2,
           2012,
           68648,
           3509
          ],
          [
           "q1zZ8cGF1OI",
           -1,
           2012,
           81101,
           5525
          ],
          [
           "uO0Q7SMZvfg",
           7,
           2012,
           971664,
           17294
          ],
          [
           "6PEmKUBtWlk",
           12,
           2012,
           279431,
           6129
          ],
          [
           "gfPNNdY1Fjs",
           2,
           2012,
           39607,
           2103
          ],
          [
           "PPEpTasDz2s",
           1,
           2012,
           90336,
           2943
          ],
          [
           "8gca3uud87c",
           4,
           2012,
           313251,
           5473
          ],
          [
           "FFuePFTf9LQ",
           2,
           2012,
           105590,
           4696
          ],
          [
           "7Tw9Yk-6jkQ",
           12,
           2012,
           173232,
           3548
          ],
          [
           "VdsMwGWvhO4",
           12,
           2012,
           4732783,
           56030
          ],
          [
           "-gqjCVTXBeM",
           7,
           2012,
           60695,
           1739
          ],
          [
           "JpsTUT4F3BA",
           7,
           2012,
           53725,
           2568
          ],
          [
           "eFcpRIwPqRc",
           2,
           2012,
           83699,
           4200
          ],
          [
           "hKvoHRAYyMc",
           2,
           2012,
           103113,
           1767
          ],
          [
           "kRB1-APKUqs",
           -1,
           2012,
           399829,
           9222
          ],
          [
           "1E6PDgIwFg4",
           12,
           2012,
           169900,
           6563
          ],
          [
           "aSZ2GogKawQ",
           2,
           2012,
           79144,
           3021
          ],
          [
           "Teyx-jx2Ano",
           1,
           2012,
           156787,
           3375
          ],
          [
           "MS3VXAUZcJE",
           1,
           2012,
           155838,
           4872
          ],
          [
           "APQqX8Xd5TA",
           7,
           2012,
           68000,
           3057
          ],
          [
           "IT73da-C4sw",
           12,
           2012,
           524588,
           7284
          ],
          [
           "3L27XnwKWkY",
           1,
           2012,
           86983,
           2823
          ],
          [
           "_02K6efDLI0",
           -1,
           2012,
           363365,
           11484
          ],
          [
           "_hhEz4Uo79k",
           2,
           2012,
           80891,
           2263
          ],
          [
           "b_xRPA0CjJg",
           2,
           2012,
           942930,
           25342
          ],
          [
           "bK959V_9XgQ",
           -1,
           2012,
           1453250,
           16402
          ],
          [
           "YddnWW_JYiY",
           7,
           2012,
           199010,
           5960
          ],
          [
           "nzikcaYKOkY",
           12,
           2012,
           98152,
           3411
          ],
          [
           "eG0As9lWP7I",
           7,
           2012,
           79424,
           4129
          ],
          [
           "kw-RzN4xYyE",
           -1,
           2012,
           600306,
           11425
          ],
          [
           "K7uLph0s6f0",
           2,
           2012,
           39647,
           3945
          ],
          [
           "4nKRZA4HVQg",
           7,
           2012,
           43542,
           1772
          ],
          [
           "poSFV9_abcw",
           7,
           2012,
           1064249,
           14499
          ],
          [
           "4JEZ2rrf2N4",
           12,
           2012,
           599678,
           10649
          ],
          [
           "zGXJm2QE5Do",
           1,
           2012,
           121840,
           2023
          ],
          [
           "cp___W5vDAs",
           6,
           2012,
           136351,
           4405
          ],
          [
           "wiWXQEkO5ws",
           -1,
           2012,
           935522,
           24160
          ],
          [
           "2C3Iwafsdbo",
           2,
           2012,
           28007,
           624
          ],
          [
           "cBSp1j5tPyU",
           12,
           2012,
           181991,
           7729
          ],
          [
           "0AZ5WyD2MK4",
           2,
           2012,
           44907,
           2334
          ],
          [
           "1Ij-_XD8tXQ",
           1,
           2012,
           140702,
           2379
          ],
          [
           "CultO7cPnJA",
           4,
           2012,
           1089311,
           26203
          ],
          [
           "xAT0EmZc-LE",
           12,
           2012,
           77908,
           1830
          ],
          [
           "fFRl2oOqDsk",
           7,
           2012,
           481867,
           8444
          ],
          [
           "haOpXNVb_9Q",
           7,
           2012,
           91071,
           2514
          ],
          [
           "0FbjsNsfEmE",
           -1,
           2012,
           345723,
           9082
          ],
          [
           "v8WRJSBi6E4",
           2,
           2012,
           292958,
           5116
          ],
          [
           "_aemBh_vC-Y",
           2,
           2012,
           610884,
           14133
          ],
          [
           "hE3XMbsneMk",
           2,
           2012,
           246565,
           3311
          ],
          [
           "a5C-pzJUMsQ",
           1,
           2012,
           762271,
           27472
          ],
          [
           "B2PCt-LQXzI",
           2,
           2012,
           1674255,
           29068
          ],
          [
           "G_H6mRHS9pc",
           1,
           2012,
           655910,
           12029
          ],
          [
           "dB_xQ2x5Ngo",
           -1,
           2012,
           61276,
           2304
          ],
          [
           "8bT8JvxrBt8",
           2,
           2012,
           72960,
           3244
          ],
          [
           "R3n_J7v82AM",
           6,
           2012,
           254582,
           6858
          ],
          [
           "pzGsUp3yM8w",
           -1,
           2012,
           234012,
           8876
          ],
          [
           "_hRCAg9jFu8",
           -1,
           2012,
           400815,
           4940
          ],
          [
           "gSimDdChHbE",
           9,
           2012,
           143600,
           2611
          ],
          [
           "yLZrBuNBQWc",
           12,
           2012,
           374110,
           5977
          ],
          [
           "fDCumhEKerw",
           3,
           2012,
           69737,
           1262
          ],
          [
           "4f6ti8k_BhY",
           -1,
           2012,
           86806,
           1484
          ],
          [
           "et_PWifUd1w",
           9,
           2012,
           2326100,
           104860
          ],
          [
           "fQqdHfUVOiI",
           -1,
           2012,
           70084,
           2324
          ],
          [
           "KRDYGVqxya4",
           1,
           2012,
           366410,
           8492
          ],
          [
           "6cmhEmwfea0",
           1,
           2012,
           495627,
           9404
          ],
          [
           "ngEoQzIqHMc",
           2,
           2012,
           57636,
           1141
          ],
          [
           "Ktoalz6PbXc",
           12,
           2012,
           392625,
           9402
          ],
          [
           "me5_s4sCA2A",
           -1,
           2012,
           197967,
           6059
          ],
          [
           "wkmL7KyNn3o",
           1,
           2012,
           398974,
           5107
          ],
          [
           "WBdJ6X1hp-U",
           6,
           2012,
           122823,
           3719
          ],
          [
           "Hl7lC1PYor4",
           9,
           2012,
           129864,
           2850
          ],
          [
           "eOBRNrn32tE",
           1,
           2012,
           649538,
           12344
          ],
          [
           "DpW6xbUdE4g",
           -1,
           2012,
           195581,
           2877
          ],
          [
           "kPoPZ4L8O5A",
           9,
           2012,
           314300,
           4134
          ],
          [
           "QCRQ7teMxsI",
           2,
           2012,
           72529,
           1724
          ],
          [
           "eKkSr0W62A4",
           7,
           2012,
           64056,
           1155
          ],
          [
           "rEnRhzB-rcc",
           -1,
           2012,
           42984,
           754
          ],
          [
           "NspuoxVOUD4",
           7,
           2012,
           43730,
           1124
          ],
          [
           "p0nlU7E_xs8",
           -1,
           2012,
           54644,
           504
          ],
          [
           "hrcbcm11830",
           -1,
           2011,
           687947,
           25405
          ],
          [
           "jm3wDComxLQ",
           7,
           2011,
           66460,
           1535
          ],
          [
           "BeIf7osn4GY",
           2,
           2011,
           28440,
           733
          ],
          [
           "tAikHtGndGY",
           12,
           2011,
           58683,
           1717
          ],
          [
           "1bhB1se99sc",
           2,
           2011,
           26062,
           337
          ],
          [
           "d8O7C2kQRVs",
           2,
           2011,
           10127,
           426
          ],
          [
           "XXySJoRe5zc",
           12,
           2011,
           125727,
           6924
          ],
          [
           "wWvaqPY6JVA",
           2,
           2011,
           187695,
           3409
          ],
          [
           "bt0ouTWFyvQ",
           2,
           2011,
           9385,
           355
          ],
          [
           "mo7kYKeT3Vg",
           7,
           2011,
           90454,
           1401
          ],
          [
           "ZXabw4HRXzo",
           -1,
           2011,
           44915,
           692
          ],
          [
           "e6oN6ytpbi0",
           -1,
           2011,
           75764,
           4007
          ],
          [
           "mtBHnwok3rI",
           -1,
           2011,
           207558,
           4954
          ],
          [
           "a6YEI-bOe-E",
           2,
           2011,
           47811,
           1860
          ],
          [
           "7-2FR0m9DM4",
           2,
           2011,
           11010,
           795
          ],
          [
           "iNKUBMx1rX4",
           2,
           2011,
           25457,
           676
          ],
          [
           "8W3bJGflOic",
           -1,
           2011,
           61475,
           2432
          ],
          [
           "hx0na_NEfTQ",
           2,
           2011,
           33047,
           906
          ],
          [
           "YkOBNpnviWk",
           2,
           2011,
           7293,
           130
          ],
          [
           "dTPZ2tuyWFw",
           2,
           2011,
           70472,
           1934
          ],
          [
           "4Etc7n5NCcI",
           2,
           2011,
           43064,
           208
          ],
          [
           "VuIPe93ZmiM",
           7,
           2011,
           209242,
           2758
          ],
          [
           "lF7GLUHu8BE",
           2,
           2011,
           298443,
           5891
          ],
          [
           "_G1d_1ZdsaU",
           2,
           2011,
           117399,
           2635
          ],
          [
           "LpC6UwZR_Hw",
           2,
           2011,
           69278,
           1007
          ],
          [
           "Krdb8lceRoI",
           9,
           2011,
           922681,
           24927
          ],
          [
           "DFdoxqSlzqI",
           2,
           2011,
           9248,
           95
          ],
          [
           "rXKDn_KrVUU",
           7,
           2011,
           44429,
           1735
          ],
          [
           "ti7EeWWfztw",
           2,
           2011,
           33652,
           1550
          ],
          [
           "pVIWkvXvK98",
           7,
           2011,
           42507,
           1632
          ],
          [
           "9ZZQrm07s4A",
           -1,
           2011,
           44935,
           1095
          ],
          [
           "snXTJWL6z4g",
           7,
           2011,
           61685,
           1450
          ],
          [
           "Pt2HXm4Au10",
           2,
           2011,
           66764,
           622
          ],
          [
           "L6FyvJrku8Y",
           2,
           2011,
           52535,
           2451
          ],
          [
           "CAlNejjtSLc",
           2,
           2011,
           16159,
           253
          ],
          [
           "HkHbFlW-ZxE",
           2,
           2011,
           20750,
           749
          ],
          [
           "sK_M5gRMP1I",
           4,
           2011,
           573869,
           19279
          ],
          [
           "VwKtcVrSKL8",
           2,
           2011,
           58219,
           1180
          ],
          [
           "bXxU6QOfMrU",
           1,
           2011,
           46199,
           506
          ],
          [
           "BHBjq1vRTtk",
           1,
           2011,
           86952,
           703
          ],
          [
           "Aji9F-QWNTA",
           2,
           2011,
           310960,
           14478
          ],
          [
           "vatuVGnd_X4",
           2,
           2011,
           34160,
           285
          ],
          [
           "tFMJXSXfmUQ",
           2,
           2011,
           62841,
           588
          ],
          [
           "KQGhAlhHADs",
           2,
           2011,
           39936,
           657
          ],
          [
           "ZYyndBYZBo4",
           2,
           2011,
           47524,
           960
          ],
          [
           "ktpq4GxjVH4",
           2,
           2011,
           168154,
           6685
          ],
          [
           "Ljuw_Bahxbc",
           2,
           2011,
           100150,
           1591
          ],
          [
           "GTgGVsz3xyo",
           2,
           2011,
           31019,
           209
          ],
          [
           "k9tP0OB7MEA",
           2,
           2011,
           17807,
           209
          ],
          [
           "N5oCPNCdFyk",
           2,
           2011,
           17415,
           302
          ],
          [
           "7vZwUStVqdw",
           2,
           2010,
           9227,
           76
          ],
          [
           "vbpHxSsKX1s",
           -1,
           2010,
           9447,
           88
          ],
          [
           "X-X-IZsnbEE",
           2,
           2010,
           22420,
           192
          ],
          [
           "JAGfGvOM07c",
           2,
           2010,
           14519,
           138
          ],
          [
           "ZrHSO3ZldEk",
           2,
           2010,
           21478,
           190
          ],
          [
           "A7ikQqI_FR8",
           9,
           2010,
           376258,
           2836
          ],
          [
           "TuVXpFQlKwo",
           2,
           2010,
           11741,
           102
          ],
          [
           "3DdJtW72hSs",
           2,
           2010,
           7342,
           150
          ],
          [
           "gPi-PFzCoF4",
           1,
           2011,
           288258,
           5762
          ],
          [
           "JJLuABfjkH4",
           2,
           2010,
           5885,
           162
          ],
          [
           "HA6j8G1f_Pk",
           1,
           2010,
           13412,
           142
          ],
          [
           "zRqfTwA0o-o",
           2,
           2010,
           83487,
           1121
          ],
          [
           "e14rw4Ap70w",
           9,
           2010,
           18778,
           171
          ],
          [
           "ZaucXnaIzoY",
           -1,
           2010,
           11902,
           79
          ],
          [
           "EUTHE2yN43U",
           2,
           2010,
           42510,
           399
          ],
          [
           "LZKmeweVcJ0",
           2,
           2010,
           72942,
           1426
          ],
          [
           "ScrOoe9vUIU",
           2,
           2010,
           15392,
           1233
          ],
          [
           "Vq2YQzm6vCY",
           9,
           2010,
           230855,
           892
          ],
          [
           "JGkt3FZJiZs",
           2,
           2010,
           38184,
           393
          ],
          [
           "blUOmfxNg2c",
           1,
           2010,
           25882,
           292
          ],
          [
           "45-CdB3yhbY",
           2,
           2010,
           5915,
           75
          ],
          [
           "VZSfPjSSC-c",
           1,
           2010,
           19808,
           234
          ],
          [
           "KG5cIynaW-E",
           9,
           2010,
           74521,
           470
          ],
          [
           "meCvuJUM8cc",
           -1,
           2011,
           84300,
           1796
          ],
          [
           "a0qY7W-9nbE",
           -1,
           2010,
           5278,
           71
          ],
          [
           "4vaOw5J8A9w",
           2,
           2010,
           19493,
           195
          ],
          [
           "5Ww9OLkJOEM",
           2,
           2010,
           48138,
           692
          ],
          [
           "um0Y5VptwqQ",
           -1,
           2010,
           33848,
           140
          ],
          [
           "dfB5dy-gitM",
           2,
           2010,
           158360,
           1920
          ],
          [
           "kuWKEkYEO8I",
           2,
           2010,
           7339,
           197
          ],
          [
           "HrV348Q_Org",
           10,
           2010,
           7949,
           96
          ],
          [
           "JnVIHQmCgTk",
           -1,
           2010,
           43320,
           996
          ],
          [
           "o-UoLW0XkfA",
           -1,
           2010,
           236899,
           3875
          ],
          [
           "oAAVGxFXp-Y",
           2,
           2010,
           5222,
           152
          ],
          [
           "0H-wgsF6nFc",
           1,
           2010,
           38354,
           247
          ],
          [
           "S_IOXncPeuY",
           9,
           2010,
           73982,
           347
          ],
          [
           "7XdczEd26dU",
           2,
           2010,
           46611,
           332
          ],
          [
           "Fi_ASfyfBm4",
           9,
           2010,
           559780,
           3053
          ],
          [
           "KrW44HcRYfo",
           -1,
           2010,
           26259,
           360
          ],
          [
           "096tJciU694",
           2,
           2010,
           11443,
           110
          ],
          [
           "5CYf9onx8gM",
           2,
           2010,
           7144,
           58
          ],
          [
           "DFIy39gLi-4",
           1,
           2010,
           9669,
           125
          ],
          [
           "pGMfM1J0RRs",
           2,
           2009,
           38040,
           726
          ],
          [
           "D2aFMc8W1qQ",
           -1,
           2010,
           28412,
           333
          ],
          [
           "VH-ab5Law4E",
           2,
           2010,
           11554,
           229
          ],
          [
           "GIN-hALDxHs",
           2,
           2009,
           6915744,
           243030
          ],
          [
           "f9_4lhN9zXM",
           -1,
           2010,
           13579,
           140
          ],
          [
           "ZtQs0Yuwixs",
           1,
           2009,
           19609,
           232
          ],
          [
           "97AJ6IIMbAg",
           2,
           2010,
           15352,
           170
          ],
          [
           "yoyQpeDc9ak",
           2,
           2009,
           44949,
           441
          ],
          [
           "HVRAfBz1S0w",
           2,
           2009,
           11491,
           160
          ],
          [
           "O0ZLMxAHq7Y",
           2,
           2009,
           66870,
           1116
          ],
          [
           "m89I065ngos",
           2,
           2010,
           16984,
           159
          ],
          [
           "phYuTPibRX0",
           2,
           2009,
           8183,
           95
          ],
          [
           "3BYisTr1rk0",
           1,
           2010,
           16600,
           180
          ],
          [
           "8QvBKhk0owA",
           2,
           2010,
           8829,
           96
          ],
          [
           "vnKjUfSBH1o",
           2,
           2010,
           23621,
           134
          ],
          [
           "bwStO4KTGxg",
           2,
           2010,
           15729,
           159
          ],
          [
           "zoF2a0BAIec",
           2,
           2010,
           13919,
           271
          ],
          [
           "DNXVSPL1hvc",
           -1,
           2010,
           14343,
           144
          ],
          [
           "vSD90C4jDzE",
           -1,
           2010,
           97191,
           530
          ],
          [
           "M9qH_eZOhv8",
           2,
           2010,
           73290,
           550
          ],
          [
           "Ue2LGrZDc2M",
           -1,
           2010,
           16646,
           319
          ],
          [
           "4CjZ52MwH7w",
           2,
           2009,
           4847,
           297
          ],
          [
           "ohQBQQLPQ1s",
           2,
           2009,
           30766,
           319
          ],
          [
           "klANjwTxF6s",
           2,
           2010,
           155797,
           685
          ],
          [
           "o8nN2cYxtao",
           2,
           2010,
           11602,
           166
          ],
          [
           "gYRObEyOWYM",
           2,
           2010,
           50422,
           159
          ],
          [
           "CWjj--vJ4rI",
           -1,
           2010,
           91880,
           348
          ],
          [
           "q7jK-2WbXVY",
           -1,
           2009,
           17321,
           231
          ],
          [
           "Wz5csgH8eFw",
           1,
           2010,
           29491,
           227
          ],
          [
           "KkoUMZpIQvw",
           2,
           2010,
           20788,
           141
          ],
          [
           "7UsNikHb6FY",
           2,
           2009,
           4873,
           69
          ],
          [
           "Ez8Dy1vLMZs",
           1,
           2009,
           8156,
           120
          ],
          [
           "k07q3NYTAek",
           -1,
           2009,
           21098,
           312
          ],
          [
           "pO-q89n_coc",
           -1,
           2009,
           19448,
           78
          ],
          [
           "0FxhiUp2Drs",
           1,
           2009,
           35391,
           172
          ],
          [
           "Tel3ytzWyYs",
           2,
           2009,
           7420,
           88
          ],
          [
           "5mgne8q5Dws",
           2,
           2009,
           49024,
           869
          ],
          [
           "O9lS8ta3Ri0",
           2,
           2009,
           50340,
           424
          ],
          [
           "uzOCg72esb4",
           2,
           2009,
           6706,
           116
          ],
          [
           "lhjT0K36cFU",
           1,
           2009,
           24413,
           210
          ]
         ],
         "hovertemplate": "<b>%{hovertext}</b><br><br>x=%{x}<br>y=%{y}<br>Id=%{customdata[0]}<br>Cluster Labels=%{marker.color}<br>Year=%{customdata[2]}<br>View Count=%{customdata[3]}<br>Like Count=%{customdata[4]}<extra></extra>",
         "hovertext": [
          "Taking 1000 Steps  In Every Smartwatch!",
          "Google Pixel 8A Impressions: Just Get The 8!",
          "I Visited Apple&#39;s Secret iPhone Testing Labs!",
          "OnePlus 12 Review: Better Than You Think!",
          "Apple Vision Pro Hidden Feature ✈️ #protip",
          "WWDC 2024 Recap: Is Apple Intelligence Legit?",
          "Unreal Engine 🤝 Electric Cars",
          "This Monster Samsung Tablet is Awesome!",
          "Nothing Phone 2A Review: Flashy Good Deal!",
          "$3500 Apple Vision Pro: What Comes in the Box!",
          "Apple has done this before 👀",
          "iPad Killer or Clone?",
          "THIS over a Galaxy S23?",
          "Rabbit R1: Barely Reviewable",
          "iOS 17&#39;s &quot;Personal Voice&quot; Feature!",
          "The World&#39;s Largest iPhone Has a Secret...",
          "The $600,000 Diamond iPhone 💎",
          "Apple Vision Pro Impressions!",
          "Here&#39;s the Thing about the M3 Macbook Air...",
          "iMessage on Android!",
          "Using AirDrop with Android!",
          "Android 15 Hands-On: Top 5 Features!",
          "Real light saber vs Nokia 3310",
          "15&quot; MacBook Air M2 Review: The Obvious Thing!",
          "The Cybertruck Scooter",
          "Talking Tech and AI with Tim Cook!",
          "The Most Tech I&#39;ve Ever Seen in a Car!",
          "Apple and Google had to work TOGETHER!",
          "The Flagship vs Midrange Debate: Galaxy A54 Review!",
          "Google Pixel 7A Review: New Price!",
          "OnePlus Made an iPad!",
          "I Made My Own Sneaker! M251",
          "I Spent $40,000 to Unbox a Sealed Original iPhone!",
          "The Rivian R1S Is... The Best SUV Ever?",
          "The AI Assistant Battle! (2023)",
          "This Voice is Entirely AI...",
          "This Product Shouldn&#39;t Exist",
          "Tesla&#39;s Wireless Charger: Explained!",
          "This Smartphone Hardware is Getting Crazy!",
          "What is Happening with Samsung&#39;s Camera?",
          "The Yellow iPhone 14: Love it or Hate it?",
          "This Feature is Underrated!",
          "A Rare iPhone Environmental W",
          "The New Best Folding Phone!",
          "They Didn&#39;t Have To Go This Hard!",
          "The Galaxy S23 Ultra is Better Than You Think!",
          "OnePlus 11 Review: They&#39;re Back?!",
          "Galaxy S23 Ultra vs the MOON",
          "AI-Generated Music is Wild!",
          "How Apple is Taking Back the iPhone",
          "M2 Pro Mac Mini Review: Game Changer!",
          "Lucid Air: How to One-up Tesla!",
          "This Phone is $169 - What&#39;s the Catch?",
          "When Apple Gets It Wrong",
          "The Voice Assistant Battle! (2023)",
          "The New iPad is Weird!",
          "The #1 Most Overpriced Tech in 2023!",
          "The Secret F150 Lightning Feature...",
          "4 Ways AI Can Save Microsoft!",
          "iPhone 14 Plus &amp; The Problem with Benchmarks!",
          "AirPods Pro 2 vs Magnet Paper 👀",
          "The Truth About AI Getting &quot;Creative&quot;",
          "Smartphone Awards 2022!",
          "Pixel 7/Pro and Watch Impressions!",
          "Dope Tech: The Hottest Laptop Design!",
          "Tesla Self Driving vs Everyday Roads!",
          "M2 Max MacBook Pro Review: Back to Bumps!",
          "The Best Smartphone Camera 2022!",
          "Google Pixel 7/Pro Review: Hard Problems? Software Answers!",
          "What is Happening with iPhone Camera?",
          "100X Zoom in Phones Leveled Up This Year!",
          "Galaxy S23 / Ultra Impressions: Cruise Control!",
          "The Apple Watch Stand Hours Glitch...",
          "Twitter’s Edit Button is Real! (FINALLY)",
          "World&#39;s First Intel ARC PC Build! (A770)",
          "iPhone 14 Pro Review: This Will Be Copied!",
          "Apple Watch Ultra Impressions: Polished Overkill!",
          "The Hyundai IONIQ 5: I Get It Now!",
          "Android 13 Hands-On: Top 5 Features!",
          "Best Back to School Tech 2022!",
          "Dope Tech: The Most Extreme Gaming Monitor!",
          "OnePlus 10T Impressions: Somebody That You Used to Know",
          "The iPad&#39;s Odd New Feature",
          "Asus Zenfone 9: The New Compact King!",
          "Google Pixel 6A Review: Can You Feel It?",
          "iOS 16 Hands-On: Top 5 New Features!",
          "M2 MacBook Air Review: More Than a Refresh!",
          "Nothing Phone (1) Review: Seeing Through the Hype!",
          "The World&#39;s Largest Smartphone Camera! Xiaomi 12S Ultra",
          "ROG Phone 6 Pro Review: Daily Driver Material!",
          "M2 MacBook Pro: Why Does This Exist?",
          "Reviewing MKBHD Videos!",
          "Ford F150 Lightning is the iPhone of Pickup Trucks!",
          "The Nothing Phone LOOKS Different",
          "This Was Ahead of its Time!",
          "M2 MacBook Air Impressions: Midnight Madness!",
          "The Future of Smartphone Cameras? Sony Xperia 1 IV!",
          "WWDC 2022 Impressions: M2 Macs and iOS 16?!",
          "DALLE: AI Made This Thumbnail!",
          "Sony WH-1000XM5 Review: Two Steps Forward, One Step Back!",
          "Dope Tech: Weirdest Earbuds I&#39;ve Ever Tried!",
          "Pixel Watch, Pixel 7 and Google&#39;s Hardware Reveal 2022!",
          "Ford&#39;s Coolest Electric Truck is from 1978!",
          "What Happens When the iPhone Peaks?",
          "YouTube Needs to Fix This",
          "iPhone SE (2022) Review: Old Dog. New Trick.",
          "Galaxy Tab S8 Ultra: A Monster Tablet!",
          "Galaxy S22 Ultra Impressions: It&#39;s a Note!",
          "Galaxy S22 Review: The iPhone of Android!",
          "Galaxy S22 Impressions: 1 Real Downgrade!",
          "The Green iPhone 13 in 59 seconds!",
          "The Electric Car Pre-Order Problem",
          "Galaxy S22 Ultra Review: Separating from the Pack!",
          "Does Fast Charging ACTUALLY Ruin Your Battery?",
          "On New Cybertruck Updates from Drone Footage...",
          "iPad Air M1 Review: Don&#39;t Choose Wrong!",
          "NEW Mac Studio &amp; Apple Event Reactions!",
          "&quot;The Apple Studio Display is a Bad Deal&quot;",
          "David Blaine Teaches Me Magic!",
          "The SteamDeck is Incomplete But Fun!",
          "An Announcement!",
          "Mac Studio Review: Double Trouble!",
          "I Gave the Pixel Another Chance...",
          "Blue Bubbles vs Green Bubbles: Explained!",
          "When Tech Companies Lie to Us...",
          "My Everyday Tech: 2022!",
          "2022 Tech I&#39;m Ready For!",
          "Galaxy S21 FE Impressions: Great Phone, Odd Price!",
          "Rewind: Best Gadgets of 2021!",
          "OnePlus 10 Pro Impressions: What Happened?",
          "Tech Rewind 2021!",
          "Smartphone Awards 2021!",
          "20 Questions with MrBeast!",
          "Oppo Find N Impressions: The Best Folding Phone?!",
          "The Blind Smartphone Camera Test 2021!",
          "Smartphone Cameras vs Reality!",
          "This Smartphone is Built Different...",
          "Why Does This $10,000 Gucci Xbox Exist?",
          "Apple vs Right to Repair: Part 2!",
          "What is a Google Phone?!? Reviewing Every Pixel/Nexus Ever!",
          "Dear YouTube!",
          "The Best Camera in Any Phone... With a Catch!",
          "M1 Max MacBook Pro Review: Truly Next Level!",
          "AirPods 3 Review: Easy Mode!",
          "Pixel 6/6 Pro Review: Almost Incredible!",
          "The Rivian R1T is an Incredibly Fun Electric Pickup!",
          "Surface Duo 2: Can This Be Saved?",
          "Pixel 6/6 Pro Unboxing &amp; First Look!",
          "NEW M1 Max MacBook Pro Reaction: The Ports are Back!",
          "Apple Watch Series 7 Review: Spot the Differences!",
          "iPadOS 15 Review: Dropped Expectations!",
          "Samsung Z Flip 3 Review: The First Big Step!",
          "Nothing Ear(1) Review: Transparent Buds!",
          "The Electric Hummer: Hands-On &amp; Impressions!",
          "Surface Laptop Studio Impressions: Windows 11 With a Twist!",
          "iPhone 13 Pro Review: Better Than You Think!",
          "Sony Xperia 1 III: The Ultimate Enthusiast Phone!",
          "iPhone 13 Event Reaction: Everything New!",
          "iOS 15 Hands-On: Top 5 New Features!",
          "The iPhone 13 Models!",
          "Samsung Galaxy Z Flip 3 Impressions: Design Refresh!",
          "iPhone 13 Unboxing &amp; Impressions!",
          "3 Features the iPhone 13 Didn&#39;t Add!",
          "Driving 1000 Miles in 3 Cars: Gas vs Electric!",
          "Samsung Galaxy Z Fold 3 Impressions: 3 New Features!",
          "Reviewing EVERY iPhone Ever!",
          "iPhone 13 Review: Lowkey Great!",
          "iPad Mini 2021 Review: Pocketable Power!",
          "The Tesla Bot: Explained!",
          "Samsung Z Fold 3 Review: Let&#39;s Talk Ambition!",
          "Real Thoughts on Tech Leaks!",
          "How Do YouTubers Make Money? (And Other Questions We Have to Answer)",
          "RED V-RAPTOR Impressions: 8K 120fps!",
          "Google Pixel 5A: Spot the Difference!",
          "Pixel 6&#39;s Tensor Chip: Let&#39;s Talk!",
          "Windows 11 Reactions: It Runs Android Apps! (Kinda)",
          "Top 5 Android 12 Features: Huge Redesign!",
          "Why iPhone&#39;s Features are Always &quot;Late&quot;",
          "When Smartphones Copy Each Other!",
          "Ford F150 Lightning Impressions: Better Than I Thought!",
          "Talking Tech and AI with Google CEO Sundar Pichai!",
          "iPad Pro M1 Review: The Ultimate Spec Bump!",
          "M1 iMac Review: Ultra Thin Design Choice!",
          "What Is Right To Repair?",
          "Apple vs The Paradox of Choice!",
          "The New Purple iPhone 12!",
          "Colored iMacs? Let&#39;s Talk About Apple&#39;s 4/20 Event!",
          "Retro Tech: Smart Homes",
          "Retro Tech: Hyperconnectivity",
          "Retro Tech: Teleportation",
          "Retro Tech: Robots",
          "Retro Tech: Flying Cars",
          "The Best Mac I&#39;ve Ever Reviewed!",
          "The Ultimate Gaming Phone!",
          "Why Did LG Phones Really Die?",
          "iPhone 13 &quot;Confirmed&quot;?! NOPE",
          "The Only REAL &quot;Pro&quot; Smartphone?!",
          "ROG Phone 5 Ultimate Review: The Most Ridiculous Custom!",
          "Galaxy S21 Review: Would You Notice?",
          "Samsung Galaxy S21 Ultra Review: Problems Solved!",
          "Huawei Mate Xs Impressions: The Hottest Foldable!",
          "How to Upgrade a PlayStation 5!",
          "Dogecoin: Explained",
          "Dear Electric Cars!",
          "What I REALLY Think of the iPhone!",
          "The Invisible Selfie Camera!",
          "The Smartphone With a Microscope Camera?!",
          "Giving Away 24 PS5s and XBox Series X!",
          "OnePlus 9 Review: Sneaky Value!",
          "Samsung Galaxy S21 Impressions: New Year, New Price!",
          "Huawei Mate X2 Impressions: I Was Right!",
          "Huge Apple 2021 Rumor Reactions!",
          "Samsung Galaxy S21 Ultra Impressions: Redemption Time!",
          "What Happened to OnePlus?",
          "Dope Tech: The Fastest Drone AND Car Yet!",
          "Smartphone Awards 2020!",
          "Some Quick Advice from Barack Obama!",
          "AirPods Max Review: Luxury Listening!",
          "Outer Folding Phones: It&#39;s Time to Stop!",
          "The iPhone with a Piece of the Moon? The Caviar Story",
          "The Portless iPhone: Let&#39;s Talk!",
          "AirPods Max Unboxing &amp; Impressions: $550?!",
          "The Blind Smartphone Camera Test 2020!",
          "The $129 Smartphone?!",
          "What&#39;s in my Tech Bag! [2020]",
          "The First Folding Screen Tablet!",
          "HomePod Mini Review: Big Sound, Tiny Box!",
          "PlayStation 5 Review: Next Gen Gaming!",
          "Apple M1 Chip: Let&#39;s Talk!",
          "iPhone 12 Pro Max Review: The Biggest Ever!",
          "PlayStation 5 Controller: Major Key!",
          "PlayStation 5 Unboxing &amp; Accessories!",
          "Google Pixel 5 Review: Software Special!",
          "Huawei Mate 40 Pro Impressions: Technically Awesome!",
          "iPhone 12 Review: Just Got Real!",
          "iPad Air 2020: The Real iPad Pro Killer!",
          "iPhone 12 Unboxing Experience + MagSafe Demo!",
          "The $200 Smartphone?!",
          "Google Pixel 5 Impressions: A New Strategy?",
          "Galaxy Note 20 Ultra Review: It Better Be Good!",
          "Xbox Series X/S Design Impressions!",
          "Porsche Taycan Turbo: I Almost Switched!  [Auto Focus Ep 6]",
          "Surface Duo Review: The Good, The Bad &amp; The Ugly!",
          "Why Don&#39;t People Buy Sony Smartphones?",
          "The Galaxy S20 Fan Edition: Hear Me Out!",
          "Galaxy Z Fold 2 Review: Folding King... But For What?",
          "Can You Actually Game in 8K? (RTX 3090 Gameplay!)",
          "Apple Watch Series 6: Everything New! (Product RED)",
          "6K RED Komodo Impressions: The Mini Cine Camera!",
          "Samsung Galaxy Z Fold 2 Unboxing: 3 Major Upgrades!",
          "Dope Tech: The iPad Pro Killer?!",
          "Surface Duo Unboxing &amp; Impressions: Hinge Goals!",
          "Moto RAZR 2 Impressions: Nostalgia Reloaded?",
          "Apple iPhone 12 Lineup Reactions!",
          "Apple Watch Series 6 Review: It&#39;s Bait!",
          "Talking Tech and The Metaverse with Mark Zuckerberg!",
          "The Ultimate iOS 14 Homescreen Setup Guide!",
          "Samsung Galaxy Nope 20!",
          "Sony WH-1000XM4 Review: The Final Form!",
          "The Last Intel Mac VS The Osborne Effect!",
          "Samsung Galaxy Note 20 Ultra Impressions: Ultra Premium!",
          "The TRUTH About OnePlus Nord!",
          "Google Pixel 4a Review: Simple and Clean!",
          "Why Tesla Model Y is Their Most Important Car! [Auto Focus Ep 5]",
          "Asus ROG Phone 3 Review: The Spec King Returns!",
          "OnePlus Nord Impressions: Back to Budget!",
          "Dope Tech: The Biggest Ultrawide Monitor!",
          "OnePlus Nord Reveal! How Much Do Smartphones Actually Cost?",
          "Can You Trust MKBHD?",
          "Apple Responds to Your Comments!",
          "iPhone 12: What to Expect!",
          "On the iPhone With No Charger...",
          "iOS 14 Hands-On: Everything New!",
          "WWDC 2020 Impressions: Widgets and The Great Transition!",
          "Samsung Galaxy Buds Plus: The Go-To!",
          "PS5 Impressions: My Thoughts!",
          "Top 5 Android 11 Features: Big Tweaks!",
          "CyberTruck Phone Impressions... Ridiculous",
          "Dope Tech:  The $3500 Bluetooth Speaker!",
          "Reflecting on the Color of My Skin",
          "Escobar Responds! A PSA",
          "Poco F2 Pro: The Full Screen Deal!",
          "How Teslas Upgrade Over Time!",
          "The Budget Phone Blueprint!",
          "The Fastest Phone of 2020!",
          "The $700 Mac Pro Wheels: Explained!",
          "Last Video in this Studio!",
          "What&#39;s On My Phone: 2020!",
          "Samsung Galaxy S20 Ultra Review: Attack of the Numbers!",
          "iPhone 11 Pro Review: 6 Months Later!",
          "OnePlus 8 Pro Review: Finally a Flagship!",
          "OnePlus 8 Review: Special No More!",
          "The 2020 Mac Pro: A Silent Killer!",
          "Apple Magic Keyboard: Floating iPad Pro?",
          "Moto Edge+ Review: We Need to Talk!",
          "Oppo Find X2 Pro: One-Upping the Champ?",
          "Google Pixel Buds Review: WAY Better!",
          "2020 MacBook Air Impressions: A Clean Refresh!",
          "Samsung Galaxy S20 Review: All the Right Moves!",
          "The Truth About the Escobar Folding Phone!",
          "The 2020 13&quot; MacBook Pro Impressions: Wait a Minute!",
          "Huawei P40 Pro Impressions: What We Should Copy!",
          "Xiaomi Mi Mix Alpha Impressions: The Wraparound Display!",
          "The Rollable Smartphone?",
          "iPhone SE (2020) Honest Thoughts...",
          "Talking Tech and 2020 with Bill Gates!",
          "Samsung Galaxy Z Flip Impressions: Mixed Feelings!",
          "Galaxy S20 Impressions: New Year, New Samsung!",
          "Foldable Moto RAZR Unboxing &amp; Second Thoughts!",
          "Are we at Peak Smartphone?",
          "YouTube Diamond Play Button Review!",
          "The MKBHD Setup Tour 2020!",
          "Why Everyone is Copying AirPods: Explained!",
          "Dope Tech of CES 2020: Sony Made a Car?!",
          "OnePlus Concept One Phone: Disappearing Cameras?",
          "Most Overrated Tech? 8K Ask MKBHD 2020!",
          "The Banned Huawei Mate 30 Pro: Best Phone You Shouldn&#39;t Buy!",
          "2020 Tech I&#39;m Ready For!",
          "The Most Expensive iPhone in the World!",
          "Would a Walkman work in space?",
          "Smartphone Awards 2019!",
          "Dope Tech: The World&#39;s Largest 8K OLED!",
          "10,000,000!",
          "The Blind Smartphone Camera Test 2019!",
          "Console Wars!",
          "Mac Pro Unboxing &amp; Second Impressions: The Power is Back!",
          "A look inside the original Macintosh",
          "Favorite Tech of the Year Rewind Collab!",
          "Testing Real 5G: Part 2!",
          "Hands-on with Microsoft&#39;s Future Foldables!",
          "Tesla CyberTruck Impressions &amp; First Drive!",
          "16&quot; MacBook Pro Review: Now Do It Again!",
          "Apple Watch Series 5 Review: One Big Tradeoff!",
          "2019 Microsoft Surface Family Impressions!",
          "Pixel 4 Impressions: Google and Gaps!",
          "Talking Tech &amp; Meme Review with Will Smith!",
          "iPhone 11 Pro vs Original iPhone!",
          "Beats Solo Pro: Return to Excellence!",
          "AirPods Pro Unboxing &amp; Impressions!",
          "OnePlus 7T Pro: Tiny Tweaks to Excellence!",
          "Talking Tech with Microsoft CEO Satya Nadella!",
          "The 108-Megapixel Smartphone Camera?!",
          "Analog vs. Digital Cameras",
          "Google Pixel 4 Review: Inside the Hype Machine!",
          "AirPods Pro Review: Imperfectly Perfect!",
          "RETRO TECH: CAMCORDER",
          "LG G8X Proves Foldables are Coming!",
          "RETRO TECH: OFFICIAL TRAILER",
          "16&quot; Macbook Pro First Impressions!",
          "iPhone 11 Review: Too Easy!",
          "Unboxing Every Green iPhone 11!",
          "OnePlus 7T Review: High Refresh, Low Price!",
          "iPhone 11 Pro Review: For the Love of Cameras!",
          "Samsung Galaxy Fold Re-do: Everything New!",
          "Asus ROG Phone 2 Review: The Spec King!",
          "iPhone 11 Pro Impressions: What a Name!",
          "Dope Tech #20: Dual Screen Tech!",
          "iPhone 11 Impressions: A Familiar Sequel!",
          "Let&#39;s Talk About Porsche Taycan!",
          "Samsung Galaxy Note 10: But Why Tho?",
          "5G: Explained!",
          "Apple Card Unboxing &amp; Impressions!",
          "Samsung Galaxy Note 10/10+ Impressions: A Great Duo!",
          "Redmi K20 Pro Review: Incredible Value!",
          "The Last (and First) Folding Phone!",
          "The iPhone 11 Models!",
          "What&#39;s in my Tech Bag! [2019]",
          "The iPad Only Challenge!",
          "PowerBeats Pro Review: Better than AirPods!",
          "OnePlus 7: Way Under the Radar!",
          "The Dream Smartphone! (2019)",
          "The Closest Thing to AirPower!",
          "iPad OS Impressions: They Listened!",
          "2019 Mac Pro Impressions: Cheese Grater is Back!",
          "Dope Tech: The Probe Lens!",
          "Google Pixel 3a Review: A for Ace!",
          "The MKBHD Gear Tour 2019!",
          "Retro Tech: Game Boy",
          "OnePlus 7 Pro: What You Didn&#39;t Know!",
          "The Broken Galaxy Folds: Explained!",
          "This is Google Pixel 4 Ultra!",
          "Google Pixel 3a Impressions: Flips the Script!",
          "Huawei P30 Pro Impressions: The Ultimate Camera?",
          "Samsung Galaxy Fold Review: We Gotta Talk!",
          "Tesla Model Y Impressions!",
          "LG G8 Review: Master of None!",
          "Galaxy Fold vs Huawei Mate X? Ask MKBHD V35!",
          "The Huawei Ban: Explained!",
          "Samsung Galaxy Fold Impressions!",
          "Top 5 Android Q Features!",
          "Huawei P30 Pro Review: Optical Excellence!",
          "Asus ZenFone 6: Swivel Camera Magic!",
          "Samsung Galaxy Fold Unboxing: Magnets!",
          "The Galaxy S10&#39;s Incredible Display!",
          "OnePlus 6T Revisited: Better than Pixel 3?",
          "LG G8 Impressions: Can&#39;t Touch This!",
          "Samsung Galaxy S10E Impressions!",
          "Samsung Galaxy S10 Impressions!",
          "via Twitter for iPhone",
          "Talking Tech &amp; Saving the World with Bill Gates!",
          "What&#39;s on my Tech: 2019!",
          "The Samsung Galaxy S10 Model!",
          "Sony WH1000XM3 Review: A New ANC King!",
          "Behind the Scenes of the UnboxTherapy Studio!",
          "The Rollable OLED TV: The Potential is Real!",
          "Riding in a Driverless Taxi at CES 2019!",
          "Xiaomi Mi Mix 3: The Ultimate Slider?",
          "My YouTube REWIND 2018!",
          "Google Pixel Slate: This Ain&#39;t It Chief!",
          "Smartphone Awards 2018!",
          "Huawei Mate 20 Pro Review: The People&#39;s Choice!",
          "The Problem with YouTube Rewind!",
          "Top 5 McLaren 720S Features! [Auto Focus Ep. 4]",
          "The Blind Smartphone Camera Test 2018!",
          "2018 Macbook Air Review: No Risk!",
          "My Favorite Wireless Headphones | 2018!",
          "iPad Pro Review: The Best Ever... Still an iPad!",
          "iPhone XR Review: No Need to Panic!",
          "RED Hydrogen One Review: I Wanted this to be Great!",
          "2019 iPad Pro Impressions: Incredibly Thin!",
          "OnePlus 6T Review: New Design, Same Price!",
          "Tesla Factory Tour with Elon Musk!",
          "Pixel 3 XL Second Impression: Notch City!",
          "RED Hydrogen One Unboxing! (Houdini Edition)",
          "iPhone Xr Specs Letdown? Ask MKBHD V32!",
          "Google Pixel 3 Impressions!",
          "What&#39;s in my Tech Bag! [2018]",
          "RED iPhone XR Unboxing &amp; Giveaway!",
          "Apple Watch Series 4 Review: It&#39;s About Time!",
          "My Pixel 3 Display Problem? Ask MKBHD V33!",
          "Google Pixel 3 XL Review: The Shadow of the Notch!",
          "Talking Tech with Elon Musk!",
          "Samsung Galaxy Note 9 Review: The Total Package!",
          "Living with a Supercar! [Auto Focus Ep 3]",
          "Razer Phone 2 Impressions!",
          "Apple iPhone Xs Review: A (S)mall Step Up!",
          "Prime Picks! - The #1 Headphones on Amazon!",
          "iPhone XR Impressions: All of the Colors!",
          "LG V40 Impressions: 5 Cameras on a Phone?!",
          "iPhone Xs and iPhone Xs Max Impressions!",
          "i9 Macbook Pro 2018: Hottest Laptop on the Planet!",
          "Naming the new iPhone X? Ask MKBHD V30!",
          "Prime Picks! - The #1 Unlocked Smartphone on Amazon!",
          "The Truth About Colored Smartphones!",
          "$2400 Headphones? Sennheiser HD 820!",
          "Hot Ones is The Real Deal! Ask MKBHD V29!",
          "Vivo NEX S Impressions: Truly Bezelless?",
          "Oppo Find X: Motorized Madness!",
          "HTC U12+ Review: A Phone With No Buttons!",
          "Driving Lamborghini Aventador S! [Auto Focus Ep. 2]",
          "Top 5 iOS 12 Features!",
          "OnePlus 6 Review: Right On the Money!",
          "OnePlus 6 Impressions!",
          "In-Glass Fingerprint Sensor: Testing the limits!",
          "Google Pixel 2 Revisited: Android P Beta!",
          "LG G7 ThinQ Impressions!",
          "Let&#39;s Talk About Google Duplex!",
          "iPhone X Revisited: Still Worth $1000?!",
          "Huawei P20 Pro Review: The Triple Camera Smartphone!",
          "$750 Mini Boosted Board Impressions!",
          "Dope Tech: Camera Robots!",
          "Bixby Speaker Impressions!",
          "I&#39;ve Made 1000 Videos?! Ask MKBHD V26!",
          "Top 5 Android Pie Features!",
          "Samsung Galaxy S9 Review: The Perfect... Samsung!",
          "The State of Bezels! (2018)",
          "The In-Glass Fingerprint Reader: Explained!",
          "18-core iMac Pro Review: Not a Trap!",
          "Samsung Galaxy S9 Camera: What&#39;s New!",
          "Google Home Max Review: $400 Smart Speaker?",
          "Apple Admits Slowing Down Old iPhones? Ask MKBHD V23!",
          "MKBHD Merch Review 2018!",
          "Driving a Tesla Model 3! [Auto Focus Ep. 1]",
          "iMac Pro: 1 Week Impressions!",
          "Smartphone Awards 2017!",
          "Apple HomePod Review: The Dumbest Smart Speaker?",
          "Free Tesla Roadster? Ask MKBHD V24!",
          "AirPods for Android?!",
          "New Year New MKBHD!",
          "Talking Tech with Neil deGrasse Tyson!",
          "The 🍎 Ecosystem: Explained!",
          "What&#39;s On My Phone: 2018!",
          "iMac Pro Setup Tour 2018!",
          "Dope Tech of CES 2018! [Part 2]",
          "Dope Tech of CES 2018! [Part 1]",
          "Samsung Galaxy S9 Impressions!",
          "Portrait Mode: Explained!",
          "The $1000 Smartphone Giveaway!",
          "Razer Phone Review: The Real Deal!",
          "Top 5 OnePlus 5T Features!",
          "Apple iPhone X Review: The Best Yet!",
          "Google Pixelbook: $1000 of Weird!",
          "Space Gray Tesla Model S Wrap!",
          "iPhone X vs iPhone 8: Worth the Skip?",
          "Razer Phone Impressions! 120Hz!",
          "Demonetized Tech Videos? Ask MKBHD V21!",
          "Apple iPhone X Unboxing!",
          "Google Pixel 2 Unboxing! (Best Android 8.0 Features)",
          "DxOMark Smartphone Ratings: Explained!",
          "Google Home Mini Review: Smart Home for $49?",
          "iPhone 8 Review: Skip this Great Phone!",
          "Samsung Galaxy Note 8 Review: A $1000 Android!",
          "iPhone X: Top 5 Questions Answered!",
          "Xiaomi Mi Mix 2: The Bezel-less Sequel!",
          "iPhone X Impressions &amp; Hands On!",
          "LG V30: Top 5 Features!",
          "The Essential Phone Review: Save Your Money!",
          "2017 vs Smartphone Bezels!",
          "Samsung Galaxy Note 8 Impressions!",
          "USB-C All The Things! (Pt 2)",
          "Snakes in the Studio? Ask MKBHD V19!",
          "The Voice Assistant Battle! (2017)",
          "The iPhone 8 Model!",
          "Adding 140 TERABYTES to the Studio with Linus!",
          "Tesla Project Loveday Contest Entry!",
          "OnePlus 5 Review!",
          "Siri vs the Ads: Does It Hold Up?",
          "Dope Tech: &quot;Shot on Smartphones!&quot;",
          "iPad Pro 2017 (10.5&quot;) Review!",
          "RED Hydrogen Prototype Hands-On!",
          "RED Hydrogen One Smartphone: Explained!",
          "Google Pixel 2 Rumor Roundup!",
          "Blackberry KEYOne: 2017 Comeback?",
          "Galaxy S8 vs LG G6: MrMobile vs MKBHD!",
          "Top 5 Google I/O 2017 Recap!",
          "iPhone 8 Rumor Roundup!",
          "Nest Cam IQ: Security Camera + 4k Sensor?",
          "The Dell 8K Monitor: Gaming in 8K?",
          "iPhone 8 With No Ports? Ask MKBHD V16!",
          "iMac Pro: Is It A Trap?",
          "The RED Raven Camera Kit: It&#39;s Back!",
          "Galaxy Note... Fan Edition? Ask MKBHD V18!",
          "Top 5 Smartphone Cameras: The Blind Test!",
          "Samsung Galaxy S8 Review: The Ultimate Smartphone?",
          "Top 5 Android O Features!",
          "Dope Tech: The 4K OLED Wallpaper TV!",
          "Moto G5 Plus: Budget Smartphone King?",
          "Dear Samsung!",
          "Nokia 3310 Review: The Perfect Smartphone?!",
          "Samsung Galaxy S8 Impressions!",
          "The Matte Black OnePlus 3T!",
          "Casey Neistat Studio Tour!",
          "HTC U Ultra Rant: Skip this One!",
          "Who are the Sponsors? Ask MKBHD V14!",
          "Inside Lucid Air: The Future of Luxury?",
          "The Colored AirPods Apple Should Have Made!",
          "Top 5 LG G6 Features!",
          "Beats X Review: Best Beats Ever?",
          "The State of 4K: 2017! (in 8K)",
          "Tesla P100D App v3.0 Review!",
          "YouTuber of the Year?! Ask MKBHD V13!",
          "LG UltraFine 5K Review: 15 Million Pixels!",
          "Top 5 Future Smartphone Features!",
          "iPhone 7 Review: 4 Months Later!",
          "My First YouTube Camera!",
          "What&#39;s on my Smartphone: 2017!",
          "Dope Tech: The Best Drones!",
          "Faraday Future FF91 Impressions!",
          "Self Driving Mercedes: Behind the Wheel!",
          "Hiring People? Biased Reviews? Ask MKBHD V12!",
          "Top 5 Galaxy Note 7 Replacements!",
          "USB-C ALL the Things!",
          "100 OnePlus 3T Giveaway! 💯",
          "Smartphone Awards 2016!",
          "Google Pixel Review: Best Android Smartphone!",
          "2016 MKBHD Studio Tour in 360°!",
          "Apple AirPods Review: Fully Wireless!",
          "Tesla Model S P100D: The Options!",
          "Google Assistant vs Siri! (2016)",
          "Macbook Pro with Touch Bar Review! Worth it?",
          "13&quot; MacBook Pro 2016 Unboxing! (What&#39;s New)",
          "LG Ultrafine 5K Display Unboxing + Setup!",
          "Jaybird X3 Review: Best Bluetooth Earbuds 2016!",
          "Macbook Pro chat with Apple&#39;s Craig Federighi!",
          "The Google Popup Store in NYC!",
          "Google Pixel Unboxing! (Best Android 7.1 Features)",
          "OnePlus 3T Review: T is the new S!",
          "Dope Tech: Self Lacing Nike HyperAdapt 1.0!",
          "The Bezel-less Smartphone: Xiaomi Mi Mix!",
          "Dope Tech: Custom LED Clock!",
          "First Video and Pixels: Ask MKBHD V11!",
          "Dope Tech: 8K RED Epic-W Unboxing!",
          "Google Pixel Impressions!",
          "LG V20: Most Underrated Phone?!",
          "Samsung Galaxy Note 7 Review!",
          "Tesla Model S P100D Impressions!",
          "iPhone 7 Headphone Roundup!",
          "iPhone 7 Unboxing: Jet Black vs Matte Black!",
          "Hasselblad True Zoom Camera Mod!",
          "Dope Tech: Boosted Board 2!",
          "Android 7.0 Nougat Update!",
          "How to be a YouTuber? Ask MKBHD V10!",
          "ZTE Axon 7: Top Budget Smartphone?",
          "The iPhone 7 Plus Model!",
          "Moto Z/Force Review!",
          "Samsung Galaxy Note 7 Impressions!",
          "The DROID DOES Throwback!",
          "Dope Tech: Lightning Headphones!",
          "Moto Z Impressions!",
          "Daily Tech: Mid 2016!",
          "Bose QC35: Best Noise Cancelling Headphones?",
          "Batman Edition Galaxy S7 Edge!",
          "The Rugged Galaxy S7 Active!",
          "Top 5 Apple WWDC 2016 Recap!",
          "Modular Smartphones: Explained!",
          "Top 5 Google I/O 2016 Recap!",
          "Jaybird Freedom: Best Wireless Earbuds?",
          "YouTube Gear #2 | Carbon Slider!",
          "iPhone SE Review!",
          "AKG K702 Review: Comfy Headphones!",
          "HTC 10 Review!",
          "What&#39;s on my Smartphone 2016!",
          "NextDesk Review: Motorized Desk!",
          "2016 Macbook: Rose Gold Refresh!",
          "Dope Tech: Best of 2015!",
          "Dope Tech: Crazy Speakers!",
          "The State of 4K: Early 2016!",
          "Samsung Galaxy S7 Review!",
          "iPhone 7 with no Headphone Jack?!",
          "Pick Your Smartphone Giveaway!",
          "Samsung Galaxy S7 &amp; S7 Edge Impressions!",
          "Nextbit Robin Review: Unlimited Storage?",
          "Samsung Galaxy S7 Edge Review!",
          "Ask MKBHD V7: CES 2016!",
          "Are Tablets Dead?",
          "MKBHD Update 12.0: Moving Out!",
          "Ask MKBHD V8: Tesla Model 3?!",
          "Top 5 Upcoming Tech: 2016!",
          "Top 5 Most Overpriced Tech! (Pt 2)",
          "Top 5 Android N Features! (Dev Preview)",
          "Dual Camera Smartphones: Explained!",
          "Google Live Cases: Super Custom!",
          "HTC 10 Impressions!",
          "Ask MKBHD V9: Building a Studio!",
          "Dope Tech: CES 2016!",
          "Talking Tech with Kobe Bryant!",
          "Smartphone Awards: 2015!",
          "Grado SR80e: Dope Budget Headphones!",
          "iPhone 6s Battery Case: Explained!",
          "Tech of the Year: Tablets!",
          "OnePlus X Review!",
          "5 Facts about the LG V10!",
          "YouTube Gear #1 | Blue Yeti!",
          "Sony Xperia Z5 Premium: A 4K Smartphone!",
          "Blackberry Priv Review!",
          "iPad Pro Second Impressions! [Apple Pencil]",
          "Google Nexus 5X Review!",
          "Dope Tech #2: Customs!",
          "OnePlus X Impressions: Super Budget!",
          "Nexus 6P Review!",
          "Update 11.0: MKBHD.com!",
          "Nexus 6P Unboxing &amp; Setup!",
          "iPhone 6s #Chipgate: Explained!",
          "Moto 360 V2 Review!",
          "Dope Tech #1: Weapon!",
          "iPhone 6s Impressions!",
          "OnePlus 2 Unboxing &amp; Setup!",
          "iPod Touch 2015 Review!",
          "Samsung Galaxy Note 5 Impressions! (&amp; GS6 Edge+)",
          "Top 5 Upcoming Tech! (Mid 2015)",
          "iPhone 6s Review!",
          "Nexus 6P &amp; 5X Impressions!",
          "Ask MKBHD V6! 4K on a Smartphone?!",
          "iPad Pro Impressions!",
          "Five OnePlus 2 Impressions!",
          "Moto X Pure (2015) Review!",
          "Sony RX100 IV Review: Pocket 4K!",
          "Moto X Style Impressions!",
          "Jaybird X2 Review: Best Bluetooth Earbuds!",
          "GoPro Hero 4 Session Review!",
          "Moto 360 2nd Gen Impressions!",
          "Ask MKBHD V5! #HYPE",
          "Samsung Galaxy Note 5 Review!",
          "OnePlus 2 Camera Review!",
          "On the &quot;Perfect Smartphone&quot;",
          "MAINGEAR Shift Supercomputer: Part 1!",
          "OnePlus 2 Review!",
          "Moto G 2015 Review!",
          "iPhone 6s &amp; 6s Plus Unboxing &amp; First Look!",
          "Material Design for Samsung Galaxy S6!",
          "Top 5 Smartphones Under $300! (2015)",
          "2015 Macbook Review!",
          "HTC One M9+ (&amp; S6 Plus!)",
          "Iron Man Edition Samsung Galaxy S6 Edge!",
          "Top 5 Android Marshmallow Features!",
          "10 Apple Watch Questions: Answered!",
          "Five (More) Facts About Me! (Graduation!)",
          "LG G4 Review!",
          "Apple Watch Review!",
          "Samsung Galaxy S6 Edge Review!",
          "YouTube Processing: Explained!",
          "Chromebook Pixel 2 Review!",
          "LG G4 Impressions!",
          "Ask MKBHD V4!",
          "HTC One M9 Review!",
          "Oxygen OS on the OnePlus One!",
          "Logitech MX Master Review!",
          "Giveaway: Samsung Galaxy S6 or HTC One M9! [Closed]",
          "Virtual Reality: Explained!",
          "USB Type-C: Explained!",
          "The New Macbook Impressions!",
          "Dot View 2 Case for HTC One M9!",
          "HTC One M9 Impressions!",
          "Samsung Galaxy S6 Edge Impressions!",
          "The State of 4K: Early 2015!",
          "The Dream Smartphone! (2014)",
          "Google Nexus 9 Review!",
          "BMW Tech at CES 2015!",
          "Dell Venue 8 7000 Review!",
          "OnePlus One &amp; Cyanogenmod 12!",
          "Best Tech under $50!",
          "CES 2015 Highlights!",
          "Exploring Drones with Deadmau5!",
          "Top 5 Wearable Tech! (Late 2014)",
          "MKBHD Update 10.3!",
          "Google Nexus 6 Review!",
          "Fun with the BMW i8!",
          "Smartphone Awards: 2014!",
          "Motorola Droid Turbo Review!",
          "MKBHD Update 10.4: 2015!",
          "Quantum Dot TVs: Explained!",
          "What&#39;s on my Android! (Early 2015)",
          "HTC One M9: What to Expect!",
          "Audio Technica ATH-M70X Review!",
          "Apple iPad Air 2 Review!",
          "Google Nexus 6 Unboxing + Hands On!",
          "Google Nexus 9 Unboxing + Hands On!",
          "GoPro Hero 4: Being a Dog in 4K!",
          "Android 5.0 Lollipop Feature Review!",
          "Samsung Galaxy Note 4 Review!",
          "Sharp Aquos Crystal - Bezelless Smartphone!",
          "Nexus 6 &amp; Nexus 9 Impressions!",
          "Apple iPhone 6 Review!",
          "Samsung Galaxy Alpha Review!",
          "iPhone 6 Plus #BendGate: Explained!",
          "iPhone 6 Impressions!",
          "Moto X (2014) Review!",
          "Moto 360 Review!",
          "Apple Watch Impressions!",
          "Samsung Galaxy Note Edge Impressions!",
          "Samsung Galaxy Note 4 Impressions!",
          "The Truth About Beats by Dre!",
          "What&#39;s on my Tech: 2014! (Back to School)",
          "NVIDIA Shield Tablet Review!",
          "Sony RX100 MKIII Review!",
          "Android Wear Review! (Smartwatches)",
          "Prime Phones: Explained!",
          "Nexus 6 &amp; Nexus 9 Wishlist!",
          "OnePlus One: Revisited!",
          "Ask MKBHD V3!",
          "iPhone 6 Sapphire: Explained!",
          "iPhone 6 Sapphire Crystal Display!",
          "MKBHD Edition Macbook Pro! (Colorware Custom)",
          "Top 5 OnePlus One Features! (Cyanogenmod 11S)",
          "Ask MKBHD V2!",
          "LG G3 Impressions!",
          "LG G3 Review!",
          "LG G3 QHD Display Review!",
          "LG G Watch Hands-on Impressions!",
          "Giveaway: MKBHD Edition Nexus 5! [CLOSED]",
          "iOS 8 Features &amp; Impressions!",
          "Top 5 Tesla Model S Features!",
          "Curved TVs: Explained!",
          "Amazon Fire Phone: Explained!",
          "OnePlus One Review!",
          "The iPhone 6 Model!",
          "Top 5 Best Android L Features!",
          "MKBHD Setup Tour 2014!",
          "LG G3 Mass Giveaway! [CLOSED]",
          "Samsung Galaxy Note 4 Hype!",
          "Moto 360 Impressions!",
          "The Problem with Phone Cases!",
          "HTC One M8 Google Play Edition Review!",
          "OnePlus One Impressions!",
          "Oppo Find 7a Review!",
          "HTC One M8 Review!",
          "Samsung Galaxy S5 Review!",
          "HTC One M8 Dot View Case!",
          "The Setup Tour Project 2014!",
          "HTC One M8 Impressions!",
          "Android Wear: State of Wearable Tech!",
          "Ask MKBHD V1!",
          "Top 5 Upcoming Smartphones! (Early 2014)",
          "The State of 4K: Early 2014!",
          "Samsung Galaxy S5 Impressions!",
          "New Mac Pro Review!",
          "MKBHD Update 10.1!",
          "Audio Technica ATH-M50X Review!",
          "1,000,000!",
          "Samsung Galaxy S5: What to Expect!",
          "HTC M8: What to Expect!",
          "Bright Red Google Nexus 5!",
          "Setup Tour Project 2014!",
          "Google Sells Motorola: Explained!",
          "Top 5 Wearable Tech! (Early 2014)",
          "New Mac Pro Performance Review!",
          "New Mac Pro Unboxing &amp; Impressions!",
          "Samsung Galaxy Note 3: Revisited!",
          "Samsung Galaxy NotePro &amp; TabPro at CES 2014!",
          "Tesla Model S at CES 2014!",
          "Sony Xperia Z1S &amp; Z1 Compact at CES 2014!",
          "Google Nexus 5 Review!",
          "Samsung Galaxy Round Review!",
          "Top 5 Android 4.4 Kitkat Features!",
          "4K Cameras at CES 2014!",
          "Oppo Find 7 Rant!",
          "Apple iPad Air Review!",
          "CES 2014 Gear Bag Tour!",
          "MKBHD Update 10.0! (CES 2014)",
          "Top 5 Tablets (Early 2014) Collab!",
          "Nokia Lumia 1520 Review!",
          "How Google Now is Taking Over!",
          "Google Nexus 5: Black vs White!",
          "Motorola Moto G Review!",
          "Google Play Editions: Explained!",
          "Top 5 Smartphones of 2013!",
          "LG G Flex Self Healing Demo!",
          "Nexus 5: Revisited! (What&#39;s on my Phone)",
          "Google Nexus 5 vs Moto X! ($350)",
          "Sony PS4 vs XBox One Impressions!",
          "Motorola Ara Impressions!",
          "Samsung Galaxy Gear Review!",
          "Top 5  Best Smartphone Cameras!",
          "Sony Xperia Z1 Review!",
          "Curved Display Smartphones: Explained!",
          "Google Nexus 5: What to Expect!",
          "Apple iPhone 5s Review!",
          "Samsung Galaxy Note 3 Review!",
          "LG G2 Review!",
          "Samsung Galaxy Note 3 Sizeup!",
          "Phonebloks: Explained!",
          "The New Cyanogenmod!",
          "Samsung Galaxy Note 3 Impressions!",
          "Sony RX100 M2 Review!",
          "Google Glass Explorer Edition: Explained!",
          "Nokia Lumia 1020 Review!",
          "5 Moto X Tips &amp; Tricks!",
          "Top 5 Best Headphones Under $200!",
          "Motorola Moto X Review!",
          "The Perfect Smartphone! (2013)",
          "Nexus 7 (2013) Review!",
          "Moto X Features: Explained!",
          "Google Chromecast Review!",
          "Top 5 Android 4.3 Features!",
          "Ubuntu Edge: Explained!",
          "Samsung Galaxy Note 3 Hype!",
          "Giveaway: Google Edition HTC One or Galaxy S4!",
          "Nokia Lumia 925 Review!",
          "Top 5 Fastest Discontinued Tech Products!",
          "Google Edition HTC One Review!",
          "How Google is Taking Back Android!",
          "MKBHD Update 9.0!",
          "13&quot; Macbook Air 2013 Review!",
          "Motorola X-Phone Rumor Rant!",
          "Samsung Galaxy Mega Review!",
          "Top 10 Google I/O 2013 Announcements!",
          "Google Edition Galaxy S4: Explained!",
          "Google Babel: Explained!",
          "5 True Facts about Google X!",
          "Where iOS 7 Features Come From!",
          "Samsung Galaxy S4 Word Game Interview!",
          "2013 Mac Pro: Explained!",
          "Top 5 1080p Smartphones!",
          "Samsung Galaxy S4 Review!",
          "What&#39;s on my Android Phone 2013!",
          "LG Optimus G Pro Review!",
          "Top 5 Most Overhyped Tech!",
          "Beats Audio: Explained!",
          "HTC One Review!",
          "Samsung Galaxy S4 vs HTC One!",
          "5 True Facts about Android!",
          "Oppo Find 5 Project Firefly!",
          "Beyerdynamic Custom One Pro Review!",
          "Top 5 Internet April Fool&#39;s Day Hoaxers!",
          "HTC One &quot;Ultrapixel&quot;: Explained!",
          "AT&amp;T Predicted the Future!",
          "Samsung Galaxy S4 Features: Explained!",
          "Google Nexus 10: Revisited!",
          "Sony Xperia Z Review!",
          "Top 5 NFC Features: Explained!",
          "Chromebook Pixel Review!",
          "Top 5 Best Built Tech!",
          "Chromebook Pixel Unboxing &amp; First Impressions!",
          "The Chromebook Pixel: Explained!",
          "Top 5 Most Underpriced Tech!",
          "Top 5 Most Overpriced Tech!",
          "Oppo Find 5 Review!",
          "Nexus 4 &amp; Nexus 7 Giveaway! [CLOSED]",
          "HTC Droid DNA: Revisited!",
          "Hackintosh Pro Project! [Part 5: The Finale!]",
          "Hackintosh Pro Project! [Part 2: The Parts]",
          "Hackintosh Pro Project! [Part 3: The Build]",
          "Hackintosh Pro Project! [Part 4: The OSX Install]",
          "4K Video: Explained!",
          "CES 2013 Highlights!",
          "Sony Xperia Z at CES 2013!",
          "Huawei Ascend Mate Size Comparison at CES 2013!",
          "NVIDIA Project SHIELD at CES 2013!",
          "Samsung Galaxy Note 2: Revisited!",
          "Using Google Now: Explained!",
          "Nexus 4 Unboxing &amp; First Impressions!",
          "Best Tablets of 2012!",
          "A Google Nexus Program: Explained!",
          "Nexus 10 Unboxing &amp; First Impressions!",
          "iPad Mini vs Nexus 7!",
          "Top 5 Android 4.2 Jellybean Features!",
          "GIVEAWAY: iPhone 5 OR Galaxy Note 2!",
          "Hackintosh Pro Project! [Part 1]",
          "The SuperNexus Project!",
          "Nexus 4 and Nexus 10 First Look!",
          "Samsung Galaxy Note 2 vs Galaxy S3!",
          "Google Nexus 4 Review!",
          "LG Optimus G Review! (Nexus 4 Comparison)",
          "Google Nexus 10 Review!",
          "Nexus 4 vs Galaxy S3 vs Galaxy Nexus!",
          "MKBHD Hurricane Sandy Update!",
          "Retina Displays vs Battery Life!",
          "Rooting &amp; Jailbreaking: Explained!",
          "What&#39;s on my Android Phone 2012!",
          "8 Holiday Gifts for a YouTuber!",
          "On Apple&#39;s New 2012 Desktops!",
          "Samsung Galaxy Camera Review!",
          "$600 Gaming PC Giveaway!",
          "Samsung Galaxy Camera Hands-on!",
          "Samsung Galaxy Note 2 Review!",
          "Transformer Pad Infinity gets Jellybean!",
          "LG Nexus Rumors!",
          "Top 3 YouTube App Missing Features!",
          "New Myspace Design: Explained!",
          "The Setup Tour 2012!",
          "The Super-Retina Display Smartphone!",
          "The Setup Tour Project 2012!",
          "Asus Zenbook Prime Review!",
          "GIVEAWAY: Fastest Mac Mini in the World! [Closed]",
          "The Galaxy Nexus 2 Wishlist!",
          "CyanogenMod 10 on the Samsung Galaxy S3!",
          "Top 3 Gadgets of Summer 2012!",
          "Blackberries: Explained!",
          "MKBHD Update 8.0!",
          "Google Fiber: Explained!",
          "Top 3 Battery Saving Tips!",
          "Google Nexus 7 Review!",
          "Galaxy SIII vs One X vs Galaxy Nexus!",
          "Nexus 7 First Impressions!",
          "Siri vs Google Voice Search!",
          "GIVEAWAY: Samsung Galaxy SIII! [CLOSED]",
          "Top 5 Google I/O Announcements!",
          "Top 5 Android 4.1 Jellybean Features!",
          "Samsung Galaxy SIII Review!",
          "Ultrabooks: Explained!",
          "iOS vs Android: A Google user&#39;s POV!",
          "4G and LTE: Explained!",
          "Google+ Re-design and WhiteSpace Rant!",
          "Samsung Galaxy S III Design: Explained!",
          "YouTuber Tip #6: Ideas!",
          "Asus Zenbook UX31 Review!",
          "Top 5 Tech Myths!",
          "Samsung Galaxy SIII Impressions!",
          "Samsung Galaxy Nexus Review!",
          "Android 5.0 Feature Wishlist!",
          "Google Drive vs Dropbox!",
          "Blue Spark Microphone Review!",
          "Chrome OS: Explained!",
          "Sony NEX-VG20 Review!",
          "Dear Apple!",
          "Best Audio Quality Setup: Explained!",
          "Fastest Mac Mini in the World! [Part 4] FINALE!",
          "Transformer Pad 300 vs Transformer Prime!",
          "Giveaway: Audio Technica ATH-M50 Limited Edition!!",
          "iPad 3 vs Transformer Prime!",
          "Pixel Density: Explained!",
          "Google Project Glass: Explained!",
          "iKey Audio M-505V2 Studio Monitors!",
          "HTC One X Review!",
          "TokyoFlash Night Vision Watch!",
          "Best iPad 3 Features!",
          "Beats Pro vs Audio Technica ATH-M50!",
          "Asus Transformer Prime Dock!",
          "Fastest Mac Mini in the World! [Part 3]",
          "Fastest Mac Mini in the World! [Part 2]",
          "Chrome Beta for Android!",
          "Too many Android phones? RANT",
          "The OLED TV Rant!",
          "Cyborg RAT 7 Review!",
          "Asus Transformer Prime Review!",
          "Grado SR80i Review!",
          "Fastest Mac Mini in the World! [Part 1]",
          "Best Galaxy Nexus Accessories!",
          "Bose Companion 2 Series II Speaker Review!",
          "Tour of my Nexus",
          "Transformer Prime Gets Android 4.0 ICS!",
          "Asus Transformer Prime First Impressions!",
          "Technology in 2012",
          "InSync: Dropbox for Google Docs!",
          "Top 3 Battery Myths!",
          "Galaxy Nexus Camera Review",
          "Technology of 2011: A Year in Review",
          "Samsung Galaxy Note Reaction",
          "YouTube Video Editor 2011 [Review]",
          "Cyber Monday GIVEAWAY: ATH-M50 Headphones! [Closed]",
          "Battery Technology Rant",
          "What is a Fisheye Lens?",
          "Chrome App Tabs [Review]",
          "Top Reasons the Galaxy Nexus WINS",
          "What Phone are You?",
          "Top Reasons OLED Rocks!",
          "The Dream Phone",
          "MKBHD Update 7.0",
          "YouTube Tech Bundle GIVEAWAY!",
          "Tour of my Tablet",
          "The DROID [Retro Review]",
          "Getting Inspired",
          "Tour of the New Twitter",
          "How to Give an Honest Video Review",
          "Facebook Timeline 2011: Review / Tour",
          "Top 5 Features of Android 4.0 [Ice Cream Sandwich]",
          "The Blue Snowball [Review]",
          "Blue Yeti Pro [Review]",
          "Canon 24mm f/1.4 L Review",
          "Audio Technica ATH-M50 [Review]",
          "Twitter Activity Tab [Review]",
          "Verizon Galaxy Nexus RANT",
          "Best Free Chrome Apps!",
          "Verizon Galaxy Nexus First Impressions",
          "Verizon Galaxy Nexus Unboxing &amp; First Boot!",
          "All About the Galaxy Nexus Display",
          "Canon 5D MKIII Preview",
          "YouTuber Tip #5: Pancakes",
          "New Chrome Web Store Review",
          "How To Tweet!",
          "iPhone vs Android Commercials",
          "MKBHD YouTube Tips | #4",
          "The Razer Blade - Preview",
          "Fat Laptops - HP 8560W Review",
          "Stop It!",
          "New Google Chrome 15 Features",
          "Sigma 30mm f/1.4 Review + Footage",
          "Favorite Web Browser?",
          "Top Google+ Tips and Tricks",
          "MKBHD Update 6.0",
          "MKBHD YouTube Tips | #3",
          "Find your Online Reputation!",
          "How to make a YouTube Mobile Banner [2011]",
          "Optimize your HD Videos!",
          "iKey Audio HDR7 Dual Microphone",
          "Review: iClarity HD Precision Speaker",
          "Google Chrome 7 Beta",
          "Enable Google Instant in Chrome 9 Beta",
          "Internet Explorer 9 Beta",
          "Beats By Dre Studio Review",
          "Review: Editors Keys Vocal Booth",
          "YouTube goes Social! [Video Sharing 2010]",
          "Apple Wireless Keyboard Review",
          "#NewTwitter Parody - MKBHD Style",
          "Review: BitFenix Survivor",
          "GiftYouTube / PrizeYouTube SCAM",
          "Review: Monster Jamz High Performance Earphones",
          "Solar Sound 2 Speaker System Review",
          "DSLR Video - Tips &amp; Tricks",
          "MKBHD YouTube Tips | #1",
          "GIVEAWAY: Beats By Dre Studio [Closed]",
          "Review: Altec Lansing Octane 7",
          "GoogleTV Video Contest Entry",
          "Asus UL30A-X5 | Canon T2i Video Test",
          "Chromedeck Tips and Tricks!",
          "Review: Azza Hurrican 2000",
          "iKey Audio M808-V2 Studio Monitor Review",
          "Don&#39;t buy the Verizon iPhone 4 [Yet]",
          "Review: AeroWeather [HD]",
          "Editors Keys SL150 Microphone [HD]",
          "Canon EOS Rebel T2i Unboxing",
          "Blackberry Playbook Tablet - First Look",
          "Update | YouTube Video Tips",
          "NEW YouTube Video Watch Page [November 2010]",
          "Review: Wiki Golf",
          "Technology of 2010 - A Year in Review",
          "Zune HD: Revisited",
          "NEW YouTube Comment Sharing [November 2010]",
          "Cyborg R.A.T. 7 Unboxing [HD]",
          "Cyber Acoustics 5.1 High Performance Speakers Review",
          "Dell Ultrasharp 2407WFPb Unboxing and Setup",
          "Beats by Dre Solo HD Review",
          "Droid X Unboxing [HD]",
          "Safari 5 Extensions [HD]",
          "HD Tutorial: DestroyTwitter 2.0.2",
          "Unboxed: 7-Port USB Hub [HD]",
          "Unboxed: Sanyo Xacti CG10",
          "HTC Droid Incredible Unboxing [HD]",
          "The New YouTube [Overview in 720p HD]",
          "MKBHD Update 5.0",
          "Unboxed: Motorola Droid Desktop Stand",
          "Unboxed: HP W1707 17&quot; Monitor [HD]",
          "Sound Check: Editors Keys SL150 Microphone [HD]",
          "Sanyo Xacti CG10 HD Footage and Photos",
          "The NEW Google [How to Use It]",
          "2010!",
          "Samson MD5 Desktop Microphone Stand [HD]",
          "iBellix Unboxing",
          "Gateway HX2000 Unboxing [HD]",
          "Google Moderator Module",
          "DealExtreme Unboxing! [HD]",
          "Reviewed: uStream Producer",
          "HD Tutorial: YouTube Groups [Updated]",
          "Unboxed: Epson NX415 [HD]",
          "Ultimate Frisbee Promo [HD]",
          "HD Tutorial: Matrix Screensaver",
          "Windows 7 Contest [Why I Love Windows 7]",
          "12 Giveaways of Christmas! *ENDED*",
          "Entry: Gearlive HP Envy 13 Giveaway",
          "YouTube Video Editor Tutorial [HD]",
          "Freeware EVERY Geek Should Use!",
          "HD Tutorial: Safari 5",
          "Cyborg R.A.T. Mouse Review",
          "Zune HD Hardware Review",
          "Unboxed: BlueLounge CableBox [HD]",
          "Tweetdeck Notifications!",
          "Lockergnome Demo Screencast",
          "Unboxed: DS International Power Saver Strip [HD]",
          "1080p HD Now on Youtube!!",
          "Update Zune HD to New Firmware [4.3] For free 3D Games!",
          "gScreen Spacebook: Dualscreen Laptop!",
          "IE8 Replacement: SlimBrowser Se7en",
          "Unboxed: Zune HD [Black 16GB]",
          "Creating a Professional Email Address",
          "HD Tutorial: Desktube",
          "MacBook Pro vs Alienware M17x? [Pricing]"
         ],
         "legendgroup": "",
         "marker": {
          "color": [
           3,
           8,
           10,
           11,
           -1,
           -1,
           0,
           6,
           12,
           -1,
           -1,
           6,
           12,
           2,
           -1,
           10,
           10,
           -1,
           1,
           -1,
           -1,
           7,
           -1,
           1,
           -1,
           -1,
           0,
           -1,
           12,
           8,
           6,
           -1,
           10,
           0,
           -1,
           -1,
           -1,
           -1,
           12,
           4,
           10,
           12,
           10,
           5,
           10,
           12,
           11,
           4,
           -1,
           -1,
           1,
           0,
           12,
           10,
           -1,
           6,
           1,
           0,
           -1,
           10,
           9,
           -1,
           -1,
           8,
           1,
           0,
           1,
           4,
           8,
           4,
           4,
           12,
           3,
           2,
           1,
           10,
           9,
           0,
           10,
           2,
           -1,
           11,
           6,
           12,
           8,
           10,
           1,
           11,
           4,
           12,
           1,
           2,
           0,
           12,
           0,
           1,
           4,
           10,
           -1,
           9,
           1,
           8,
           0,
           10,
           2,
           -1,
           -1,
           12,
           12,
           12,
           10,
           0,
           12,
           -1,
           10,
           12,
           -1,
           1,
           2,
           1,
           2,
           1,
           8,
           -1,
           0,
           2,
           2,
           12,
           2,
           11,
           2,
           -1,
           2,
           5,
           4,
           4,
           12,
           1,
           1,
           -1,
           2,
           -1,
           1,
           9,
           8,
           0,
           5,
           8,
           1,
           3,
           6,
           5,
           9,
           0,
           1,
           10,
           12,
           -1,
           10,
           -1,
           5,
           10,
           10,
           0,
           5,
           10,
           10,
           6,
           0,
           5,
           10,
           2,
           2,
           8,
           8,
           1,
           7,
           10,
           12,
           0,
           2,
           6,
           1,
           -1,
           3,
           10,
           -1,
           -1,
           -1,
           2,
           2,
           0,
           1,
           12,
           -1,
           10,
           12,
           12,
           12,
           12,
           5,
           -1,
           2,
           0,
           10,
           4,
           12,
           2,
           11,
           12,
           5,
           -1,
           12,
           11,
           2,
           2,
           2,
           9,
           -1,
           10,
           10,
           9,
           4,
           12,
           2,
           5,
           9,
           -1,
           1,
           10,
           -1,
           1,
           8,
           -1,
           10,
           6,
           10,
           12,
           8,
           12,
           -1,
           0,
           5,
           12,
           12,
           5,
           1,
           3,
           2,
           5,
           -1,
           5,
           -1,
           -1,
           3,
           2,
           10,
           12,
           9,
           1,
           12,
           11,
           8,
           0,
           12,
           11,
           9,
           11,
           2,
           -1,
           10,
           -1,
           10,
           -1,
           9,
           -1,
           7,
           10,
           2,
           2,
           5,
           12,
           0,
           12,
           12,
           1,
           2,
           2,
           12,
           -1,
           11,
           11,
           1,
           6,
           12,
           12,
           9,
           1,
           12,
           5,
           1,
           -1,
           12,
           2,
           -1,
           2,
           5,
           12,
           5,
           -1,
           2,
           2,
           9,
           0,
           11,
           2,
           -1,
           2,
           10,
           -1,
           -1,
           12,
           2,
           4,
           -1,
           1,
           1,
           2,
           -1,
           -1,
           0,
           1,
           3,
           -1,
           8,
           2,
           10,
           9,
           9,
           11,
           2,
           4,
           2,
           12,
           9,
           2,
           5,
           2,
           1,
           10,
           10,
           11,
           10,
           5,
           12,
           10,
           2,
           10,
           0,
           12,
           -1,
           10,
           12,
           12,
           5,
           10,
           2,
           6,
           9,
           11,
           12,
           9,
           6,
           1,
           2,
           8,
           2,
           2,
           11,
           5,
           8,
           8,
           -1,
           5,
           0,
           12,
           2,
           -1,
           5,
           7,
           -1,
           12,
           5,
           12,
           -1,
           -1,
           12,
           12,
           2,
           2,
           -1,
           10,
           9,
           2,
           -1,
           0,
           12,
           2,
           8,
           -1,
           -1,
           2,
           0,
           4,
           1,
           9,
           6,
           10,
           -1,
           1,
           11,
           2,
           8,
           -1,
           2,
           8,
           2,
           10,
           3,
           11,
           8,
           0,
           12,
           0,
           12,
           10,
           9,
           10,
           -1,
           10,
           1,
           2,
           12,
           11,
           9,
           1,
           12,
           12,
           12,
           0,
           10,
           11,
           11,
           12,
           8,
           -1,
           -1,
           10,
           -1,
           0,
           2,
           -1,
           2,
           7,
           12,
           12,
           12,
           1,
           12,
           9,
           0,
           2,
           0,
           1,
           -1,
           9,
           0,
           9,
           2,
           2,
           10,
           -1,
           1,
           -1,
           -1,
           12,
           4,
           12,
           12,
           11,
           10,
           -1,
           4,
           10,
           12,
           2,
           10,
           8,
           4,
           -1,
           10,
           12,
           10,
           12,
           10,
           -1,
           12,
           4,
           12,
           1,
           -1,
           -1,
           10,
           2,
           -1,
           11,
           -1,
           4,
           6,
           -1,
           -1,
           8,
           12,
           12,
           -1,
           10,
           4,
           -1,
           -1,
           1,
           -1,
           12,
           4,
           12,
           7,
           -1,
           12,
           1,
           12,
           12,
           10,
           2,
           12,
           -1,
           0,
           9,
           12,
           9,
           -1,
           0,
           1,
           1,
           10,
           10,
           2,
           8,
           2,
           0,
           0,
           2,
           12,
           1,
           2,
           -1,
           -1,
           2,
           9,
           0,
           -1,
           1,
           1,
           1,
           9,
           1,
           2,
           7,
           11,
           -1,
           12,
           -1,
           1,
           2,
           7,
           12,
           12,
           0,
           -1,
           10,
           -1,
           -1,
           7,
           2,
           11,
           10,
           12,
           12,
           -1,
           -1,
           12,
           3,
           9,
           12,
           12,
           3,
           -1,
           7,
           9,
           2,
           10,
           9,
           12,
           -1,
           -1,
           1,
           -1,
           9,
           -1,
           12,
           -1,
           2,
           12,
           12,
           12,
           2,
           -1,
           2,
           2,
           12,
           12,
           7,
           4,
           -1,
           12,
           2,
           12,
           -1,
           -1,
           9,
           10,
           6,
           12,
           -1,
           2,
           12,
           12,
           6,
           7,
           2,
           -1,
           7,
           2,
           7,
           10,
           3,
           -1,
           10,
           11,
           6,
           12,
           12,
           10,
           7,
           2,
           6,
           11,
           12,
           2,
           12,
           9,
           2,
           3,
           -1,
           12,
           11,
           12,
           1,
           11,
           12,
           10,
           12,
           12,
           1,
           12,
           12,
           7,
           3,
           2,
           -1,
           3,
           12,
           2,
           -1,
           12,
           2,
           12,
           11,
           1,
           2,
           -1,
           1,
           1,
           12,
           12,
           12,
           -1,
           12,
           7,
           0,
           6,
           11,
           -1,
           -1,
           0,
           -1,
           2,
           -1,
           0,
           -1,
           12,
           2,
           -1,
           7,
           12,
           9,
           6,
           7,
           7,
           2,
           7,
           12,
           12,
           7,
           12,
           12,
           10,
           10,
           12,
           3,
           3,
           12,
           12,
           9,
           2,
           7,
           2,
           3,
           12,
           7,
           11,
           2,
           -1,
           10,
           1,
           11,
           7,
           -1,
           12,
           -1,
           3,
           2,
           10,
           0,
           -1,
           -1,
           11,
           10,
           7,
           2,
           2,
           12,
           3,
           12,
           12,
           11,
           12,
           12,
           12,
           12,
           1,
           12,
           3,
           2,
           12,
           -1,
           12,
           1,
           1,
           9,
           2,
           12,
           12,
           7,
           2,
           12,
           10,
           1,
           1,
           12,
           12,
           0,
           12,
           7,
           12,
           7,
           12,
           12,
           6,
           2,
           2,
           7,
           12,
           7,
           7,
           12,
           7,
           12,
           12,
           7,
           12,
           -1,
           -1,
           3,
           4,
           12,
           -1,
           7,
           10,
           12,
           7,
           12,
           -1,
           -1,
           12,
           2,
           -1,
           12,
           12,
           9,
           12,
           4,
           7,
           12,
           2,
           7,
           -1,
           12,
           2,
           12,
           10,
           12,
           7,
           2,
           1,
           12,
           12,
           7,
           -1,
           -1,
           -1,
           10,
           12,
           1,
           12,
           12,
           -1,
           12,
           -1,
           9,
           12,
           12,
           -1,
           12,
           9,
           2,
           4,
           2,
           12,
           7,
           12,
           10,
           1,
           -1,
           -1,
           1,
           7,
           -1,
           12,
           7,
           12,
           1,
           1,
           1,
           1,
           -1,
           2,
           12,
           -1,
           -1,
           12,
           -1,
           7,
           7,
           7,
           7,
           7,
           7,
           -1,
           1,
           7,
           7,
           12,
           7,
           7,
           7,
           7,
           2,
           -1,
           7,
           12,
           2,
           1,
           4,
           2,
           12,
           12,
           7,
           7,
           2,
           2,
           -1,
           12,
           2,
           1,
           1,
           7,
           12,
           1,
           -1,
           2,
           2,
           -1,
           7,
           12,
           7,
           -1,
           2,
           7,
           7,
           12,
           1,
           6,
           -1,
           2,
           12,
           2,
           1,
           4,
           12,
           7,
           7,
           -1,
           2,
           2,
           2,
           1,
           2,
           1,
           -1,
           2,
           6,
           -1,
           -1,
           9,
           12,
           3,
           -1,
           9,
           -1,
           1,
           1,
           2,
           12,
           -1,
           1,
           6,
           9,
           1,
           -1,
           9,
           2,
           7,
           -1,
           7,
           -1,
           -1,
           7,
           2,
           12,
           2,
           2,
           12,
           2,
           2,
           7,
           -1,
           -1,
           -1,
           2,
           2,
           2,
           -1,
           2,
           2,
           2,
           2,
           7,
           2,
           2,
           2,
           9,
           2,
           7,
           2,
           7,
           -1,
           7,
           2,
           2,
           2,
           2,
           4,
           2,
           1,
           1,
           2,
           2,
           2,
           2,
           2,
           2,
           2,
           2,
           2,
           2,
           2,
           -1,
           2,
           2,
           2,
           9,
           2,
           2,
           1,
           2,
           1,
           2,
           9,
           -1,
           2,
           2,
           2,
           9,
           2,
           1,
           2,
           1,
           9,
           -1,
           -1,
           2,
           2,
           -1,
           2,
           2,
           10,
           -1,
           -1,
           2,
           1,
           9,
           2,
           9,
           -1,
           2,
           2,
           1,
           2,
           -1,
           2,
           2,
           -1,
           1,
           2,
           2,
           2,
           2,
           2,
           2,
           1,
           2,
           2,
           2,
           2,
           -1,
           -1,
           2,
           -1,
           2,
           2,
           2,
           2,
           2,
           -1,
           -1,
           1,
           2,
           2,
           1,
           -1,
           -1,
           1,
           2,
           2,
           2,
           2,
           1
          ],
          "coloraxis": "coloraxis",
          "symbol": "circle"
         },
         "mode": "markers",
         "name": "",
         "showlegend": false,
         "type": "scattergl",
         "x": [
          8.06787395477295,
          10.185091972351074,
          9.357427597045898,
          11.081294059753418,
          7.84187650680542,
          7.505265235900879,
          4.6688055992126465,
          9.049018859863281,
          10.911894798278809,
          7.924249649047852,
          8.497024536132812,
          8.775007247924805,
          12.836392402648926,
          6.440244197845459,
          8.571223258972168,
          9.124898910522461,
          9.554023742675781,
          7.833921909332275,
          6.26867151260376,
          8.933968544006348,
          8.577316284179688,
          10.076753616333008,
          8.905499458312988,
          6.303435802459717,
          8.438248634338379,
          7.575769424438477,
          4.706477642059326,
          8.49755859375,
          11.045716285705566,
          10.224154472351074,
          8.766809463500977,
          7.044973850250244,
          9.27761459350586,
          4.2941999435424805,
          9.40915298461914,
          7.530961036682129,
          8.369707107543945,
          8.261788368225098,
          11.19946575164795,
          10.37515640258789,
          9.554698944091797,
          11.78836441040039,
          8.520304679870605,
          12.412542343139648,
          9.572637557983398,
          12.804859161376953,
          11.141992568969727,
          10.266005516052246,
          7.440647602081299,
          9.826807022094727,
          6.05153226852417,
          4.340563774108887,
          10.748211860656738,
          8.63652515411377,
          9.35216999053955,
          8.712421417236328,
          6.101778030395508,
          4.361764907836914,
          7.556657791137695,
          9.575931549072266,
          7.730762958526611,
          7.506118297576904,
          10.004633903503418,
          10.02576732635498,
          6.630245685577393,
          4.530355453491211,
          6.323674201965332,
          10.180706024169922,
          10.159330368041992,
          10.128493309020996,
          10.236720085144043,
          12.778873443603516,
          8.03014087677002,
          7.659543991088867,
          5.890689373016357,
          9.476641654968262,
          7.815937042236328,
          4.287204742431641,
          8.895987510681152,
          7.0830817222595215,
          7.853646278381348,
          11.152985572814941,
          8.60594367980957,
          11.690589904785156,
          10.245209693908691,
          8.990941047668457,
          6.317227363586426,
          11.144265174865723,
          10.48444938659668,
          11.273350715637207,
          6.3180623054504395,
          6.743720531463623,
          4.333235263824463,
          11.380885124206543,
          4.285165309906006,
          6.466552257537842,
          10.243850708007812,
          8.886407852172852,
          7.511890888214111,
          7.526401996612549,
          6.416007041931152,
          10.223386764526367,
          4.299066543579102,
          9.378993034362793,
          7.256474494934082,
          9.743650436401367,
          9.313993453979492,
          12.832693099975586,
          11.319639205932617,
          12.795188903808594,
          9.518777847290039,
          4.2675461769104,
          12.866581916809082,
          8.45512580871582,
          9.109131813049316,
          10.484813690185547,
          7.493062496185303,
          6.65968656539917,
          7.051326274871826,
          6.497824192047119,
          6.952288627624512,
          5.884852886199951,
          10.225555419921875,
          9.248261451721191,
          4.349357604980469,
          6.920177459716797,
          7.012344837188721,
          12.864557266235352,
          7.126063346862793,
          11.180627822875977,
          7.005192756652832,
          10.010274887084961,
          7.1725287437438965,
          12.367846488952637,
          10.081401824951172,
          10.162163734436035,
          11.577559471130371,
          6.395722389221191,
          7.0781683921813965,
          10.476274490356445,
          7.252301216125488,
          10.559623718261719,
          6.076544284820557,
          7.652652263641357,
          10.24732494354248,
          4.382615089416504,
          12.08039379119873,
          10.138303756713867,
          6.746845722198486,
          8.020848274230957,
          8.592597007751465,
          12.378741264343262,
          7.579957962036133,
          4.456762790679932,
          6.921333312988281,
          9.644832611083984,
          11.261219024658203,
          7.601527214050293,
          8.76671028137207,
          7.3924455642700195,
          12.415799140930176,
          9.257080078125,
          9.23673152923584,
          4.341073513031006,
          12.408266067504883,
          9.220706939697266,
          9.325602531433105,
          8.575087547302246,
          4.323681354522705,
          12.405411720275879,
          9.264211654663086,
          7.062350749969482,
          6.1380228996276855,
          10.15082836151123,
          10.282651901245117,
          6.014392375946045,
          10.096920013427734,
          8.886582374572754,
          12.823644638061523,
          4.385324001312256,
          6.642864227294922,
          8.605419158935547,
          5.999090671539307,
          9.409153938293457,
          8.005860328674316,
          9.385811805725098,
          7.449847221374512,
          9.712068557739258,
          9.12728500366211,
          6.41852331161499,
          6.904997825622559,
          4.502613544464111,
          6.245194911956787,
          10.89130687713623,
          11.077481269836426,
          9.003787994384766,
          11.32155704498291,
          11.207961082458496,
          12.80635929107666,
          12.169981002807617,
          11.71401596069336,
          6.289076805114746,
          7.1128082275390625,
          4.332805633544922,
          9.45966911315918,
          10.577271461486816,
          11.152398109436035,
          7.094028949737549,
          11.160089492797852,
          12.801163673400879,
          12.228421211242676,
          8.696524620056152,
          12.873787879943848,
          11.115524291992188,
          5.5732340812683105,
          7.022634506225586,
          6.892704963684082,
          7.6538166999816895,
          10.105208396911621,
          8.881006240844727,
          9.046635627746582,
          7.694972038269043,
          10.126164436340332,
          11.02104377746582,
          6.965768814086914,
          12.300334930419922,
          7.663732528686523,
          6.281257629394531,
          6.216739654541016,
          9.548770904541016,
          6.274254322052002,
          6.272825241088867,
          10.208503723144531,
          11.687882423400879,
          9.165914535522461,
          8.662222862243652,
          9.141196250915527,
          10.77703857421875,
          10.439905166625977,
          12.808541297912598,
          6.3069682121276855,
          4.341161251068115,
          12.12532901763916,
          11.445549011230469,
          11.33270263671875,
          12.380746841430664,
          6.288532733917236,
          8.299447059631348,
          5.876752853393555,
          12.392168998718262,
          8.288182258605957,
          12.187800407409668,
          7.738142967224121,
          7.926586627960205,
          7.975372791290283,
          6.674814701080322,
          8.911491394042969,
          12.728255271911621,
          7.505395412445068,
          5.959987163543701,
          12.775910377502441,
          11.233431816101074,
          10.280813217163086,
          4.3473591804504395,
          11.27790355682373,
          11.295608520507812,
          7.711569786071777,
          11.270995140075684,
          7.184603214263916,
          7.4400458335876465,
          9.145191192626953,
          8.415587425231934,
          8.993443489074707,
          7.40743350982666,
          7.640312194824219,
          6.285083293914795,
          10.032890319824219,
          9.001585960388184,
          6.548830509185791,
          6.803689002990723,
          12.009674072265625,
          11.378411293029785,
          4.4073872566223145,
          10.601546287536621,
          11.441981315612793,
          6.035550594329834,
          6.61680269241333,
          7.678606986999512,
          12.797065734863281,
          9.606191635131836,
          11.13135051727295,
          11.201887130737305,
          6.07905912399292,
          8.661530494689941,
          10.941978454589844,
          11.591835975646973,
          7.610136032104492,
          6.946354389190674,
          12.829939842224121,
          12.327479362487793,
          6.316712856292725,
          11.657194137573242,
          11.436065673828125,
          6.409111976623535,
          7.737656116485596,
          6.768340110778809,
          12.40925121307373,
          12.827190399169922,
          12.264152526855469,
          9.532291412353516,
          7.223057270050049,
          6.698873043060303,
          8.022614479064941,
          4.636093616485596,
          11.237478256225586,
          6.8518548011779785,
          11.703271865844727,
          6.794109344482422,
          9.287491798400879,
          6.349773406982422,
          10.029459953308105,
          12.577033996582031,
          6.999919891357422,
          10.180834770202637,
          6.345022678375244,
          6.167879104614258,
          5.961707592010498,
          6.561763763427734,
          10.95853328704834,
          7.01581335067749,
          4.502625465393066,
          6.374708652496338,
          8.072994232177734,
          7.0305657386779785,
          10.170854568481445,
          6.578091621398926,
          9.419954299926758,
          7.491284370422363,
          7.698375701904297,
          11.097874641418457,
          6.639368534088135,
          10.410343170166016,
          6.0134100914001465,
          11.662144660949707,
          7.648211479187012,
          6.222296237945557,
          12.298521041870117,
          6.410930156707764,
          6.359744548797607,
          9.403839111328125,
          9.390189170837402,
          11.18482780456543,
          9.562349319458008,
          12.41124439239502,
          11.238990783691406,
          9.358811378479004,
          6.801924705505371,
          9.193684577941895,
          4.53695011138916,
          12.697351455688477,
          11.049588203430176,
          8.683645248413086,
          12.637411117553711,
          11.355430603027344,
          12.346258163452148,
          9.500933647155762,
          6.946906566619873,
          8.588085174560547,
          7.583674907684326,
          11.115087509155273,
          11.153680801391602,
          8.245285987854004,
          8.51606559753418,
          6.195791244506836,
          5.575220584869385,
          10.254035949707031,
          5.727089881896973,
          6.421079635620117,
          10.734631538391113,
          12.319036483764648,
          10.192091941833496,
          10.245074272155762,
          11.495752334594727,
          12.406230926513672,
          4.507028102874756,
          11.554018020629883,
          7.308984279632568,
          11.725452423095703,
          12.3589506149292,
          9.925657272338867,
          11.621601104736328,
          11.65619945526123,
          12.381172180175781,
          12.2123384475708,
          10.112259864807129,
          11.480330467224121,
          12.765698432922363,
          12.525983810424805,
          7.702117443084717,
          6.586691856384277,
          9.988252639770508,
          9.453056335449219,
          7.509109020233154,
          6.513542175292969,
          9.235694885253906,
          4.641352653503418,
          11.575108528137207,
          6.708952903747559,
          9.93614673614502,
          10.08293628692627,
          11.539983749389648,
          7.237121105194092,
          4.4470534324646,
          10.205232620239258,
          5.988784313201904,
          7.5804123878479,
          8.66196060180664,
          9.344268798828125,
          11.021241188049316,
          7.019497394561768,
          11.110147476196289,
          6.259716510772705,
          10.153958320617676,
          10.896831512451172,
          6.408403396606445,
          10.158085823059082,
          6.998678207397461,
          9.361266136169434,
          8.0742769241333,
          11.018915176391602,
          10.18241024017334,
          4.5396881103515625,
          12.520703315734863,
          4.562839984893799,
          11.340389251708984,
          9.414924621582031,
          7.5357513427734375,
          9.41828727722168,
          11.541210174560547,
          9.40217399597168,
          6.202738285064697,
          6.940589904785156,
          10.594888687133789,
          10.991647720336914,
          7.433974742889404,
          6.920341491699219,
          11.308459281921387,
          11.071955680847168,
          12.014941215515137,
          4.701070785522461,
          8.85854434967041,
          11.151719093322754,
          11.147064208984375,
          11.798593521118164,
          10.063925743103027,
          11.50131607055664,
          9.572834968566895,
          9.312232971191406,
          11.494161605834961,
          4.370529651641846,
          6.040355205535889,
          9.264988899230957,
          6.874719142913818,
          10.079740524291992,
          12.517562866210938,
          11.763182640075684,
          11.764300346374512,
          5.924907684326172,
          12.394857406616211,
          7.617949962615967,
          4.355770111083984,
          7.090793609619141,
          4.358166694641113,
          6.025262832641602,
          10.03325080871582,
          7.784011363983154,
          4.646329879760742,
          7.690894603729248,
          6.698032855987549,
          6.667024612426758,
          9.222039222717285,
          8.206510543823242,
          6.122102737426758,
          9.083091735839844,
          9.082674980163574,
          12.412495613098145,
          10.112452507019043,
          12.662853240966797,
          11.112883567810059,
          11.170822143554688,
          9.224949836730957,
          8.621505737304688,
          10.238441467285156,
          9.357818603515625,
          11.27324104309082,
          7.234169960021973,
          9.346699714660645,
          10.110230445861816,
          10.325778007507324,
          7.601513862609863,
          9.344782829284668,
          12.593104362487793,
          9.330767631530762,
          11.537887573242188,
          9.155853271484375,
          11.42469596862793,
          11.329018592834473,
          10.190950393676758,
          12.607782363891602,
          6.794487953186035,
          7.043684005737305,
          9.372574806213379,
          9.115372657775879,
          6.88142204284668,
          6.568448543548584,
          11.188121795654297,
          8.40860366821289,
          10.231175422668457,
          8.76034927368164,
          6.941673755645752,
          10.77878475189209,
          10.1394681930542,
          11.670039176940918,
          12.291080474853516,
          9.59884262084961,
          9.119033813476562,
          10.484026908874512,
          9.344998359680176,
          9.459938049316406,
          5.957369327545166,
          7.843686103820801,
          12.542556762695312,
          10.222428321838379,
          12.155843734741211,
          10.055744171142578,
          9.415749549865723,
          10.979373931884766,
          7.000077724456787,
          10.856032371520996,
          12.326969146728516,
          9.630736351013184,
          6.585021018981934,
          11.993559837341309,
          7.336891174316406,
          4.329368591308594,
          7.699631690979004,
          11.223750114440918,
          7.6071038246154785,
          9.372790336608887,
          4.617155075073242,
          5.97437047958374,
          6.582558631896973,
          9.080047607421875,
          9.34412956237793,
          5.990800380706787,
          10.156414031982422,
          5.622237205505371,
          4.505924224853516,
          4.5605573654174805,
          7.078522682189941,
          12.592445373535156,
          6.654329776763916,
          7.609326362609863,
          10.051579475402832,
          10.601325035095215,
          6.637913703918457,
          7.735503673553467,
          4.536594867706299,
          9.389765739440918,
          6.3201704025268555,
          6.392728328704834,
          6.488306045532227,
          7.632230281829834,
          6.291627407073975,
          7.94236946105957,
          10.119341850280762,
          11.0665283203125,
          7.043652534484863,
          11.546040534973145,
          8.94603157043457,
          6.969110012054443,
          5.869923114776611,
          10.734662055969238,
          11.379366874694824,
          12.34554386138916,
          4.946117877960205,
          8.006850242614746,
          9.437753677368164,
          10.668302536010742,
          6.000648498535156,
          10.161280632019043,
          7.379862308502197,
          11.119110107421875,
          9.167156219482422,
          10.848685264587402,
          12.532419204711914,
          9.947001457214355,
          8.067347526550293,
          10.944439888000488,
          8.038691520690918,
          7.49089241027832,
          12.344120979309082,
          12.367377281188965,
          8.04538631439209,
          10.442169189453125,
          10.07839584350586,
          7.598349571228027,
          6.024552822113037,
          9.330286979675293,
          7.4530792236328125,
          11.965353012084961,
          10.080729484558105,
          6.471850872039795,
          6.378642559051514,
          10.005228996276855,
          7.575005054473877,
          9.403351783752441,
          12.432236671447754,
          8.289944648742676,
          7.363739967346191,
          12.350789070129395,
          11.7070951461792,
          12.413615226745605,
          6.619381427764893,
          9.2802734375,
          6.845492362976074,
          5.868521213531494,
          12.411725044250488,
          12.825183868408203,
          10.323854446411133,
          10.294425964355469,
          7.866683483123779,
          11.865522384643555,
          6.621583938598633,
          11.168968200683594,
          7.089658737182617,
          10.105338096618652,
          7.412961483001709,
          8.97665023803711,
          9.045309066772461,
          11.795141220092773,
          11.248202323913574,
          6.492967128753662,
          11.285808563232422,
          11.691936492919922,
          8.630134582519531,
          10.955897331237793,
          5.620284080505371,
          11.095185279846191,
          10.94223403930664,
          7.008139610290527,
          11.11764907836914,
          9.267261505126953,
          8.205876350402832,
          8.071304321289062,
          9.354398727416992,
          11.043310165405273,
          8.757266998291016,
          12.429792404174805,
          12.373627662658691,
          9.226576805114746,
          10.881969451904297,
          6.364656448364258,
          8.684137344360352,
          11.064457893371582,
          10.853619575500488,
          5.66201114654541,
          10.824069023132324,
          7.606443405151367,
          5.997968673706055,
          8.189273834228516,
          8.26106071472168,
          12.313526153564453,
          11.030076026916504,
          10.589888572692871,
          5.878243446350098,
          11.165125846862793,
          10.868146896362305,
          9.70085620880127,
          12.253124237060547,
          11.141310691833496,
          6.372445106506348,
          12.021759986877441,
          12.297952651977539,
          10.165386199951172,
          8.051551818847656,
          7.1145219802856445,
          11.434762001037598,
          8.068583488464355,
          12.434476852416992,
          7.234875202178955,
          8.556587219238281,
          11.8634614944458,
          7.03918981552124,
          12.054929733276367,
          11.187609672546387,
          6.25581169128418,
          7.588637351989746,
          7.8040008544921875,
          6.68243932723999,
          6.366779804229736,
          12.055466651916504,
          12.103911399841309,
          12.39202880859375,
          9.392454147338867,
          12.005558013916016,
          10.321026802062988,
          4.636153221130371,
          9.268635749816895,
          11.179728507995605,
          7.758363723754883,
          9.419248580932617,
          4.59322452545166,
          8.464550971984863,
          7.034308433532715,
          11.210915565490723,
          4.701101779937744,
          10.105819702148438,
          10.916440963745117,
          6.7995100021362305,
          9.8865966796875,
          10.921286582946777,
          12.022998809814453,
          7.472044467926025,
          8.660431861877441,
          10.500543594360352,
          10.498899459838867,
          6.119469165802002,
          10.262303352355957,
          12.146621704101562,
          11.653181076049805,
          10.5232515335083,
          11.891809463500977,
          12.201238632202148,
          9.093631744384766,
          9.153393745422363,
          10.911918640136719,
          8.160608291625977,
          8.056646347045898,
          12.33382511138916,
          12.104215621948242,
          7.476226329803467,
          7.5411272048950195,
          10.23070240020752,
          5.6686787605285645,
          8.147727966308594,
          12.334637641906738,
          10.657356262207031,
          11.186217308044434,
          6.875133037567139,
          11.690049171447754,
          9.292969703674316,
          6.22128963470459,
          11.119046211242676,
          10.637295722961426,
          11.56314468383789,
          11.678253173828125,
          9.693279266357422,
          8.112390518188477,
          7.4808831214904785,
          8.910964012145996,
          4.5582685470581055,
          9.522705078125,
          11.68454360961914,
          11.159699440002441,
          9.10132122039795,
          10.23033618927002,
          6.560905933380127,
          7.400447368621826,
          12.50485610961914,
          8.14480209350586,
          11.401579856872559,
          11.996431350708008,
          11.145537376403809,
          11.08487319946289,
          12.159627914428711,
          12.158288955688477,
          12.065536499023438,
          6.600527286529541,
          12.014404296875,
          8.075165748596191,
          7.403602123260498,
          10.851387977600098,
          9.427077293395996,
          12.223609924316406,
          5.983902454376221,
          6.107257843017578,
          7.464739799499512,
          7.13177490234375,
          12.224930763244629,
          12.082867622375488,
          10.949385643005371,
          6.719409465789795,
          10.889945030212402,
          9.021547317504883,
          5.853457450866699,
          5.829477787017822,
          12.15040397644043,
          12.26221752166748,
          4.471848964691162,
          11.427435874938965,
          10.965836524963379,
          12.207765579223633,
          10.119207382202148,
          11.836043357849121,
          10.79025650024414,
          8.67318344116211,
          5.648697853088379,
          6.855757713317871,
          10.171401023864746,
          11.703685760498047,
          9.860905647277832,
          10.90922737121582,
          10.852304458618164,
          10.564224243164062,
          10.87086296081543,
          11.98987102508545,
          11.028247833251953,
          10.857884407043457,
          6.249293804168701,
          10.629477500915527,
          8.136542320251465,
          10.304990768432617,
          11.51137924194336,
          10.155275344848633,
          10.577898025512695,
          9.422810554504395,
          12.19943618774414,
          10.735146522521973,
          12.236452102661133,
          10.4329195022583,
          10.926520347595215,
          12.112509727478027,
          5.658719539642334,
          9.495842933654785,
          11.69361686706543,
          10.907576560974121,
          7.572210788726807,
          10.936397552490234,
          10.474143981933594,
          10.246818542480469,
          10.860928535461426,
          8.341255187988281,
          10.347318649291992,
          10.472593307495117,
          12.131477355957031,
          7.524092197418213,
          11.80327033996582,
          9.434885025024414,
          11.992026329040527,
          10.410823822021484,
          6.789175987243652,
          6.410868167877197,
          10.888349533081055,
          12.197233200073242,
          10.005520820617676,
          11.69328498840332,
          9.300485610961914,
          10.022644996643066,
          8.923442840576172,
          12.039231300354004,
          5.990692138671875,
          11.360658645629883,
          12.22071361541748,
          10.118549346923828,
          12.003746032714844,
          11.912105560302734,
          7.526474952697754,
          12.007290840148926,
          11.873851776123047,
          10.265542030334473,
          11.097514152526855,
          7.463634490966797,
          7.20270299911499,
          10.371092796325684,
          6.965421676635742,
          12.031259536743164,
          10.241085052490234,
          11.462207794189453,
          8.865384101867676,
          8.574419975280762,
          11.231523513793945,
          8.595858573913574,
          8.54371166229248,
          10.249162673950195,
          9.391325950622559,
          11.051782608032227,
          10.470684051513672,
          12.004512786865234,
          5.832804203033447,
          5.879508018493652,
          5.868216514587402,
          5.830013751983643,
          9.433996200561523,
          6.842053413391113,
          11.553150177001953,
          11.720146179199219,
          7.486227989196777,
          12.245705604553223,
          9.55395221710205,
          10.60794448852539,
          10.321109771728516,
          10.610201835632324,
          10.460177421569824,
          10.215492248535156,
          10.544893264770508,
          7.606281280517578,
          5.835597038269043,
          10.698150634765625,
          10.695006370544434,
          12.218194961547852,
          10.80324649810791,
          10.826273918151855,
          10.225442886352539,
          10.841675758361816,
          6.826751232147217,
          9.489958763122559,
          10.53714656829834,
          12.150103569030762,
          7.374423503875732,
          6.19676399230957,
          10.629119873046875,
          7.281617641448975,
          12.333948135375977,
          12.240936279296875,
          10.320780754089355,
          10.810066223144531,
          7.277581691741943,
          7.761817932128906,
          6.547489166259766,
          11.035506248474121,
          6.652997016906738,
          6.657445430755615,
          5.855774879455566,
          10.51424789428711,
          11.970696449279785,
          6.342851638793945,
          9.533049583435059,
          7.029465198516846,
          8.481955528259277,
          8.515872955322266,
          10.28134822845459,
          12.099871635437012,
          10.281808853149414,
          9.323131561279297,
          7.5284929275512695,
          10.269352912902832,
          10.754947662353516,
          12.149748802185059,
          6.283193111419678,
          8.756729125976562,
          10.994918823242188,
          7.752857685089111,
          12.096986770629883,
          6.882589817047119,
          6.628780841827393,
          10.387292861938477,
          12.06009292602539,
          10.959189414978027,
          9.838288307189941,
          8.256953239440918,
          5.644815444946289,
          8.392462730407715,
          5.585064888000488,
          6.208070755004883,
          5.865603446960449,
          5.809611797332764,
          8.93414306640625,
          7.205833911895752,
          8.82036304473877,
          9.370283126831055,
          9.261310577392578,
          7.500744342803955,
          11.825549125671387,
          8.017561912536621,
          9.380845069885254,
          7.517003059387207,
          9.041488647460938,
          5.81011962890625,
          5.756953239440918,
          8.327171325683594,
          10.574064254760742,
          9.208708763122559,
          6.2105607986450195,
          9.904744148254395,
          7.477484226226807,
          5.785268783569336,
          7.975505828857422,
          7.571844100952148,
          7.757694244384766,
          10.401090621948242,
          8.897187232971191,
          9.932710647583008,
          8.110099792480469,
          8.470805168151855,
          10.840044021606445,
          6.92733907699585,
          12.371131896972656,
          7.40964937210083,
          7.2425312995910645,
          11.037529945373535,
          5.5740485191345215,
          7.85576868057251,
          10.57222843170166,
          10.589485168457031,
          10.060946464538574,
          9.580789566040039,
          7.063634872436523,
          7.2853102684021,
          7.426155090332031,
          10.687999725341797,
          6.644842147827148,
          7.717010021209717,
          6.769250392913818,
          7.659296989440918,
          9.943666458129883,
          5.656206130981445,
          5.626522064208984,
          5.578046798706055,
          7.417581081390381,
          7.608253479003906,
          10.575949668884277,
          8.3579683303833,
          10.699819564819336,
          10.69510555267334,
          10.215932846069336,
          5.719491004943848,
          6.9065704345703125,
          8.326592445373535,
          7.579000949859619,
          10.07904052734375,
          5.6819353103637695,
          6.281953811645508,
          6.325535774230957,
          7.19427490234375,
          8.349888801574707,
          5.5726141929626465,
          8.19638442993164,
          7.594327926635742,
          7.071823596954346,
          5.87722635269165,
          7.082745552062988,
          7.374462604522705,
          6.0868377685546875,
          5.685523509979248,
          7.933202743530273,
          8.285470962524414,
          8.279561996459961,
          8.212677955627441,
          7.475149631500244,
          5.659550189971924,
          7.3992695808410645,
          6.216598987579346,
          7.635926723480225,
          6.093513488769531,
          7.3382439613342285,
          7.557223320007324,
          7.8002495765686035,
          5.6672749519348145,
          6.629983425140381,
          7.345249176025391,
          7.547358989715576,
          7.74766206741333,
          6.423105716705322,
          8.02639102935791,
          5.978387832641602,
          7.514076232910156,
          10.915470123291016,
          8.935396194458008,
          5.63621711730957,
          5.680481433868408,
          9.08299732208252,
          6.94281005859375,
          7.122765064239502,
          8.6648588180542,
          9.195398330688477,
          9.443806648254395,
          7.297027111053467,
          6.26023530960083,
          7.5419111251831055,
          5.966367721557617,
          7.513610363006592,
          6.6228861808776855,
          8.293107032775879,
          7.7114152908325195,
          6.703645706176758,
          5.775796890258789,
          10.621613502502441,
          7.312173843383789,
          6.197268486022949,
          7.914004325866699,
          6.429039001464844,
          5.671355247497559,
          6.203774929046631,
          8.372246742248535,
          6.811683177947998,
          5.698078632354736,
          7.214910507202148,
          6.374259948730469,
          7.10249662399292,
          5.836153507232666,
          7.20419979095459,
          7.013567924499512,
          6.5989155769348145,
          6.60344934463501,
          7.722529888153076,
          10.163555145263672,
          6.420434474945068,
          7.125060081481934,
          7.539621353149414,
          8.049325942993164,
          8.319072723388672,
          6.5964250564575195,
          9.412829399108887,
          6.51648473739624,
          7.696568965911865,
          7.23176383972168,
          6.797052383422852,
          6.581465244293213,
          9.451821327209473,
          6.513179779052734,
          8.235591888427734,
          5.838454723358154,
          7.091660976409912,
          7.935359001159668,
          6.276023864746094
         ],
         "xaxis": "x",
         "y": [
          12.06462287902832,
          11.051623344421387,
          12.37620735168457,
          13.318364143371582,
          12.676131248474121,
          11.359305381774902,
          8.229765892028809,
          10.67175579071045,
          12.141063690185547,
          12.972798347473145,
          12.876629829406738,
          10.634795188903809,
          11.6738920211792,
          10.280388832092285,
          12.055035591125488,
          12.548004150390625,
          12.780381202697754,
          12.827468872070312,
          12.194141387939453,
          9.952215194702148,
          9.888829231262207,
          9.426271438598633,
          12.530777931213379,
          12.114280700683594,
          12.541336059570312,
          11.000201225280762,
          8.265337944030762,
          11.81195068359375,
          11.721403121948242,
          11.104597091674805,
          10.678350448608398,
          11.004892349243164,
          12.499399185180664,
          7.947853088378906,
          9.587635040283203,
          10.802814483642578,
          13.091883659362793,
          13.009345054626465,
          11.991305351257324,
          12.720471382141113,
          13.150659561157227,
          12.095641136169434,
          13.025120735168457,
          12.956092834472656,
          13.05008316040039,
          11.660758972167969,
          13.665291786193848,
          12.758682250976562,
          10.589593887329102,
          11.8128023147583,
          11.96056842803955,
          7.994760036468506,
          11.886445999145508,
          12.886019706726074,
          9.571919441223145,
          10.804422378540039,
          11.998446464538574,
          8.026580810546875,
          10.815014839172363,
          12.778897285461426,
          13.935768127441406,
          10.771217346191406,
          11.867990493774414,
          11.196202278137207,
          11.949514389038086,
          8.155511856079102,
          11.945581436157227,
          12.4270658493042,
          10.9502592086792,
          12.547022819519043,
          12.755725860595703,
          11.68718147277832,
          12.105101585388184,
          8.86894416809082,
          11.331515312194824,
          12.81464672088623,
          13.685160636901855,
          7.938192844390869,
          11.841835021972656,
          9.883333206176758,
          11.573634147644043,
          13.63125991821289,
          10.803942680358887,
          11.971120834350586,
          11.099148750305176,
          11.999074935913086,
          12.12307071685791,
          13.637405395507812,
          12.679664611816406,
          12.394953727722168,
          12.13212776184082,
          9.449468612670898,
          7.992341995239258,
          12.258015632629395,
          7.936036109924316,
          12.043734550476074,
          12.668867111206055,
          12.035679817199707,
          10.745155334472656,
          14.169281959533691,
          10.994763374328613,
          11.039322853088379,
          7.960981369018555,
          12.126089096069336,
          8.753199577331543,
          12.5369291305542,
          10.412269592285156,
          11.64111614227295,
          11.218470573425293,
          11.673792839050293,
          12.999807357788086,
          7.922918796539307,
          11.628894805908203,
          13.144177436828613,
          12.385900497436523,
          11.58743953704834,
          11.742956161499023,
          12.204453468322754,
          9.377145767211914,
          11.431572914123535,
          9.334688186645508,
          11.6739501953125,
          11.480045318603516,
          11.968314170837402,
          7.984795570373535,
          10.599889755249023,
          10.187341690063477,
          11.769524574279785,
          10.197240829467773,
          13.716715812683105,
          9.630400657653809,
          11.886106491088867,
          9.014735221862793,
          12.96842098236084,
          12.545849800109863,
          12.717296600341797,
          11.70795726776123,
          10.913923263549805,
          11.966065406799316,
          10.280963897705078,
          8.808979988098145,
          11.595552444458008,
          11.600438117980957,
          13.945042610168457,
          11.138750076293945,
          8.037107467651367,
          12.86456298828125,
          11.023590087890625,
          11.840877532958984,
          12.073369026184082,
          10.815611839294434,
          12.959314346313477,
          14.163115501403809,
          8.116649627685547,
          11.529951095581055,
          12.819491386413574,
          11.98894214630127,
          11.543746948242188,
          11.953667640686035,
          10.462532043457031,
          12.944313049316406,
          13.002914428710938,
          12.340882301330566,
          7.993159294128418,
          12.938544273376465,
          12.46342945098877,
          12.322602272033691,
          10.838446617126465,
          7.973898887634277,
          12.961576461791992,
          12.489971160888672,
          9.000317573547363,
          9.51196002960205,
          11.024423599243164,
          11.01654052734375,
          11.576397895812988,
          9.35623836517334,
          12.013422966003418,
          11.676056861877441,
          8.03758716583252,
          9.31859302520752,
          10.809017181396484,
          11.903698921203613,
          11.797345161437988,
          12.012115478515625,
          13.155112266540527,
          11.461071968078613,
          10.879250526428223,
          9.684744834899902,
          10.230048179626465,
          8.816906929016113,
          8.310686111450195,
          11.502050399780273,
          12.220468521118164,
          11.171066284179688,
          12.210508346557617,
          11.948904037475586,
          12.219493865966797,
          11.687060356140137,
          11.389911651611328,
          12.829357147216797,
          10.873879432678223,
          9.391752243041992,
          7.982140064239502,
          12.534761428833008,
          12.718483924865723,
          11.867465019226074,
          10.154776573181152,
          13.645278930664062,
          11.667951583862305,
          12.951098442077637,
          12.43518352508545,
          11.70535659790039,
          13.661083221435547,
          9.042298316955566,
          9.938881874084473,
          9.14982795715332,
          14.067856788635254,
          11.877667427062988,
          12.962068557739258,
          12.31640625,
          13.990860939025879,
          12.495246887207031,
          11.865663528442383,
          10.303021430969238,
          12.941425323486328,
          13.579095840454102,
          10.90587043762207,
          11.912384986877441,
          12.806666374206543,
          10.885384559631348,
          10.884754180908203,
          11.082871437072754,
          12.809587478637695,
          12.911811828613281,
          10.736695289611816,
          13.0092191696167,
          11.971579551696777,
          11.217061996459961,
          11.605783462524414,
          10.843743324279785,
          7.9979424476623535,
          12.887240409851074,
          11.781999588012695,
          11.45224380493164,
          12.95677661895752,
          10.859284400939941,
          12.41428279876709,
          9.565366744995117,
          12.952251434326172,
          13.174220085144043,
          12.939536094665527,
          11.4406099319458,
          13.286760330200195,
          11.981743812561035,
          9.190224647521973,
          11.987797737121582,
          11.484374046325684,
          14.208775520324707,
          11.860074043273926,
          11.467490196228027,
          13.60659408569336,
          11.275643348693848,
          8.02806568145752,
          12.429239273071289,
          13.7958402633667,
          13.945446968078613,
          13.804068565368652,
          8.840961456298828,
          11.415863990783691,
          12.597399711608887,
          13.171330451965332,
          11.991586685180664,
          11.470756530761719,
          14.098006248474121,
          10.856898307800293,
          9.361026763916016,
          12.723363876342773,
          10.044012069702148,
          9.255745887756348,
          12.960025787353516,
          12.485342979431152,
          8.072450637817383,
          12.054999351501465,
          12.387500762939453,
          11.73244571685791,
          10.027291297912598,
          9.220442771911621,
          11.698272705078125,
          12.296682357788086,
          13.656869888305664,
          13.699950218200684,
          11.723709106445312,
          10.730949401855469,
          11.803866386413574,
          12.208712577819824,
          14.145187377929688,
          11.829900741577148,
          11.686783790588379,
          12.977838516235352,
          12.026793479919434,
          12.764203071594238,
          12.170252799987793,
          9.93019962310791,
          11.886319160461426,
          9.62685489654541,
          12.934596061706543,
          11.703400611877441,
          12.908014297485352,
          11.88955307006836,
          8.857047080993652,
          10.099947929382324,
          13.593008995056152,
          8.274900436401367,
          13.770410537719727,
          9.98165225982666,
          12.801562309265137,
          9.593265533447266,
          12.943107604980469,
          10.268082618713379,
          11.884017944335938,
          11.30721378326416,
          9.126626014709473,
          12.411672592163086,
          10.664764404296875,
          11.709501266479492,
          11.706865310668945,
          9.713207244873047,
          11.089874267578125,
          11.578848838806152,
          8.142483711242676,
          12.085027694702148,
          12.077795028686523,
          11.542980194091797,
          11.043025016784668,
          9.880683898925781,
          12.3674955368042,
          14.22064208984375,
          13.993971824645996,
          13.658154487609863,
          9.35567855834961,
          12.502431869506836,
          9.67515754699707,
          11.241781234741211,
          14.07376480102539,
          9.744638442993164,
          12.926607131958008,
          10.342822074890137,
          12.101886749267578,
          12.865095138549805,
          13.090940475463867,
          13.624410629272461,
          12.864924430847168,
          12.962695121765137,
          12.454269409179688,
          12.945816993713379,
          9.685958862304688,
          12.890922546386719,
          8.184829711914062,
          11.481776237487793,
          10.912727355957031,
          12.858586311340332,
          11.36417293548584,
          12.489128112792969,
          12.962752342224121,
          12.595322608947754,
          10.539386749267578,
          10.757857322692871,
          14.1503324508667,
          13.670602798461914,
          12.444273948669434,
          13.11944580078125,
          10.912124633789062,
          11.706825256347656,
          9.526848793029785,
          11.284012794494629,
          9.943096160888672,
          10.12065315246582,
          13.47154426574707,
          12.774209022521973,
          11.076323509216309,
          11.107332229614258,
          12.751336097717285,
          12.874284744262695,
          8.15283489227295,
          11.16378116607666,
          9.281426429748535,
          12.806825637817383,
          12.973026275634766,
          9.636368751525879,
          12.837867736816406,
          11.956558227539062,
          12.934694290161133,
          11.769476890563965,
          11.628188133239746,
          11.08260440826416,
          11.696203231811523,
          11.675244331359863,
          8.935456275939941,
          9.373224258422852,
          11.461231231689453,
          12.291302680969238,
          14.156192779541016,
          9.91524600982666,
          10.981452941894531,
          8.263595581054688,
          12.07005500793457,
          9.637609481811523,
          11.075699806213379,
          11.853836059570312,
          12.841373443603516,
          8.790365219116211,
          8.081632614135742,
          12.289139747619629,
          11.635123252868652,
          14.127852439880371,
          10.775583267211914,
          12.833520889282227,
          12.633682250976562,
          11.827153205871582,
          13.595250129699707,
          9.59426498413086,
          11.04773998260498,
          12.705893516540527,
          9.585765838623047,
          11.033904075622559,
          10.32890796661377,
          13.106913566589355,
          12.05764389038086,
          13.84526252746582,
          11.028090476989746,
          8.188653945922852,
          11.196683883666992,
          8.190398216247559,
          12.274478912353516,
          13.043597221374512,
          14.226633071899414,
          13.012246131896973,
          11.049725532531738,
          13.043258666992188,
          12.079703330993652,
          9.15916919708252,
          11.938894271850586,
          13.459574699401855,
          14.271148681640625,
          11.716331481933594,
          12.27472972869873,
          11.959860801696777,
          11.879258155822754,
          8.227126121520996,
          11.918660163879395,
          13.454593658447266,
          13.405252456665039,
          12.066719055175781,
          11.16295337677002,
          11.00528335571289,
          9.634069442749023,
          12.701643943786621,
          12.757198333740234,
          8.024262428283691,
          9.419853210449219,
          9.630864143371582,
          9.363236427307129,
          9.370014190673828,
          11.559825897216797,
          11.847067832946777,
          12.052298545837402,
          11.830747604370117,
          11.697675704956055,
          13.54227352142334,
          8.004852294921875,
          10.787510871887207,
          8.026652336120605,
          11.661231994628906,
          11.850667953491211,
          13.442925453186035,
          8.260712623596191,
          13.990311622619629,
          9.652060508728027,
          9.244298934936523,
          12.260175704956055,
          9.709392547607422,
          11.326187133789062,
          11.060271263122559,
          11.292553901672363,
          11.598503112792969,
          12.765743255615234,
          11.402617454528809,
          12.398641586303711,
          13.527541160583496,
          12.805862426757812,
          9.60616683959961,
          12.59259033203125,
          12.71563720703125,
          12.325672149658203,
          8.773870468139648,
          13.013703346252441,
          10.998174667358398,
          12.354992866516113,
          13.478155136108398,
          12.89406967163086,
          11.249133110046387,
          12.720617294311523,
          12.153664588928223,
          12.680731773376465,
          10.991358757019043,
          11.79813003540039,
          12.401520729064941,
          11.11474895477295,
          12.001517295837402,
          10.853583335876465,
          9.586129188537598,
          12.814667701721191,
          9.403829574584961,
          8.57977294921875,
          13.636548042297363,
          11.993431091308594,
          12.632084846496582,
          10.685221672058105,
          10.758331298828125,
          12.7042236328125,
          11.033914566040039,
          11.673962593078613,
          11.403087615966797,
          9.858657836914062,
          12.317096710205078,
          12.810009956359863,
          10.86332893371582,
          10.914426803588867,
          11.803121566772461,
          12.629871368408203,
          11.155268669128418,
          12.524456024169922,
          11.463672637939453,
          9.279749870300293,
          10.90581226348877,
          11.602435111999512,
          11.857990264892578,
          12.095375061035156,
          11.431591987609863,
          13.206196784973145,
          9.971590995788574,
          11.875825881958008,
          11.2594575881958,
          8.019597053527832,
          13.951772689819336,
          10.77610969543457,
          14.128881454467773,
          10.909133911132812,
          8.194304466247559,
          11.545425415039062,
          12.209117889404297,
          12.157469749450684,
          12.663111686706543,
          9.576166152954102,
          11.046558380126953,
          9.088574409484863,
          8.206008911132812,
          8.18415355682373,
          9.287734031677246,
          11.220379829406738,
          11.957252502441406,
          9.952274322509766,
          11.900033950805664,
          10.351805686950684,
          10.014215469360352,
          13.990078926086426,
          8.167318344116211,
          9.575994491577148,
          12.121009826660156,
          12.079593658447266,
          12.128643989562988,
          14.111464500427246,
          11.65099048614502,
          9.524454116821289,
          9.492095947265625,
          13.654341697692871,
          11.048458099365234,
          12.0654878616333,
          11.438331604003906,
          11.568184852600098,
          9.634765625,
          10.286386489868164,
          11.000604629516602,
          11.247040748596191,
          8.474045753479004,
          13.647584915161133,
          13.02782917022705,
          12.169821739196777,
          10.877272605895996,
          9.447382926940918,
          9.589015007019043,
          12.935636520385742,
          12.576876640319824,
          11.697237014770508,
          11.11825180053711,
          12.198003768920898,
          13.623950958251953,
          11.65764045715332,
          12.031896591186523,
          14.217133522033691,
          11.38061809539795,
          11.227680206298828,
          12.055763244628906,
          12.17856216430664,
          9.389039039611816,
          14.162516593933105,
          9.584513664245605,
          12.667747497558594,
          14.211559295654297,
          11.799949645996094,
          11.5628662109375,
          10.901494979858398,
          12.1024169921875,
          11.841984748840332,
          13.622825622558594,
          10.908141136169434,
          11.207012176513672,
          13.379372596740723,
          9.847461700439453,
          11.221936225891113,
          11.55884838104248,
          11.233461380004883,
          9.783135414123535,
          11.697046279907227,
          9.565593719482422,
          9.93078899383545,
          10.925206184387207,
          11.789848327636719,
          9.394547462463379,
          12.643771171569824,
          10.019797325134277,
          11.807536125183105,
          9.922242164611816,
          11.386163711547852,
          10.955491065979004,
          11.875700950622559,
          14.283971786499023,
          12.99197769165039,
          10.299979209899902,
          11.521286964416504,
          11.004558563232422,
          9.494668960571289,
          11.871428489685059,
          11.551316261291504,
          10.835882186889648,
          10.166871070861816,
          9.481398582458496,
          12.99123477935791,
          10.2167387008667,
          9.253464698791504,
          10.357931137084961,
          12.75748062133789,
          11.98285961151123,
          10.112297058105469,
          12.844135284423828,
          13.617725372314453,
          11.03653621673584,
          10.952428817749023,
          10.93713665008545,
          12.874883651733398,
          10.120875358581543,
          9.454608917236328,
          10.765006065368652,
          13.603226661682129,
          11.450939178466797,
          9.426806449890137,
          11.453782081604004,
          14.134284973144531,
          9.700416564941406,
          11.993010520935059,
          10.175990104675293,
          11.203507423400879,
          13.590656280517578,
          12.028528213500977,
          11.331960678100586,
          13.665572166442871,
          11.540621757507324,
          12.835848808288574,
          11.234248161315918,
          11.815733909606934,
          12.102432250976562,
          11.811763763427734,
          11.330586433410645,
          9.332158088684082,
          12.01396656036377,
          9.097150802612305,
          10.915671348571777,
          12.067459106445312,
          11.25114917755127,
          8.915404319763184,
          9.46303653717041,
          11.123564720153809,
          10.835498809814453,
          11.766901969909668,
          13.718170166015625,
          11.288609504699707,
          9.75885009765625,
          12.79805850982666,
          11.977851867675781,
          12.136750221252441,
          11.8483304977417,
          11.801946640014648,
          11.147103309631348,
          10.873109817504883,
          11.695073127746582,
          10.003692626953125,
          8.225748062133789,
          10.375663757324219,
          13.689796447753906,
          10.285883903503418,
          10.962698936462402,
          8.292560577392578,
          11.91850471496582,
          9.083428382873535,
          10.440665245056152,
          8.230891227722168,
          11.884647369384766,
          11.549843788146973,
          9.515724182128906,
          10.607770919799805,
          10.26750659942627,
          11.822463035583496,
          14.225505828857422,
          10.757627487182617,
          10.191431999206543,
          10.051630020141602,
          9.670032501220703,
          9.38194751739502,
          11.16025161743164,
          11.932247161865234,
          9.660418510437012,
          11.464079856872559,
          11.085049629211426,
          12.889025688171387,
          12.883707046508789,
          11.565435409545898,
          12.018841743469238,
          12.084607124328613,
          10.902301788330078,
          10.698798179626465,
          14.2746000289917,
          9.210009574890137,
          9.962991714477539,
          9.39961051940918,
          12.001785278320312,
          11.515411376953125,
          9.834643363952637,
          13.669502258300781,
          9.308185577392578,
          11.513514518737793,
          12.89877700805664,
          12.200080871582031,
          13.651542663574219,
          9.782364845275879,
          11.0153169631958,
          11.328787803649902,
          11.350285530090332,
          12.040534973144531,
          9.881023406982422,
          12.03402042388916,
          8.19310474395752,
          10.898096084594727,
          11.010313034057617,
          13.552301406860352,
          12.682307243347168,
          9.318991661071777,
          10.015761375427246,
          9.71817398071289,
          11.042881965637207,
          12.010297775268555,
          11.773870468139648,
          11.68847942352295,
          13.617582321166992,
          11.846007347106934,
          11.73393726348877,
          11.55403995513916,
          11.84301471710205,
          10.486490249633789,
          11.878525733947754,
          12.020709037780762,
          9.101880073547363,
          11.565348625183105,
          10.878983497619629,
          11.147124290466309,
          11.728118896484375,
          11.648418426513672,
          14.252704620361328,
          8.998541831970215,
          11.127717018127441,
          11.89739990234375,
          10.18842601776123,
          10.058582305908203,
          11.67123794555664,
          12.128981590270996,
          11.833525657653809,
          11.702569007873535,
          11.071948051452637,
          10.736804008483887,
          8.13071060180664,
          11.81490421295166,
          10.202919006347656,
          10.841450691223145,
          9.325653076171875,
          10.494296073913574,
          11.780317306518555,
          10.746993064880371,
          9.489946365356445,
          9.532102584838867,
          9.891791343688965,
          11.767695426940918,
          9.643573760986328,
          10.158055305480957,
          11.593952178955078,
          9.954619407653809,
          11.511427879333496,
          11.16070556640625,
          10.245048522949219,
          11.543039321899414,
          10.901065826416016,
          12.206914901733398,
          12.0099458694458,
          12.57565689086914,
          11.777063369750977,
          10.780190467834473,
          9.720966339111328,
          12.610651969909668,
          10.857678413391113,
          9.94287395477295,
          10.756217956542969,
          12.22326374053955,
          10.785829544067383,
          10.713783264160156,
          9.46732234954834,
          9.9349365234375,
          11.85085678100586,
          11.577393531799316,
          14.160075187683105,
          11.58423137664795,
          12.713815689086914,
          9.91016674041748,
          11.61089038848877,
          9.182554244995117,
          9.575418472290039,
          11.91707992553711,
          10.900259017944336,
          9.64782428741455,
          11.712813377380371,
          12.257624626159668,
          11.666255950927734,
          9.716856956481934,
          9.461912155151367,
          12.169200897216797,
          11.564740180969238,
          10.76806926727295,
          9.412907600402832,
          10.604825973510742,
          9.65440845489502,
          10.151143074035645,
          12.006427764892578,
          10.796463012695312,
          11.693684577941895,
          11.820505142211914,
          10.887752532958984,
          11.546493530273438,
          10.890472412109375,
          11.933547973632812,
          14.29794692993164,
          11.83448600769043,
          11.521470069885254,
          10.214742660522461,
          11.843138694763184,
          14.257561683654785,
          9.167654037475586,
          12.368085861206055,
          9.836958885192871,
          10.6989107131958,
          9.983898162841797,
          11.756199836730957,
          12.98436164855957,
          9.522275924682617,
          12.022321701049805,
          9.523619651794434,
          9.468135833740234,
          9.907084465026855,
          11.221648216247559,
          11.952622413635254,
          9.793394088745117,
          11.800085067749023,
          11.531050682067871,
          11.492108345031738,
          11.398504257202148,
          11.507781028747559,
          10.9237699508667,
          9.447608947753906,
          11.579154968261719,
          12.714868545532227,
          11.46782112121582,
          10.737268447875977,
          9.629798889160156,
          10.085497856140137,
          9.91462516784668,
          9.747540473937988,
          10.069392204284668,
          9.97411823272705,
          9.699441909790039,
          9.764504432678223,
          11.542259216308594,
          9.87134075164795,
          9.898703575134277,
          10.825358390808105,
          9.953932762145996,
          9.966066360473633,
          10.006209373474121,
          9.970635414123535,
          9.445916175842285,
          11.782780647277832,
          9.660136222839355,
          10.60931396484375,
          9.577216148376465,
          11.928491592407227,
          12.567580223083496,
          9.968606948852539,
          10.827614784240723,
          10.810855865478516,
          9.638381004333496,
          9.994202613830566,
          8.861746788024902,
          9.06928539276123,
          10.693865776062012,
          11.922144889831543,
          9.992834091186523,
          12.439814567565918,
          11.630026817321777,
          9.714069366455078,
          10.62283992767334,
          11.83884048461914,
          11.84719181060791,
          9.500470161437988,
          9.27043342590332,
          12.99055290222168,
          9.8640718460083,
          10.898838996887207,
          9.822467803955078,
          9.535350799560547,
          9.65099811553955,
          9.512789726257324,
          9.788740158081055,
          10.792769432067871,
          12.209486961364746,
          10.630284309387207,
          10.84691047668457,
          9.094060897827148,
          10.968656539916992,
          9.390664100646973,
          12.398209571838379,
          12.448853492736816,
          10.847535133361816,
          10.145283699035645,
          9.28691291809082,
          9.65491771697998,
          10.016555786132812,
          9.130152702331543,
          9.492729187011719,
          11.966567039489746,
          9.829071998596191,
          11.765901565551758,
          10.444592475891113,
          9.403934478759766,
          10.58130931854248,
          10.859363555908203,
          9.898460388183594,
          13.6890869140625,
          11.922651290893555,
          12.018342018127441,
          10.821322441101074,
          14.214835166931152,
          10.351463317871094,
          11.745147705078125,
          11.784634590148926,
          9.060401916503906,
          11.857916831970215,
          11.031859397888184,
          11.394590377807617,
          10.070904731750488,
          14.212745666503906,
          11.766798973083496,
          10.213018417358398,
          13.635261535644531,
          9.576737403869629,
          9.50743579864502,
          10.444458961486816,
          9.649086952209473,
          9.688753128051758,
          13.04636287689209,
          9.965252876281738,
          9.14295482635498,
          10.851910591125488,
          8.867761611938477,
          9.6622314453125,
          11.589097023010254,
          9.447287559509277,
          9.069581985473633,
          10.034814834594727,
          11.699844360351562,
          10.494819641113281,
          11.842904090881348,
          9.179779052734375,
          9.588272094726562,
          9.881704330444336,
          11.7517671585083,
          9.367959022521973,
          8.960155487060547,
          9.264486312866211,
          9.3271484375,
          9.270610809326172,
          10.02164363861084,
          10.069634437561035,
          9.460226058959961,
          14.293719291687012,
          8.916168212890625,
          9.738187789916992,
          9.089951515197754,
          9.939675331115723,
          11.215757369995117,
          10.243261337280273,
          9.457340240478516,
          9.098730087280273,
          9.06124496459961,
          8.858527183532715,
          12.512556076049805,
          10.0122709274292,
          12.172107696533203,
          12.135929107666016,
          8.883216857910156,
          9.08137035369873,
          9.433934211730957,
          8.993258476257324,
          8.9791841506958,
          9.106536865234375,
          9.631613731384277,
          9.028854370117188,
          8.809602737426758,
          9.558964729309082,
          9.9994478225708,
          13.39916706085205,
          9.013948440551758,
          9.029634475708008,
          8.992910385131836,
          14.22641372680664,
          10.053364753723145,
          8.892477035522461,
          11.731559753417969,
          8.859786033630371,
          11.46589469909668,
          9.264968872070312,
          14.176342010498047,
          13.472405433654785,
          9.46789836883545,
          9.294766426086426,
          9.903560638427734,
          13.667693138122559,
          9.300646781921387,
          12.213171005249023,
          8.91438102722168,
          11.464971542358398,
          13.818842887878418,
          10.77929401397705,
          9.397561073303223,
          10.048919677734375,
          9.454526901245117,
          10.649868965148926,
          9.261224746704102,
          9.211444854736328,
          11.887333869934082,
          11.626824378967285,
          10.635908126831055,
          8.847439765930176,
          11.18539810180664,
          13.666563034057617,
          10.430747985839844,
          14.187972068786621,
          8.641568183898926,
          9.040989875793457,
          8.887983322143555,
          11.77958869934082,
          9.90304946899414,
          11.287308692932129,
          8.833780288696289,
          9.590132713317871,
          10.468757629394531,
          11.225252151489258,
          9.976364135742188,
          9.593403816223145,
          9.135862350463867,
          9.456369400024414,
          10.055614471435547,
          9.569439888000488,
          11.121061325073242,
          9.094260215759277,
          9.722251892089844,
          9.663509368896484,
          9.08626937866211,
          8.612774848937988,
          8.60373306274414,
          9.108463287353516,
          10.598597526550293,
          11.411675453186035,
          9.93302059173584,
          8.812004089355469,
          8.938275337219238,
          9.048688888549805,
          8.618769645690918,
          10.592151641845703,
          10.86669921875,
          8.883758544921875,
          9.048568725585938,
          10.917062759399414,
          8.641558647155762,
          10.59048843383789,
          12.026103973388672,
          8.986495018005371,
          9.804062843322754,
          9.221550941467285,
          8.849974632263184,
          12.078810691833496
         ],
         "yaxis": "y"
        }
       ],
       "layout": {
        "coloraxis": {
         "colorbar": {
          "title": {
           "text": "Cluster Labels"
          }
         },
         "colorscale": [
          [
           0,
           "#0d0887"
          ],
          [
           0.1111111111111111,
           "#46039f"
          ],
          [
           0.2222222222222222,
           "#7201a8"
          ],
          [
           0.3333333333333333,
           "#9c179e"
          ],
          [
           0.4444444444444444,
           "#bd3786"
          ],
          [
           0.5555555555555556,
           "#d8576b"
          ],
          [
           0.6666666666666666,
           "#ed7953"
          ],
          [
           0.7777777777777778,
           "#fb9f3a"
          ],
          [
           0.8888888888888888,
           "#fdca26"
          ],
          [
           1,
           "#f0f921"
          ]
         ]
        },
        "legend": {
         "tracegroupgap": 0
        },
        "template": {
         "data": {
          "bar": [
           {
            "error_x": {
             "color": "#2a3f5f"
            },
            "error_y": {
             "color": "#2a3f5f"
            },
            "marker": {
             "line": {
              "color": "#E5ECF6",
              "width": 0.5
             },
             "pattern": {
              "fillmode": "overlay",
              "size": 10,
              "solidity": 0.2
             }
            },
            "type": "bar"
           }
          ],
          "barpolar": [
           {
            "marker": {
             "line": {
              "color": "#E5ECF6",
              "width": 0.5
             },
             "pattern": {
              "fillmode": "overlay",
              "size": 10,
              "solidity": 0.2
             }
            },
            "type": "barpolar"
           }
          ],
          "carpet": [
           {
            "aaxis": {
             "endlinecolor": "#2a3f5f",
             "gridcolor": "white",
             "linecolor": "white",
             "minorgridcolor": "white",
             "startlinecolor": "#2a3f5f"
            },
            "baxis": {
             "endlinecolor": "#2a3f5f",
             "gridcolor": "white",
             "linecolor": "white",
             "minorgridcolor": "white",
             "startlinecolor": "#2a3f5f"
            },
            "type": "carpet"
           }
          ],
          "choropleth": [
           {
            "colorbar": {
             "outlinewidth": 0,
             "ticks": ""
            },
            "type": "choropleth"
           }
          ],
          "contour": [
           {
            "colorbar": {
             "outlinewidth": 0,
             "ticks": ""
            },
            "colorscale": [
             [
              0,
              "#0d0887"
             ],
             [
              0.1111111111111111,
              "#46039f"
             ],
             [
              0.2222222222222222,
              "#7201a8"
             ],
             [
              0.3333333333333333,
              "#9c179e"
             ],
             [
              0.4444444444444444,
              "#bd3786"
             ],
             [
              0.5555555555555556,
              "#d8576b"
             ],
             [
              0.6666666666666666,
              "#ed7953"
             ],
             [
              0.7777777777777778,
              "#fb9f3a"
             ],
             [
              0.8888888888888888,
              "#fdca26"
             ],
             [
              1,
              "#f0f921"
             ]
            ],
            "type": "contour"
           }
          ],
          "contourcarpet": [
           {
            "colorbar": {
             "outlinewidth": 0,
             "ticks": ""
            },
            "type": "contourcarpet"
           }
          ],
          "heatmap": [
           {
            "colorbar": {
             "outlinewidth": 0,
             "ticks": ""
            },
            "colorscale": [
             [
              0,
              "#0d0887"
             ],
             [
              0.1111111111111111,
              "#46039f"
             ],
             [
              0.2222222222222222,
              "#7201a8"
             ],
             [
              0.3333333333333333,
              "#9c179e"
             ],
             [
              0.4444444444444444,
              "#bd3786"
             ],
             [
              0.5555555555555556,
              "#d8576b"
             ],
             [
              0.6666666666666666,
              "#ed7953"
             ],
             [
              0.7777777777777778,
              "#fb9f3a"
             ],
             [
              0.8888888888888888,
              "#fdca26"
             ],
             [
              1,
              "#f0f921"
             ]
            ],
            "type": "heatmap"
           }
          ],
          "heatmapgl": [
           {
            "colorbar": {
             "outlinewidth": 0,
             "ticks": ""
            },
            "colorscale": [
             [
              0,
              "#0d0887"
             ],
             [
              0.1111111111111111,
              "#46039f"
             ],
             [
              0.2222222222222222,
              "#7201a8"
             ],
             [
              0.3333333333333333,
              "#9c179e"
             ],
             [
              0.4444444444444444,
              "#bd3786"
             ],
             [
              0.5555555555555556,
              "#d8576b"
             ],
             [
              0.6666666666666666,
              "#ed7953"
             ],
             [
              0.7777777777777778,
              "#fb9f3a"
             ],
             [
              0.8888888888888888,
              "#fdca26"
             ],
             [
              1,
              "#f0f921"
             ]
            ],
            "type": "heatmapgl"
           }
          ],
          "histogram": [
           {
            "marker": {
             "pattern": {
              "fillmode": "overlay",
              "size": 10,
              "solidity": 0.2
             }
            },
            "type": "histogram"
           }
          ],
          "histogram2d": [
           {
            "colorbar": {
             "outlinewidth": 0,
             "ticks": ""
            },
            "colorscale": [
             [
              0,
              "#0d0887"
             ],
             [
              0.1111111111111111,
              "#46039f"
             ],
             [
              0.2222222222222222,
              "#7201a8"
             ],
             [
              0.3333333333333333,
              "#9c179e"
             ],
             [
              0.4444444444444444,
              "#bd3786"
             ],
             [
              0.5555555555555556,
              "#d8576b"
             ],
             [
              0.6666666666666666,
              "#ed7953"
             ],
             [
              0.7777777777777778,
              "#fb9f3a"
             ],
             [
              0.8888888888888888,
              "#fdca26"
             ],
             [
              1,
              "#f0f921"
             ]
            ],
            "type": "histogram2d"
           }
          ],
          "histogram2dcontour": [
           {
            "colorbar": {
             "outlinewidth": 0,
             "ticks": ""
            },
            "colorscale": [
             [
              0,
              "#0d0887"
             ],
             [
              0.1111111111111111,
              "#46039f"
             ],
             [
              0.2222222222222222,
              "#7201a8"
             ],
             [
              0.3333333333333333,
              "#9c179e"
             ],
             [
              0.4444444444444444,
              "#bd3786"
             ],
             [
              0.5555555555555556,
              "#d8576b"
             ],
             [
              0.6666666666666666,
              "#ed7953"
             ],
             [
              0.7777777777777778,
              "#fb9f3a"
             ],
             [
              0.8888888888888888,
              "#fdca26"
             ],
             [
              1,
              "#f0f921"
             ]
            ],
            "type": "histogram2dcontour"
           }
          ],
          "mesh3d": [
           {
            "colorbar": {
             "outlinewidth": 0,
             "ticks": ""
            },
            "type": "mesh3d"
           }
          ],
          "parcoords": [
           {
            "line": {
             "colorbar": {
              "outlinewidth": 0,
              "ticks": ""
             }
            },
            "type": "parcoords"
           }
          ],
          "pie": [
           {
            "automargin": true,
            "type": "pie"
           }
          ],
          "scatter": [
           {
            "fillpattern": {
             "fillmode": "overlay",
             "size": 10,
             "solidity": 0.2
            },
            "type": "scatter"
           }
          ],
          "scatter3d": [
           {
            "line": {
             "colorbar": {
              "outlinewidth": 0,
              "ticks": ""
             }
            },
            "marker": {
             "colorbar": {
              "outlinewidth": 0,
              "ticks": ""
             }
            },
            "type": "scatter3d"
           }
          ],
          "scattercarpet": [
           {
            "marker": {
             "colorbar": {
              "outlinewidth": 0,
              "ticks": ""
             }
            },
            "type": "scattercarpet"
           }
          ],
          "scattergeo": [
           {
            "marker": {
             "colorbar": {
              "outlinewidth": 0,
              "ticks": ""
             }
            },
            "type": "scattergeo"
           }
          ],
          "scattergl": [
           {
            "marker": {
             "colorbar": {
              "outlinewidth": 0,
              "ticks": ""
             }
            },
            "type": "scattergl"
           }
          ],
          "scattermapbox": [
           {
            "marker": {
             "colorbar": {
              "outlinewidth": 0,
              "ticks": ""
             }
            },
            "type": "scattermapbox"
           }
          ],
          "scatterpolar": [
           {
            "marker": {
             "colorbar": {
              "outlinewidth": 0,
              "ticks": ""
             }
            },
            "type": "scatterpolar"
           }
          ],
          "scatterpolargl": [
           {
            "marker": {
             "colorbar": {
              "outlinewidth": 0,
              "ticks": ""
             }
            },
            "type": "scatterpolargl"
           }
          ],
          "scatterternary": [
           {
            "marker": {
             "colorbar": {
              "outlinewidth": 0,
              "ticks": ""
             }
            },
            "type": "scatterternary"
           }
          ],
          "surface": [
           {
            "colorbar": {
             "outlinewidth": 0,
             "ticks": ""
            },
            "colorscale": [
             [
              0,
              "#0d0887"
             ],
             [
              0.1111111111111111,
              "#46039f"
             ],
             [
              0.2222222222222222,
              "#7201a8"
             ],
             [
              0.3333333333333333,
              "#9c179e"
             ],
             [
              0.4444444444444444,
              "#bd3786"
             ],
             [
              0.5555555555555556,
              "#d8576b"
             ],
             [
              0.6666666666666666,
              "#ed7953"
             ],
             [
              0.7777777777777778,
              "#fb9f3a"
             ],
             [
              0.8888888888888888,
              "#fdca26"
             ],
             [
              1,
              "#f0f921"
             ]
            ],
            "type": "surface"
           }
          ],
          "table": [
           {
            "cells": {
             "fill": {
              "color": "#EBF0F8"
             },
             "line": {
              "color": "white"
             }
            },
            "header": {
             "fill": {
              "color": "#C8D4E3"
             },
             "line": {
              "color": "white"
             }
            },
            "type": "table"
           }
          ]
         },
         "layout": {
          "annotationdefaults": {
           "arrowcolor": "#2a3f5f",
           "arrowhead": 0,
           "arrowwidth": 1
          },
          "autotypenumbers": "strict",
          "coloraxis": {
           "colorbar": {
            "outlinewidth": 0,
            "ticks": ""
           }
          },
          "colorscale": {
           "diverging": [
            [
             0,
             "#8e0152"
            ],
            [
             0.1,
             "#c51b7d"
            ],
            [
             0.2,
             "#de77ae"
            ],
            [
             0.3,
             "#f1b6da"
            ],
            [
             0.4,
             "#fde0ef"
            ],
            [
             0.5,
             "#f7f7f7"
            ],
            [
             0.6,
             "#e6f5d0"
            ],
            [
             0.7,
             "#b8e186"
            ],
            [
             0.8,
             "#7fbc41"
            ],
            [
             0.9,
             "#4d9221"
            ],
            [
             1,
             "#276419"
            ]
           ],
           "sequential": [
            [
             0,
             "#0d0887"
            ],
            [
             0.1111111111111111,
             "#46039f"
            ],
            [
             0.2222222222222222,
             "#7201a8"
            ],
            [
             0.3333333333333333,
             "#9c179e"
            ],
            [
             0.4444444444444444,
             "#bd3786"
            ],
            [
             0.5555555555555556,
             "#d8576b"
            ],
            [
             0.6666666666666666,
             "#ed7953"
            ],
            [
             0.7777777777777778,
             "#fb9f3a"
            ],
            [
             0.8888888888888888,
             "#fdca26"
            ],
            [
             1,
             "#f0f921"
            ]
           ],
           "sequentialminus": [
            [
             0,
             "#0d0887"
            ],
            [
             0.1111111111111111,
             "#46039f"
            ],
            [
             0.2222222222222222,
             "#7201a8"
            ],
            [
             0.3333333333333333,
             "#9c179e"
            ],
            [
             0.4444444444444444,
             "#bd3786"
            ],
            [
             0.5555555555555556,
             "#d8576b"
            ],
            [
             0.6666666666666666,
             "#ed7953"
            ],
            [
             0.7777777777777778,
             "#fb9f3a"
            ],
            [
             0.8888888888888888,
             "#fdca26"
            ],
            [
             1,
             "#f0f921"
            ]
           ]
          },
          "colorway": [
           "#636efa",
           "#EF553B",
           "#00cc96",
           "#ab63fa",
           "#FFA15A",
           "#19d3f3",
           "#FF6692",
           "#B6E880",
           "#FF97FF",
           "#FECB52"
          ],
          "font": {
           "color": "#2a3f5f"
          },
          "geo": {
           "bgcolor": "white",
           "lakecolor": "white",
           "landcolor": "#E5ECF6",
           "showlakes": true,
           "showland": true,
           "subunitcolor": "white"
          },
          "hoverlabel": {
           "align": "left"
          },
          "hovermode": "closest",
          "mapbox": {
           "style": "light"
          },
          "paper_bgcolor": "white",
          "plot_bgcolor": "#E5ECF6",
          "polar": {
           "angularaxis": {
            "gridcolor": "white",
            "linecolor": "white",
            "ticks": ""
           },
           "bgcolor": "#E5ECF6",
           "radialaxis": {
            "gridcolor": "white",
            "linecolor": "white",
            "ticks": ""
           }
          },
          "scene": {
           "xaxis": {
            "backgroundcolor": "#E5ECF6",
            "gridcolor": "white",
            "gridwidth": 2,
            "linecolor": "white",
            "showbackground": true,
            "ticks": "",
            "zerolinecolor": "white"
           },
           "yaxis": {
            "backgroundcolor": "#E5ECF6",
            "gridcolor": "white",
            "gridwidth": 2,
            "linecolor": "white",
            "showbackground": true,
            "ticks": "",
            "zerolinecolor": "white"
           },
           "zaxis": {
            "backgroundcolor": "#E5ECF6",
            "gridcolor": "white",
            "gridwidth": 2,
            "linecolor": "white",
            "showbackground": true,
            "ticks": "",
            "zerolinecolor": "white"
           }
          },
          "shapedefaults": {
           "line": {
            "color": "#2a3f5f"
           }
          },
          "ternary": {
           "aaxis": {
            "gridcolor": "white",
            "linecolor": "white",
            "ticks": ""
           },
           "baxis": {
            "gridcolor": "white",
            "linecolor": "white",
            "ticks": ""
           },
           "bgcolor": "#E5ECF6",
           "caxis": {
            "gridcolor": "white",
            "linecolor": "white",
            "ticks": ""
           }
          },
          "title": {
           "x": 0.05
          },
          "xaxis": {
           "automargin": true,
           "gridcolor": "white",
           "linecolor": "white",
           "ticks": "",
           "title": {
            "standoff": 15
           },
           "zerolinecolor": "white",
           "zerolinewidth": 2
          },
          "yaxis": {
           "automargin": true,
           "gridcolor": "white",
           "linecolor": "white",
           "ticks": "",
           "title": {
            "standoff": 15
           },
           "zerolinecolor": "white",
           "zerolinewidth": 2
          }
         }
        },
        "title": {
         "text": "Visualize Video Scripts"
        },
        "xaxis": {
         "anchor": "y",
         "domain": [
          0,
          1
         ],
         "title": {
          "text": "x"
         }
        },
        "yaxis": {
         "anchor": "x",
         "domain": [
          0,
          1
         ],
         "title": {
          "text": "y"
         }
        }
       }
      }
     },
     "metadata": {},
     "output_type": "display_data"
    }
   ],
   "source": [
    "import plotly.express as px\n",
    "\n",
    "col=\"umap_embeddings_2dim\"\n",
    "\n",
    "hover_data =[\"Id\", \"Cluster Labels\", \"Year\", \"View Count\", \"Like Count\"]\n",
    "hover_name = \"Title\"\n",
    "plot_values = np.stack(df[col], axis=1)\n",
    "\n",
    "\n",
    "x, y = plot_values[0], plot_values[1]\n",
    "fig = px.scatter(\n",
    "            df,\n",
    "            x=x,\n",
    "            y=y,\n",
    "            color=\"Cluster Labels\",\n",
    "            hover_data=hover_data,\n",
    "            title=\"Visualize Video Scripts\",\n",
    "            hover_name=hover_name,\n",
    "        )\n",
    "\n",
    "fig.show()"
   ]
  },
  {
   "cell_type": "code",
   "execution_count": 63,
   "metadata": {},
   "outputs": [],
   "source": [
    "\n",
    "filteredScripts = []\n",
    "\n",
    "# Remove stopwords, punctuations and proper nouns so that TFIDF works better to fetch keywords\n",
    "for caption in all_captions:\n",
    "\n",
    "      d = nlp(str(caption))\n",
    "      caption_annotated = [tok.text for tok in d if not\n",
    "                                  (tok.is_punct or tok.is_stop \n",
    "                                    or tok.is_space or tok.pos_ == \"PROPN\" )\n",
    "                                  ]\n",
    "      caption_annotated_string = ' '.join(caption_annotated)                         \n",
    "      filteredScripts.append(caption_annotated_string)"
   ]
  },
  {
   "cell_type": "code",
   "execution_count": 64,
   "metadata": {},
   "outputs": [
    {
     "data": {
      "text/html": [
       "<div>\n",
       "<style scoped>\n",
       "    .dataframe tbody tr th:only-of-type {\n",
       "        vertical-align: middle;\n",
       "    }\n",
       "\n",
       "    .dataframe tbody tr th {\n",
       "        vertical-align: top;\n",
       "    }\n",
       "\n",
       "    .dataframe thead th {\n",
       "        text-align: right;\n",
       "    }\n",
       "</style>\n",
       "<table border=\"1\" class=\"dataframe\">\n",
       "  <thead>\n",
       "    <tr style=\"text-align: right;\">\n",
       "      <th></th>\n",
       "      <th>Unnamed: 0</th>\n",
       "      <th>Id</th>\n",
       "      <th>Title</th>\n",
       "      <th>Published At</th>\n",
       "      <th>Captions</th>\n",
       "      <th>View Count</th>\n",
       "      <th>Like Count</th>\n",
       "      <th>Video Duration</th>\n",
       "      <th>CaptionsDuration</th>\n",
       "      <th>WordCount</th>\n",
       "      <th>Words Per Minute</th>\n",
       "      <th>Year</th>\n",
       "      <th>Full Embeddings</th>\n",
       "      <th>umap_embeddings_2dim</th>\n",
       "      <th>umap_embeddings_5dim</th>\n",
       "      <th>Cluster Labels</th>\n",
       "      <th>Filtered Scripts</th>\n",
       "    </tr>\n",
       "  </thead>\n",
       "  <tbody>\n",
       "    <tr>\n",
       "      <th>0</th>\n",
       "      <td>0</td>\n",
       "      <td>GQkkHtBD1BM</td>\n",
       "      <td>Taking 1000 Steps  In Every Smartwatch!</td>\n",
       "      <td>2024-01-19T23:44:36Z</td>\n",
       "      <td>I'm curious how accurate the step counters are...</td>\n",
       "      <td>13451274</td>\n",
       "      <td>515806</td>\n",
       "      <td>61.640</td>\n",
       "      <td>116.961</td>\n",
       "      <td>152</td>\n",
       "      <td>77.974710</td>\n",
       "      <td>2024</td>\n",
       "      <td>[-0.09249689429998398, -0.05101953074336052, -...</td>\n",
       "      <td>[8.06787395477295, 12.06462287902832]</td>\n",
       "      <td>[4.035818099975586, 5.40556001663208, 5.409874...</td>\n",
       "      <td>3</td>\n",
       "      <td>curious accurate step counters smart watches o...</td>\n",
       "    </tr>\n",
       "    <tr>\n",
       "      <th>1</th>\n",
       "      <td>1</td>\n",
       "      <td>B3szaVzQx0o</td>\n",
       "      <td>Google Pixel 8A Impressions: Just Get The 8!</td>\n",
       "      <td>2024-05-07T16:18:33Z</td>\n",
       "      <td>(bright music)   All right, so there is just o...</td>\n",
       "      <td>2445129</td>\n",
       "      <td>83538</td>\n",
       "      <td>441.624</td>\n",
       "      <td>440.281</td>\n",
       "      <td>1453</td>\n",
       "      <td>198.009907</td>\n",
       "      <td>2024</td>\n",
       "      <td>[-0.0974966511130333, -0.01660434529185295, 0....</td>\n",
       "      <td>[10.185091972351074, 11.051623344421387]</td>\n",
       "      <td>[3.593104600906372, 4.947223663330078, 5.67012...</td>\n",
       "      <td>8</td>\n",
       "      <td>bright music right thing starting feel little ...</td>\n",
       "    </tr>\n",
       "  </tbody>\n",
       "</table>\n",
       "</div>"
      ],
      "text/plain": [
       "   Unnamed: 0           Id                                         Title  \\\n",
       "0           0  GQkkHtBD1BM       Taking 1000 Steps  In Every Smartwatch!   \n",
       "1           1  B3szaVzQx0o  Google Pixel 8A Impressions: Just Get The 8!   \n",
       "\n",
       "           Published At                                           Captions  \\\n",
       "0  2024-01-19T23:44:36Z  I'm curious how accurate the step counters are...   \n",
       "1  2024-05-07T16:18:33Z  (bright music)   All right, so there is just o...   \n",
       "\n",
       "   View Count  Like Count  Video Duration  CaptionsDuration  WordCount  \\\n",
       "0    13451274      515806          61.640           116.961        152   \n",
       "1     2445129       83538         441.624           440.281       1453   \n",
       "\n",
       "   Words Per Minute  Year                                    Full Embeddings  \\\n",
       "0         77.974710  2024  [-0.09249689429998398, -0.05101953074336052, -...   \n",
       "1        198.009907  2024  [-0.0974966511130333, -0.01660434529185295, 0....   \n",
       "\n",
       "                       umap_embeddings_2dim  \\\n",
       "0     [8.06787395477295, 12.06462287902832]   \n",
       "1  [10.185091972351074, 11.051623344421387]   \n",
       "\n",
       "                                umap_embeddings_5dim  Cluster Labels  \\\n",
       "0  [4.035818099975586, 5.40556001663208, 5.409874...               3   \n",
       "1  [3.593104600906372, 4.947223663330078, 5.67012...               8   \n",
       "\n",
       "                                    Filtered Scripts  \n",
       "0  curious accurate step counters smart watches o...  \n",
       "1  bright music right thing starting feel little ...  "
      ]
     },
     "execution_count": 64,
     "metadata": {},
     "output_type": "execute_result"
    }
   ],
   "source": [
    "df['Filtered Scripts'] = filteredScripts\n",
    "df.head(2)"
   ]
  },
  {
   "cell_type": "code",
   "execution_count": 65,
   "metadata": {},
   "outputs": [
    {
     "data": {
      "text/html": [
       "<div>\n",
       "<style scoped>\n",
       "    .dataframe tbody tr th:only-of-type {\n",
       "        vertical-align: middle;\n",
       "    }\n",
       "\n",
       "    .dataframe tbody tr th {\n",
       "        vertical-align: top;\n",
       "    }\n",
       "\n",
       "    .dataframe thead th {\n",
       "        text-align: right;\n",
       "    }\n",
       "</style>\n",
       "<table border=\"1\" class=\"dataframe\">\n",
       "  <thead>\n",
       "    <tr style=\"text-align: right;\">\n",
       "      <th></th>\n",
       "      <th>Topic</th>\n",
       "      <th>Filtered Scripts</th>\n",
       "      <th>Title</th>\n",
       "      <th>Like Count</th>\n",
       "      <th>Count</th>\n",
       "      <th>View Count</th>\n",
       "      <th>Avg Like Count</th>\n",
       "      <th>Avg View Count</th>\n",
       "    </tr>\n",
       "  </thead>\n",
       "  <tbody>\n",
       "    <tr>\n",
       "      <th>0</th>\n",
       "      <td>-1</td>\n",
       "      <td>okay best features good object tracking perman...</td>\n",
       "      <td>Apple Vision Pro Hidden Feature ✈️ #protip WWD...</td>\n",
       "      <td>16539507</td>\n",
       "      <td>202</td>\n",
       "      <td>512390239</td>\n",
       "      <td>81878.747525</td>\n",
       "      <td>2.536585e+06</td>\n",
       "    </tr>\n",
       "    <tr>\n",
       "      <th>1</th>\n",
       "      <td>0</td>\n",
       "      <td>seated left driver newest car sick lot crazy f...</td>\n",
       "      <td>Unreal Engine 🤝 Electric Cars The Most Tech I&amp;...</td>\n",
       "      <td>5926118</td>\n",
       "      <td>46</td>\n",
       "      <td>171005986</td>\n",
       "      <td>128828.652174</td>\n",
       "      <td>3.717521e+06</td>\n",
       "    </tr>\n",
       "    <tr>\n",
       "      <th>2</th>\n",
       "      <td>1</td>\n",
       "      <td>music crazy interesting things new laptop reas...</td>\n",
       "      <td>Here&amp;#39;s the Thing about the M3 Macbook Air....</td>\n",
       "      <td>7510402</td>\n",
       "      <td>100</td>\n",
       "      <td>238113304</td>\n",
       "      <td>75104.020000</td>\n",
       "      <td>2.381133e+06</td>\n",
       "    </tr>\n",
       "    <tr>\n",
       "      <th>3</th>\n",
       "      <td>2</td>\n",
       "      <td>upbeat music AI box sign times thing lot commo...</td>\n",
       "      <td>Rabbit R1: Barely Reviewable Twitter’s Edit Bu...</td>\n",
       "      <td>12776015</td>\n",
       "      <td>208</td>\n",
       "      <td>336940417</td>\n",
       "      <td>61423.149038</td>\n",
       "      <td>1.619906e+06</td>\n",
       "    </tr>\n",
       "  </tbody>\n",
       "</table>\n",
       "</div>"
      ],
      "text/plain": [
       "   Topic                                   Filtered Scripts  \\\n",
       "0     -1  okay best features good object tracking perman...   \n",
       "1      0  seated left driver newest car sick lot crazy f...   \n",
       "2      1  music crazy interesting things new laptop reas...   \n",
       "3      2  upbeat music AI box sign times thing lot commo...   \n",
       "\n",
       "                                               Title  Like Count  Count  \\\n",
       "0  Apple Vision Pro Hidden Feature ✈️ #protip WWD...    16539507    202   \n",
       "1  Unreal Engine 🤝 Electric Cars The Most Tech I&...     5926118     46   \n",
       "2  Here&#39;s the Thing about the M3 Macbook Air....     7510402    100   \n",
       "3  Rabbit R1: Barely Reviewable Twitter’s Edit Bu...    12776015    208   \n",
       "\n",
       "   View Count  Avg Like Count  Avg View Count  \n",
       "0   512390239    81878.747525    2.536585e+06  \n",
       "1   171005986   128828.652174    3.717521e+06  \n",
       "2   238113304    75104.020000    2.381133e+06  \n",
       "3   336940417    61423.149038    1.619906e+06  "
      ]
     },
     "execution_count": 65,
     "metadata": {},
     "output_type": "execute_result"
    }
   ],
   "source": [
    "# Group scripts based on cluster\n",
    "docs_df_videos = pd.DataFrame(df, columns=[\"Filtered Scripts\", \"Title\", \"Like Count\", \"View Count\"])\n",
    "docs_df_videos['Topic'] = cluster_scripts.labels_\n",
    "docs_df_videos['Count'] = 1\n",
    "docs_df_videos = docs_df_videos.groupby(['Topic'], as_index = False).agg({'Filtered Scripts': ' '.join, 'Title': ' '.join, 'Like Count': 'sum', 'Count': 'count', 'View Count': 'sum'})\n",
    "\n",
    "docs_df_videos['Avg Like Count'] = docs_df_videos['Like Count'] / docs_df_videos['Count']\n",
    "docs_df_videos['Avg View Count'] = docs_df_videos['View Count'] / docs_df_videos['Count']\n",
    "\n",
    "docs_df_videos.head(4)"
   ]
  },
  {
   "cell_type": "code",
   "execution_count": 66,
   "metadata": {},
   "outputs": [
    {
     "data": {
      "image/png": "[encoded data removed]",
      "text/plain": [
       "<Figure size 640x480 with 1 Axes>"
      ]
     },
     "metadata": {},
     "output_type": "display_data"
    }
   ],
   "source": [
    "fig, ax = plt.subplots()\n",
    "\n",
    "x = docs_df_videos['Topic']\n",
    "y = docs_df_videos['Avg Like Count']\n",
    "\n",
    "ax.scatter(x, y, s=10)\n",
    "\n",
    "ax.set_xlabel('Topic')\n",
    "ax.set_ylabel('Avg Like Count')\n",
    "ax.set_title('Avg Like Count vs Topic')\n",
    "\n",
    "plt.show()"
   ]
  },
  {
   "cell_type": "code",
   "execution_count": 67,
   "metadata": {},
   "outputs": [
    {
     "data": {
      "image/png": "[encoded data removed]",
      "text/plain": [
       "<Figure size 640x480 with 1 Axes>"
      ]
     },
     "metadata": {},
     "output_type": "display_data"
    }
   ],
   "source": [
    "fig, ax = plt.subplots()\n",
    "\n",
    "x = docs_df_videos['Topic']\n",
    "y = docs_df_videos['Avg View Count']\n",
    "\n",
    "ax.scatter(x, y, s=10)\n",
    "\n",
    "ax.set_xlabel('Topic')\n",
    "ax.set_ylabel('Avg Avg Count')\n",
    "ax.set_title('Avg View Count vs Topic')\n",
    "\n",
    "plt.show()"
   ]
  },
  {
   "cell_type": "code",
   "execution_count": 68,
   "metadata": {},
   "outputs": [
    {
     "data": {
      "text/plain": [
       "Text(0.5, 1.0, 'Normalised Avg Counts vs Topic')"
      ]
     },
     "execution_count": 68,
     "metadata": {},
     "output_type": "execute_result"
    },
    {
     "data": {
      "image/png": "[encoded data removed]",
      "text/plain": [
       "<Figure size 640x480 with 1 Axes>"
      ]
     },
     "metadata": {},
     "output_type": "display_data"
    }
   ],
   "source": [
    "fig, ax = plt.subplots()\n",
    "\n",
    "x = docs_df_videos['Topic']\n",
    "y1 = docs_df_videos['Avg View Count']/1e7\n",
    "y2 = docs_df_videos['Avg Like Count']/1e6\n",
    "\n",
    "ax.scatter(x, y1, s=20, label = 'Avg View Count (in 1e7)')\n",
    "ax.scatter(x, y2, s=20, label = 'Avg Like Count (in 1e6)')\n",
    "\n",
    "ax.set_xlabel('Topic')\n",
    "ax.set_ylabel('Count')\n",
    "\n",
    "ax.legend(loc='upper left')\n",
    "ax.set_title('Normalised Avg Counts vs Topic')\n"
   ]
  },
  {
   "cell_type": "code",
   "execution_count": 69,
   "metadata": {},
   "outputs": [],
   "source": [
    "from sklearn.feature_extraction.text import CountVectorizer\n",
    "\n",
    "def c_tf_idf(documents, m, ngram_range=(1, 1)):\n",
    "    count = CountVectorizer(ngram_range=ngram_range, stop_words=\"english\").fit(documents)\n",
    "    t = count.transform(documents).toarray()\n",
    "    w = t.sum(axis=1)\n",
    "    tf = np.divide(t.T, w)\n",
    "    sum_t = t.sum(axis=0)\n",
    "    idf = np.log(np.divide(m, sum_t)).reshape(-1, 1)\n",
    "    tf_idf = np.multiply(tf, idf)\n",
    "\n",
    "    return tf_idf, count\n",
    "\n",
    "def extract_top_n_words_per_topic(tf_idf, count, docs_per_topic, n=20):\n",
    "    words = count.get_feature_names_out()\n",
    "    labels = list(docs_per_topic.Topic)\n",
    "    tf_idf_transposed = tf_idf.T\n",
    "    indices = tf_idf_transposed.argsort()[:, -n:]\n",
    "    top_n_words = {label: [(words[j], tf_idf_transposed[i][j]) for j in indices[i]][::-1] for i, label in enumerate(labels)}\n",
    "    return top_n_words\n",
    "\n",
    "def extract_topic_sizes(df):\n",
    "    topic_sizes = (df.groupby(['Topic'])\n",
    "                     .text\n",
    "                     .count()\n",
    "                     .reset_index()\n",
    "                     .rename({\"Topic\": \"Topic\", \"text\": \"Size\"}, axis='columns')\n",
    "                     .sort_values(\"Size\", ascending=False))\n",
    "    return topic_sizes"
   ]
  },
  {
   "cell_type": "code",
   "execution_count": 70,
   "metadata": {},
   "outputs": [],
   "source": [
    "tf_idf_plots, count_plots = c_tf_idf(docs_df_videos['Filtered Scripts'].values, m=len(docs_df_videos))"
   ]
  },
  {
   "cell_type": "code",
   "execution_count": 71,
   "metadata": {},
   "outputs": [],
   "source": [
    "top_n_words_plots = extract_top_n_words_per_topic(tf_idf_plots, count_plots, docs_df_videos, n=20)"
   ]
  },
  {
   "cell_type": "code",
   "execution_count": 73,
   "metadata": {},
   "outputs": [
    {
     "name": "stdout",
     "output_type": "stream",
     "text": [
      "{-1: 'nitrogen, factual, ions, hangout, fed, garnet, electrolyte',\n",
      " 0: 'vaporware, median, regenerative, tow, armrest, interiors, regen',\n",
      " 1: 'weights, easel, haswell, 8th, socket, overclocking, acer',\n",
      " 2: 'molecules, xlr, teleporting, 100th, zeros, zippers, evf',\n",
      " 3: 'speakerphone, fingertip, duet, electrocardiogram, flux, sharks, shower',\n",
      " 4: 'polls, upsets, totals, viruses, semifinals, madness, fakery',\n",
      " 5: 'lawsuit, postures, lastpass, accordion, assassinations, escobars, '\n",
      "    'watertight',\n",
      " 6: 'wasteful, lappable, 2732, demensity, riptide, flipboard, splotching',\n",
      " 7: 'jailbreaking, peppermint, t4i, nexus5, lime, jailbreak, kindle',\n",
      " 8: '8a, unblur, 363, chops, bathtub, 449, 4a5',\n",
      " 9: 'qc25s, coiled, bluebuds, mpow, sweatproof, audiophile, m70x',\n",
      " 10: '10rs, gizmodo, 11r, ingress, graphene, meteorite, a11',\n",
      " 11: 'qi2, exclamation, 1plus, clears, hamburger, distinguished, emphasized',\n",
      " 12: 'ltea, smudges, verdict, ip58, mediocre, metering, 50x'}\n"
     ]
    }
   ],
   "source": [
    "from pprint import pprint\n",
    "\n",
    "def get_topic_index_description(top_n_words,ncount):\n",
    "  topic_indexes = set(top_n_words.keys())\n",
    "  topic_index_description = {}\n",
    "  for topic_index in topic_indexes:\n",
    "    desc = top_n_words[topic_index]\n",
    "    desc = desc[:ncount]\n",
    "    desc_string = [x[0] for x in desc]\n",
    "    desc_string_mod = \", \".join(desc_string)\n",
    "    topic_index_description[topic_index]  = desc_string_mod\n",
    "  return topic_index_description\n",
    "\n",
    "topic_index_description = get_topic_index_description(top_n_words_plots,7)\n",
    "\n",
    "pprint (topic_index_description)"
   ]
  },
  {
   "cell_type": "code",
   "execution_count": null,
   "metadata": {},
   "outputs": [],
   "source": []
  }
 ],
 "metadata": {
  "kernelspec": {
   "display_name": ".venv",
   "language": "python",
   "name": "python3"
  },
  "language_info": {
   "codemirror_mode": {
    "name": "ipython",
    "version": 3
   },
   "file_extension": ".py",
   "mimetype": "text/x-python",
   "name": "python",
   "nbconvert_exporter": "python",
   "pygments_lexer": "ipython3",
   "version": "3.12.3"
  }
 },
 "nbformat": 4,
 "nbformat_minor": 2
}
